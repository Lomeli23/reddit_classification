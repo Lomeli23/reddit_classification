{
 "cells": [
  {
   "cell_type": "markdown",
   "id": "37a83457-1b44-411b-b168-a3f7b3339259",
   "metadata": {
    "tags": []
   },
   "source": [
    "# Project 3\n",
    "-----\n",
    "## Notebook 2: Modeling\n",
    "-----\n",
    "---"
   ]
  },
  {
   "cell_type": "markdown",
   "id": "f2a930b6-838c-4788-b5c1-a19241daf37c",
   "metadata": {
    "jp-MarkdownHeadingCollapsed": true,
    "tags": []
   },
   "source": [
    "#### The goal of this notebook is to evaluate the performance of multiple models on the `lemm_text`, `lemm_title`, `stem_text`, `stem_title` features to find the best performing model and parameters"
   ]
  },
  {
   "cell_type": "markdown",
   "id": "691d1acd-5193-4f09-b837-c5ff4ca8759a",
   "metadata": {},
   "source": [
    "#### Evaluate `LogisticRegression`, `KNeighborsClassifier`, `DecisionTreeClassifier`, and `NaiveBayes` models with both `CountVectorizer` and `TfidfVectorizer`"
   ]
  },
  {
   "cell_type": "markdown",
   "id": "ee4adbf0-086c-4a28-9cf4-5b947367cc0b",
   "metadata": {
    "jp-MarkdownHeadingCollapsed": true,
    "tags": []
   },
   "source": [
    "---\n",
    "----\n",
    "#### Imports and Data"
   ]
  },
  {
   "cell_type": "code",
   "execution_count": 1,
   "id": "fb3e80fd-58d7-4485-8763-61a89ce59d29",
   "metadata": {
    "tags": []
   },
   "outputs": [],
   "source": [
    "import pandas as pd\n",
    "import numpy as np\n",
    "import matplotlib.pyplot as plt\n",
    "import seaborn as sns\n",
    "\n",
    "from sklearn.model_selection import train_test_split, GridSearchCV\n",
    "from sklearn.pipeline import make_pipeline\n",
    "from sklearn.feature_extraction.text import CountVectorizer, TfidfVectorizer\n",
    "from sklearn.preprocessing import StandardScaler\n",
    "\n",
    "from sklearn.linear_model import LogisticRegression\n",
    "from sklearn.neighbors import KNeighborsClassifier\n",
    "from sklearn.tree import DecisionTreeClassifier\n",
    "from sklearn.naive_bayes import MultinomialNB\n",
    "\n",
    "from sklearn.metrics import ConfusionMatrixDisplay, recall_score, precision_score, balanced_accuracy_score, f1_score, RocCurveDisplay"
   ]
  },
  {
   "cell_type": "code",
   "execution_count": 2,
   "id": "35767964-ea42-48a5-bd32-a448a5fed4da",
   "metadata": {
    "tags": []
   },
   "outputs": [],
   "source": [
    "df = pd.read_csv('./P4_Datasets/programming_languages')"
   ]
  },
  {
   "cell_type": "markdown",
   "id": "4fa00b4b-d50c-4a3a-b3bb-df1ce4ed4fef",
   "metadata": {
    "jp-MarkdownHeadingCollapsed": true,
    "tags": []
   },
   "source": [
    "####\n",
    "-----\n",
    "----"
   ]
  },
  {
   "cell_type": "markdown",
   "id": "36ca35e4-3dcb-421d-9783-da11067a5746",
   "metadata": {
    "jp-MarkdownHeadingCollapsed": true,
    "tags": []
   },
   "source": [
    "### 1. Lemmatized text - Logistic Regression with Count Vectorizer"
   ]
  },
  {
   "cell_type": "code",
   "execution_count": 3,
   "id": "313ac85f-804b-4a65-b487-fdcb6a862513",
   "metadata": {
    "tags": []
   },
   "outputs": [],
   "source": [
    "X = df['lemm_text']\n",
    "y = df['target']"
   ]
  },
  {
   "cell_type": "code",
   "execution_count": 4,
   "id": "6b09f590-93e7-4a5d-8255-86a9e0146bf8",
   "metadata": {
    "tags": []
   },
   "outputs": [],
   "source": [
    "X_train, X_test, y_train, y_test = train_test_split(X, y, stratify = y, test_size = .2)"
   ]
  },
  {
   "cell_type": "code",
   "execution_count": 5,
   "id": "5ead4277-8fe9-43f2-b21e-c16562c4917e",
   "metadata": {
    "tags": []
   },
   "outputs": [],
   "source": [
    "lemm_pipe = make_pipeline(\n",
    "    CountVectorizer(),\n",
    "    StandardScaler(with_mean = False),\n",
    "    LogisticRegression(max_iter = 1_000_000))"
   ]
  },
  {
   "cell_type": "code",
   "execution_count": 6,
   "id": "04f9bfb8-b33d-4762-a710-3119c4a05e92",
   "metadata": {
    "tags": []
   },
   "outputs": [
    {
     "data": {
      "text/plain": [
       "{'memory': None,\n",
       " 'steps': [('countvectorizer', CountVectorizer()),\n",
       "  ('standardscaler', StandardScaler(with_mean=False)),\n",
       "  ('logisticregression', LogisticRegression(max_iter=1000000))],\n",
       " 'verbose': False,\n",
       " 'countvectorizer': CountVectorizer(),\n",
       " 'standardscaler': StandardScaler(with_mean=False),\n",
       " 'logisticregression': LogisticRegression(max_iter=1000000),\n",
       " 'countvectorizer__analyzer': 'word',\n",
       " 'countvectorizer__binary': False,\n",
       " 'countvectorizer__decode_error': 'strict',\n",
       " 'countvectorizer__dtype': numpy.int64,\n",
       " 'countvectorizer__encoding': 'utf-8',\n",
       " 'countvectorizer__input': 'content',\n",
       " 'countvectorizer__lowercase': True,\n",
       " 'countvectorizer__max_df': 1.0,\n",
       " 'countvectorizer__max_features': None,\n",
       " 'countvectorizer__min_df': 1,\n",
       " 'countvectorizer__ngram_range': (1, 1),\n",
       " 'countvectorizer__preprocessor': None,\n",
       " 'countvectorizer__stop_words': None,\n",
       " 'countvectorizer__strip_accents': None,\n",
       " 'countvectorizer__token_pattern': '(?u)\\\\b\\\\w\\\\w+\\\\b',\n",
       " 'countvectorizer__tokenizer': None,\n",
       " 'countvectorizer__vocabulary': None,\n",
       " 'standardscaler__copy': True,\n",
       " 'standardscaler__with_mean': False,\n",
       " 'standardscaler__with_std': True,\n",
       " 'logisticregression__C': 1.0,\n",
       " 'logisticregression__class_weight': None,\n",
       " 'logisticregression__dual': False,\n",
       " 'logisticregression__fit_intercept': True,\n",
       " 'logisticregression__intercept_scaling': 1,\n",
       " 'logisticregression__l1_ratio': None,\n",
       " 'logisticregression__max_iter': 1000000,\n",
       " 'logisticregression__multi_class': 'auto',\n",
       " 'logisticregression__n_jobs': None,\n",
       " 'logisticregression__penalty': 'l2',\n",
       " 'logisticregression__random_state': None,\n",
       " 'logisticregression__solver': 'lbfgs',\n",
       " 'logisticregression__tol': 0.0001,\n",
       " 'logisticregression__verbose': 0,\n",
       " 'logisticregression__warm_start': False}"
      ]
     },
     "execution_count": 6,
     "metadata": {},
     "output_type": "execute_result"
    }
   ],
   "source": [
    "lemm_pipe.get_params()"
   ]
  },
  {
   "cell_type": "code",
   "execution_count": 7,
   "id": "3f72d6c6-f799-4e7b-b1c7-d084f144d9de",
   "metadata": {
    "tags": []
   },
   "outputs": [],
   "source": [
    "lemm_gs = GridSearchCV(\n",
    "    lemm_pipe, \n",
    "    param_grid = {'countvectorizer__max_features': [250, 275, 290],\n",
    "                  'countvectorizer__ngram_range': [(1, 2), (1, 3)],\n",
    "                  'logisticregression__C': [10, 15]\n",
    "                 }\n",
    ")"
   ]
  },
  {
   "cell_type": "code",
   "execution_count": 8,
   "id": "6a3d2666-a582-4ed5-80f2-ac66ede71433",
   "metadata": {
    "tags": []
   },
   "outputs": [
    {
     "data": {
      "text/html": [
       "<style>#sk-container-id-1 {color: black;background-color: white;}#sk-container-id-1 pre{padding: 0;}#sk-container-id-1 div.sk-toggleable {background-color: white;}#sk-container-id-1 label.sk-toggleable__label {cursor: pointer;display: block;width: 100%;margin-bottom: 0;padding: 0.3em;box-sizing: border-box;text-align: center;}#sk-container-id-1 label.sk-toggleable__label-arrow:before {content: \"▸\";float: left;margin-right: 0.25em;color: #696969;}#sk-container-id-1 label.sk-toggleable__label-arrow:hover:before {color: black;}#sk-container-id-1 div.sk-estimator:hover label.sk-toggleable__label-arrow:before {color: black;}#sk-container-id-1 div.sk-toggleable__content {max-height: 0;max-width: 0;overflow: hidden;text-align: left;background-color: #f0f8ff;}#sk-container-id-1 div.sk-toggleable__content pre {margin: 0.2em;color: black;border-radius: 0.25em;background-color: #f0f8ff;}#sk-container-id-1 input.sk-toggleable__control:checked~div.sk-toggleable__content {max-height: 200px;max-width: 100%;overflow: auto;}#sk-container-id-1 input.sk-toggleable__control:checked~label.sk-toggleable__label-arrow:before {content: \"▾\";}#sk-container-id-1 div.sk-estimator input.sk-toggleable__control:checked~label.sk-toggleable__label {background-color: #d4ebff;}#sk-container-id-1 div.sk-label input.sk-toggleable__control:checked~label.sk-toggleable__label {background-color: #d4ebff;}#sk-container-id-1 input.sk-hidden--visually {border: 0;clip: rect(1px 1px 1px 1px);clip: rect(1px, 1px, 1px, 1px);height: 1px;margin: -1px;overflow: hidden;padding: 0;position: absolute;width: 1px;}#sk-container-id-1 div.sk-estimator {font-family: monospace;background-color: #f0f8ff;border: 1px dotted black;border-radius: 0.25em;box-sizing: border-box;margin-bottom: 0.5em;}#sk-container-id-1 div.sk-estimator:hover {background-color: #d4ebff;}#sk-container-id-1 div.sk-parallel-item::after {content: \"\";width: 100%;border-bottom: 1px solid gray;flex-grow: 1;}#sk-container-id-1 div.sk-label:hover label.sk-toggleable__label {background-color: #d4ebff;}#sk-container-id-1 div.sk-serial::before {content: \"\";position: absolute;border-left: 1px solid gray;box-sizing: border-box;top: 0;bottom: 0;left: 50%;z-index: 0;}#sk-container-id-1 div.sk-serial {display: flex;flex-direction: column;align-items: center;background-color: white;padding-right: 0.2em;padding-left: 0.2em;position: relative;}#sk-container-id-1 div.sk-item {position: relative;z-index: 1;}#sk-container-id-1 div.sk-parallel {display: flex;align-items: stretch;justify-content: center;background-color: white;position: relative;}#sk-container-id-1 div.sk-item::before, #sk-container-id-1 div.sk-parallel-item::before {content: \"\";position: absolute;border-left: 1px solid gray;box-sizing: border-box;top: 0;bottom: 0;left: 50%;z-index: -1;}#sk-container-id-1 div.sk-parallel-item {display: flex;flex-direction: column;z-index: 1;position: relative;background-color: white;}#sk-container-id-1 div.sk-parallel-item:first-child::after {align-self: flex-end;width: 50%;}#sk-container-id-1 div.sk-parallel-item:last-child::after {align-self: flex-start;width: 50%;}#sk-container-id-1 div.sk-parallel-item:only-child::after {width: 0;}#sk-container-id-1 div.sk-dashed-wrapped {border: 1px dashed gray;margin: 0 0.4em 0.5em 0.4em;box-sizing: border-box;padding-bottom: 0.4em;background-color: white;}#sk-container-id-1 div.sk-label label {font-family: monospace;font-weight: bold;display: inline-block;line-height: 1.2em;}#sk-container-id-1 div.sk-label-container {text-align: center;}#sk-container-id-1 div.sk-container {/* jupyter's `normalize.less` sets `[hidden] { display: none; }` but bootstrap.min.css set `[hidden] { display: none !important; }` so we also need the `!important` here to be able to override the default hidden behavior on the sphinx rendered scikit-learn.org. See: https://github.com/scikit-learn/scikit-learn/issues/21755 */display: inline-block !important;position: relative;}#sk-container-id-1 div.sk-text-repr-fallback {display: none;}</style><div id=\"sk-container-id-1\" class=\"sk-top-container\"><div class=\"sk-text-repr-fallback\"><pre>GridSearchCV(estimator=Pipeline(steps=[(&#x27;countvectorizer&#x27;, CountVectorizer()),\n",
       "                                       (&#x27;standardscaler&#x27;,\n",
       "                                        StandardScaler(with_mean=False)),\n",
       "                                       (&#x27;logisticregression&#x27;,\n",
       "                                        LogisticRegression(max_iter=1000000))]),\n",
       "             param_grid={&#x27;countvectorizer__max_features&#x27;: [250, 275, 290],\n",
       "                         &#x27;countvectorizer__ngram_range&#x27;: [(1, 2)],\n",
       "                         &#x27;logisticregression__C&#x27;: [10, 15]})</pre><b>In a Jupyter environment, please rerun this cell to show the HTML representation or trust the notebook. <br />On GitHub, the HTML representation is unable to render, please try loading this page with nbviewer.org.</b></div><div class=\"sk-container\" hidden><div class=\"sk-item sk-dashed-wrapped\"><div class=\"sk-label-container\"><div class=\"sk-label sk-toggleable\"><input class=\"sk-toggleable__control sk-hidden--visually\" id=\"sk-estimator-id-1\" type=\"checkbox\" ><label for=\"sk-estimator-id-1\" class=\"sk-toggleable__label sk-toggleable__label-arrow\">GridSearchCV</label><div class=\"sk-toggleable__content\"><pre>GridSearchCV(estimator=Pipeline(steps=[(&#x27;countvectorizer&#x27;, CountVectorizer()),\n",
       "                                       (&#x27;standardscaler&#x27;,\n",
       "                                        StandardScaler(with_mean=False)),\n",
       "                                       (&#x27;logisticregression&#x27;,\n",
       "                                        LogisticRegression(max_iter=1000000))]),\n",
       "             param_grid={&#x27;countvectorizer__max_features&#x27;: [250, 275, 290],\n",
       "                         &#x27;countvectorizer__ngram_range&#x27;: [(1, 2)],\n",
       "                         &#x27;logisticregression__C&#x27;: [10, 15]})</pre></div></div></div><div class=\"sk-parallel\"><div class=\"sk-parallel-item\"><div class=\"sk-item\"><div class=\"sk-label-container\"><div class=\"sk-label sk-toggleable\"><input class=\"sk-toggleable__control sk-hidden--visually\" id=\"sk-estimator-id-2\" type=\"checkbox\" ><label for=\"sk-estimator-id-2\" class=\"sk-toggleable__label sk-toggleable__label-arrow\">estimator: Pipeline</label><div class=\"sk-toggleable__content\"><pre>Pipeline(steps=[(&#x27;countvectorizer&#x27;, CountVectorizer()),\n",
       "                (&#x27;standardscaler&#x27;, StandardScaler(with_mean=False)),\n",
       "                (&#x27;logisticregression&#x27;, LogisticRegression(max_iter=1000000))])</pre></div></div></div><div class=\"sk-serial\"><div class=\"sk-item\"><div class=\"sk-serial\"><div class=\"sk-item\"><div class=\"sk-estimator sk-toggleable\"><input class=\"sk-toggleable__control sk-hidden--visually\" id=\"sk-estimator-id-3\" type=\"checkbox\" ><label for=\"sk-estimator-id-3\" class=\"sk-toggleable__label sk-toggleable__label-arrow\">CountVectorizer</label><div class=\"sk-toggleable__content\"><pre>CountVectorizer()</pre></div></div></div><div class=\"sk-item\"><div class=\"sk-estimator sk-toggleable\"><input class=\"sk-toggleable__control sk-hidden--visually\" id=\"sk-estimator-id-4\" type=\"checkbox\" ><label for=\"sk-estimator-id-4\" class=\"sk-toggleable__label sk-toggleable__label-arrow\">StandardScaler</label><div class=\"sk-toggleable__content\"><pre>StandardScaler(with_mean=False)</pre></div></div></div><div class=\"sk-item\"><div class=\"sk-estimator sk-toggleable\"><input class=\"sk-toggleable__control sk-hidden--visually\" id=\"sk-estimator-id-5\" type=\"checkbox\" ><label for=\"sk-estimator-id-5\" class=\"sk-toggleable__label sk-toggleable__label-arrow\">LogisticRegression</label><div class=\"sk-toggleable__content\"><pre>LogisticRegression(max_iter=1000000)</pre></div></div></div></div></div></div></div></div></div></div></div></div>"
      ],
      "text/plain": [
       "GridSearchCV(estimator=Pipeline(steps=[('countvectorizer', CountVectorizer()),\n",
       "                                       ('standardscaler',\n",
       "                                        StandardScaler(with_mean=False)),\n",
       "                                       ('logisticregression',\n",
       "                                        LogisticRegression(max_iter=1000000))]),\n",
       "             param_grid={'countvectorizer__max_features': [250, 275, 290],\n",
       "                         'countvectorizer__ngram_range': [(1, 2)],\n",
       "                         'logisticregression__C': [10, 15]})"
      ]
     },
     "execution_count": 8,
     "metadata": {},
     "output_type": "execute_result"
    }
   ],
   "source": [
    "lemm_gs.fit(X_train, y_train)"
   ]
  },
  {
   "cell_type": "code",
   "execution_count": 9,
   "id": "191d3075-9823-4435-bee7-19009d774697",
   "metadata": {
    "tags": []
   },
   "outputs": [
    {
     "data": {
      "text/plain": [
       "{'countvectorizer__max_features': 250,\n",
       " 'countvectorizer__ngram_range': (1, 2),\n",
       " 'logisticregression__C': 10}"
      ]
     },
     "execution_count": 9,
     "metadata": {},
     "output_type": "execute_result"
    }
   ],
   "source": [
    "lemm_gs.best_params_"
   ]
  },
  {
   "cell_type": "code",
   "execution_count": 10,
   "id": "f7d4527c-e9ee-4f68-b175-f52b135162a8",
   "metadata": {
    "tags": []
   },
   "outputs": [
    {
     "data": {
      "text/plain": [
       "0.7700348432055749"
      ]
     },
     "execution_count": 10,
     "metadata": {},
     "output_type": "execute_result"
    }
   ],
   "source": [
    "lemm_gs.score(X_test, y_test)"
   ]
  },
  {
   "cell_type": "code",
   "execution_count": 11,
   "id": "f2befee6-0108-483b-9d8e-6bc3c0650098",
   "metadata": {
    "tags": []
   },
   "outputs": [],
   "source": [
    "lemm_logcv_preds = lemm_gs.predict(X_test)"
   ]
  },
  {
   "cell_type": "code",
   "execution_count": 12,
   "id": "f365a271-acdc-44da-a619-a0d918cb87cf",
   "metadata": {
    "tags": []
   },
   "outputs": [
    {
     "data": {
      "text/plain": [
       "0.7883211678832117"
      ]
     },
     "execution_count": 12,
     "metadata": {},
     "output_type": "execute_result"
    }
   ],
   "source": [
    "precision_score(y_test, lemm_logcv_preds)"
   ]
  },
  {
   "cell_type": "code",
   "execution_count": 13,
   "id": "da412ae5-9965-4a59-8f62-d014698b967f",
   "metadata": {
    "tags": []
   },
   "outputs": [
    {
     "data": {
      "text/plain": [
       "0.7448275862068966"
      ]
     },
     "execution_count": 13,
     "metadata": {},
     "output_type": "execute_result"
    }
   ],
   "source": [
    "recall_score(y_test, lemm_logcv_preds)"
   ]
  },
  {
   "cell_type": "code",
   "execution_count": 14,
   "id": "e63fbef3-4114-466d-ba79-492bf82d0315",
   "metadata": {
    "tags": []
   },
   "outputs": [
    {
     "data": {
      "text/plain": [
       "0.7703011170471104"
      ]
     },
     "execution_count": 14,
     "metadata": {},
     "output_type": "execute_result"
    }
   ],
   "source": [
    "balanced_accuracy_score(y_test, lemm_logcv_preds)"
   ]
  },
  {
   "cell_type": "code",
   "execution_count": 15,
   "id": "1923005d-b8ca-4532-9353-a0c4ca8c039a",
   "metadata": {
    "tags": []
   },
   "outputs": [
    {
     "data": {
      "text/plain": [
       "0.7659574468085107"
      ]
     },
     "execution_count": 15,
     "metadata": {},
     "output_type": "execute_result"
    }
   ],
   "source": [
    "f1_score(y_test, lemm_logcv_preds)"
   ]
  },
  {
   "cell_type": "code",
   "execution_count": 16,
   "id": "b24f8758-040c-4481-9eab-0c19fd6dcdc2",
   "metadata": {
    "tags": []
   },
   "outputs": [
    {
     "data": {
      "image/png": "[encoded data removed]",
      "text/plain": [
       "<Figure size 640x480 with 1 Axes>"
      ]
     },
     "metadata": {},
     "output_type": "display_data"
    }
   ],
   "source": [
    "RocCurveDisplay.from_estimator(lemm_gs, X_test, y_test);"
   ]
  },
  {
   "cell_type": "code",
   "execution_count": null,
   "id": "a9d514a6-de90-4abd-978b-5134ff40e31e",
   "metadata": {},
   "outputs": [],
   "source": []
  },
  {
   "cell_type": "markdown",
   "id": "a3ed9893-d717-4509-971e-678ceff96f45",
   "metadata": {},
   "source": [
    "-------\n",
    "----"
   ]
  },
  {
   "cell_type": "markdown",
   "id": "e1488abe-294f-4fb4-8e49-eba79c9aa65b",
   "metadata": {},
   "source": [
    "-----\n",
    "----"
   ]
  },
  {
   "cell_type": "markdown",
   "id": "b928d86e-d903-490c-b54a-76792a10c495",
   "metadata": {
    "jp-MarkdownHeadingCollapsed": true,
    "tags": []
   },
   "source": [
    "### 2. Lemmatized text - Decision Tree with Tfidf Vectorizer"
   ]
  },
  {
   "cell_type": "code",
   "execution_count": 17,
   "id": "eb63437d-210d-4649-9d1d-6e2bb4d513ab",
   "metadata": {
    "tags": []
   },
   "outputs": [],
   "source": [
    "lemm_pipe_2 = make_pipeline(\n",
    "    TfidfVectorizer(),\n",
    "    StandardScaler(with_mean = False),\n",
    "    DecisionTreeClassifier()\n",
    ")"
   ]
  },
  {
   "cell_type": "code",
   "execution_count": 18,
   "id": "c3208ef9-c51f-4ad2-9802-4e746dd7a554",
   "metadata": {
    "tags": []
   },
   "outputs": [],
   "source": [
    "lemm_gs_2 = GridSearchCV(\n",
    "    lemm_pipe_2, \n",
    "    param_grid = {'tfidfvectorizer__max_features': [450, 500, 600],\n",
    "                  'tfidfvectorizer__ngram_range': [(1, 2), (1, 1)],\n",
    "                  'decisiontreeclassifier__max_depth': [10, 20, 40, 100],\n",
    "                  'decisiontreeclassifier__min_samples_split': [3, 5, 10, 20]\n",
    "                 }\n",
    ")"
   ]
  },
  {
   "cell_type": "code",
   "execution_count": 19,
   "id": "e3f6a887-62e6-45d0-961d-5b0e05c6e775",
   "metadata": {
    "tags": []
   },
   "outputs": [
    {
     "data": {
      "text/html": [
       "<style>#sk-container-id-2 {color: black;background-color: white;}#sk-container-id-2 pre{padding: 0;}#sk-container-id-2 div.sk-toggleable {background-color: white;}#sk-container-id-2 label.sk-toggleable__label {cursor: pointer;display: block;width: 100%;margin-bottom: 0;padding: 0.3em;box-sizing: border-box;text-align: center;}#sk-container-id-2 label.sk-toggleable__label-arrow:before {content: \"▸\";float: left;margin-right: 0.25em;color: #696969;}#sk-container-id-2 label.sk-toggleable__label-arrow:hover:before {color: black;}#sk-container-id-2 div.sk-estimator:hover label.sk-toggleable__label-arrow:before {color: black;}#sk-container-id-2 div.sk-toggleable__content {max-height: 0;max-width: 0;overflow: hidden;text-align: left;background-color: #f0f8ff;}#sk-container-id-2 div.sk-toggleable__content pre {margin: 0.2em;color: black;border-radius: 0.25em;background-color: #f0f8ff;}#sk-container-id-2 input.sk-toggleable__control:checked~div.sk-toggleable__content {max-height: 200px;max-width: 100%;overflow: auto;}#sk-container-id-2 input.sk-toggleable__control:checked~label.sk-toggleable__label-arrow:before {content: \"▾\";}#sk-container-id-2 div.sk-estimator input.sk-toggleable__control:checked~label.sk-toggleable__label {background-color: #d4ebff;}#sk-container-id-2 div.sk-label input.sk-toggleable__control:checked~label.sk-toggleable__label {background-color: #d4ebff;}#sk-container-id-2 input.sk-hidden--visually {border: 0;clip: rect(1px 1px 1px 1px);clip: rect(1px, 1px, 1px, 1px);height: 1px;margin: -1px;overflow: hidden;padding: 0;position: absolute;width: 1px;}#sk-container-id-2 div.sk-estimator {font-family: monospace;background-color: #f0f8ff;border: 1px dotted black;border-radius: 0.25em;box-sizing: border-box;margin-bottom: 0.5em;}#sk-container-id-2 div.sk-estimator:hover {background-color: #d4ebff;}#sk-container-id-2 div.sk-parallel-item::after {content: \"\";width: 100%;border-bottom: 1px solid gray;flex-grow: 1;}#sk-container-id-2 div.sk-label:hover label.sk-toggleable__label {background-color: #d4ebff;}#sk-container-id-2 div.sk-serial::before {content: \"\";position: absolute;border-left: 1px solid gray;box-sizing: border-box;top: 0;bottom: 0;left: 50%;z-index: 0;}#sk-container-id-2 div.sk-serial {display: flex;flex-direction: column;align-items: center;background-color: white;padding-right: 0.2em;padding-left: 0.2em;position: relative;}#sk-container-id-2 div.sk-item {position: relative;z-index: 1;}#sk-container-id-2 div.sk-parallel {display: flex;align-items: stretch;justify-content: center;background-color: white;position: relative;}#sk-container-id-2 div.sk-item::before, #sk-container-id-2 div.sk-parallel-item::before {content: \"\";position: absolute;border-left: 1px solid gray;box-sizing: border-box;top: 0;bottom: 0;left: 50%;z-index: -1;}#sk-container-id-2 div.sk-parallel-item {display: flex;flex-direction: column;z-index: 1;position: relative;background-color: white;}#sk-container-id-2 div.sk-parallel-item:first-child::after {align-self: flex-end;width: 50%;}#sk-container-id-2 div.sk-parallel-item:last-child::after {align-self: flex-start;width: 50%;}#sk-container-id-2 div.sk-parallel-item:only-child::after {width: 0;}#sk-container-id-2 div.sk-dashed-wrapped {border: 1px dashed gray;margin: 0 0.4em 0.5em 0.4em;box-sizing: border-box;padding-bottom: 0.4em;background-color: white;}#sk-container-id-2 div.sk-label label {font-family: monospace;font-weight: bold;display: inline-block;line-height: 1.2em;}#sk-container-id-2 div.sk-label-container {text-align: center;}#sk-container-id-2 div.sk-container {/* jupyter's `normalize.less` sets `[hidden] { display: none; }` but bootstrap.min.css set `[hidden] { display: none !important; }` so we also need the `!important` here to be able to override the default hidden behavior on the sphinx rendered scikit-learn.org. See: https://github.com/scikit-learn/scikit-learn/issues/21755 */display: inline-block !important;position: relative;}#sk-container-id-2 div.sk-text-repr-fallback {display: none;}</style><div id=\"sk-container-id-2\" class=\"sk-top-container\"><div class=\"sk-text-repr-fallback\"><pre>GridSearchCV(estimator=Pipeline(steps=[(&#x27;tfidfvectorizer&#x27;, TfidfVectorizer()),\n",
       "                                       (&#x27;standardscaler&#x27;,\n",
       "                                        StandardScaler(with_mean=False)),\n",
       "                                       (&#x27;decisiontreeclassifier&#x27;,\n",
       "                                        DecisionTreeClassifier())]),\n",
       "             param_grid={&#x27;decisiontreeclassifier__max_depth&#x27;: [10, 20, 40, 100],\n",
       "                         &#x27;decisiontreeclassifier__min_samples_split&#x27;: [3, 5, 10,\n",
       "                                                                       20],\n",
       "                         &#x27;tfidfvectorizer__max_features&#x27;: [450, 500, 600],\n",
       "                         &#x27;tfidfvectorizer__ngram_range&#x27;: [(1, 2), (1, 1)]})</pre><b>In a Jupyter environment, please rerun this cell to show the HTML representation or trust the notebook. <br />On GitHub, the HTML representation is unable to render, please try loading this page with nbviewer.org.</b></div><div class=\"sk-container\" hidden><div class=\"sk-item sk-dashed-wrapped\"><div class=\"sk-label-container\"><div class=\"sk-label sk-toggleable\"><input class=\"sk-toggleable__control sk-hidden--visually\" id=\"sk-estimator-id-6\" type=\"checkbox\" ><label for=\"sk-estimator-id-6\" class=\"sk-toggleable__label sk-toggleable__label-arrow\">GridSearchCV</label><div class=\"sk-toggleable__content\"><pre>GridSearchCV(estimator=Pipeline(steps=[(&#x27;tfidfvectorizer&#x27;, TfidfVectorizer()),\n",
       "                                       (&#x27;standardscaler&#x27;,\n",
       "                                        StandardScaler(with_mean=False)),\n",
       "                                       (&#x27;decisiontreeclassifier&#x27;,\n",
       "                                        DecisionTreeClassifier())]),\n",
       "             param_grid={&#x27;decisiontreeclassifier__max_depth&#x27;: [10, 20, 40, 100],\n",
       "                         &#x27;decisiontreeclassifier__min_samples_split&#x27;: [3, 5, 10,\n",
       "                                                                       20],\n",
       "                         &#x27;tfidfvectorizer__max_features&#x27;: [450, 500, 600],\n",
       "                         &#x27;tfidfvectorizer__ngram_range&#x27;: [(1, 2), (1, 1)]})</pre></div></div></div><div class=\"sk-parallel\"><div class=\"sk-parallel-item\"><div class=\"sk-item\"><div class=\"sk-label-container\"><div class=\"sk-label sk-toggleable\"><input class=\"sk-toggleable__control sk-hidden--visually\" id=\"sk-estimator-id-7\" type=\"checkbox\" ><label for=\"sk-estimator-id-7\" class=\"sk-toggleable__label sk-toggleable__label-arrow\">estimator: Pipeline</label><div class=\"sk-toggleable__content\"><pre>Pipeline(steps=[(&#x27;tfidfvectorizer&#x27;, TfidfVectorizer()),\n",
       "                (&#x27;standardscaler&#x27;, StandardScaler(with_mean=False)),\n",
       "                (&#x27;decisiontreeclassifier&#x27;, DecisionTreeClassifier())])</pre></div></div></div><div class=\"sk-serial\"><div class=\"sk-item\"><div class=\"sk-serial\"><div class=\"sk-item\"><div class=\"sk-estimator sk-toggleable\"><input class=\"sk-toggleable__control sk-hidden--visually\" id=\"sk-estimator-id-8\" type=\"checkbox\" ><label for=\"sk-estimator-id-8\" class=\"sk-toggleable__label sk-toggleable__label-arrow\">TfidfVectorizer</label><div class=\"sk-toggleable__content\"><pre>TfidfVectorizer()</pre></div></div></div><div class=\"sk-item\"><div class=\"sk-estimator sk-toggleable\"><input class=\"sk-toggleable__control sk-hidden--visually\" id=\"sk-estimator-id-9\" type=\"checkbox\" ><label for=\"sk-estimator-id-9\" class=\"sk-toggleable__label sk-toggleable__label-arrow\">StandardScaler</label><div class=\"sk-toggleable__content\"><pre>StandardScaler(with_mean=False)</pre></div></div></div><div class=\"sk-item\"><div class=\"sk-estimator sk-toggleable\"><input class=\"sk-toggleable__control sk-hidden--visually\" id=\"sk-estimator-id-10\" type=\"checkbox\" ><label for=\"sk-estimator-id-10\" class=\"sk-toggleable__label sk-toggleable__label-arrow\">DecisionTreeClassifier</label><div class=\"sk-toggleable__content\"><pre>DecisionTreeClassifier()</pre></div></div></div></div></div></div></div></div></div></div></div></div>"
      ],
      "text/plain": [
       "GridSearchCV(estimator=Pipeline(steps=[('tfidfvectorizer', TfidfVectorizer()),\n",
       "                                       ('standardscaler',\n",
       "                                        StandardScaler(with_mean=False)),\n",
       "                                       ('decisiontreeclassifier',\n",
       "                                        DecisionTreeClassifier())]),\n",
       "             param_grid={'decisiontreeclassifier__max_depth': [10, 20, 40, 100],\n",
       "                         'decisiontreeclassifier__min_samples_split': [3, 5, 10,\n",
       "                                                                       20],\n",
       "                         'tfidfvectorizer__max_features': [450, 500, 600],\n",
       "                         'tfidfvectorizer__ngram_range': [(1, 2), (1, 1)]})"
      ]
     },
     "execution_count": 19,
     "metadata": {},
     "output_type": "execute_result"
    }
   ],
   "source": [
    "lemm_gs_2.fit(X_train, y_train)"
   ]
  },
  {
   "cell_type": "code",
   "execution_count": 20,
   "id": "72169b5d-84b3-4f0c-8149-356bc4d2bafe",
   "metadata": {
    "tags": []
   },
   "outputs": [
    {
     "data": {
      "text/plain": [
       "0.8292682926829268"
      ]
     },
     "execution_count": 20,
     "metadata": {},
     "output_type": "execute_result"
    }
   ],
   "source": [
    "lemm_gs_2.score(X_test, y_test)"
   ]
  },
  {
   "cell_type": "code",
   "execution_count": 21,
   "id": "0a6c6134-775c-4e52-95d8-5cc35bbdfcb4",
   "metadata": {
    "tags": []
   },
   "outputs": [
    {
     "data": {
      "text/plain": [
       "<sklearn.metrics._plot.roc_curve.RocCurveDisplay at 0x135140ed0>"
      ]
     },
     "execution_count": 21,
     "metadata": {},
     "output_type": "execute_result"
    },
    {
     "data": {
      "image/png": "[encoded data removed]",
      "text/plain": [
       "<Figure size 640x480 with 1 Axes>"
      ]
     },
     "metadata": {},
     "output_type": "display_data"
    }
   ],
   "source": [
    "RocCurveDisplay.from_estimator(lemm_gs_2, X_test, y_test)"
   ]
  },
  {
   "cell_type": "code",
   "execution_count": 22,
   "id": "512ce0c3-6a5f-4aaa-b2fa-416194ffc517",
   "metadata": {
    "tags": []
   },
   "outputs": [
    {
     "data": {
      "text/plain": [
       "0.82"
      ]
     },
     "execution_count": 22,
     "metadata": {},
     "output_type": "execute_result"
    }
   ],
   "source": [
    "precision_score(y_test, lemm_gs_2.predict(X_test))"
   ]
  },
  {
   "cell_type": "code",
   "execution_count": 23,
   "id": "a0808afd-fb87-44cf-bf14-32584673d21d",
   "metadata": {
    "tags": []
   },
   "outputs": [
    {
     "data": {
      "text/plain": [
       "0.8482758620689655"
      ]
     },
     "execution_count": 23,
     "metadata": {},
     "output_type": "execute_result"
    }
   ],
   "source": [
    "recall_score(y_test, lemm_gs_2.predict(X_test))"
   ]
  },
  {
   "cell_type": "code",
   "execution_count": 24,
   "id": "153c069c-e065-40d4-b3cd-d3eb98117946",
   "metadata": {
    "tags": []
   },
   "outputs": [
    {
     "data": {
      "text/plain": [
       "0.8290675084992716"
      ]
     },
     "execution_count": 24,
     "metadata": {},
     "output_type": "execute_result"
    }
   ],
   "source": [
    "balanced_accuracy_score(y_test, lemm_gs_2.predict(X_test))"
   ]
  },
  {
   "cell_type": "code",
   "execution_count": 25,
   "id": "6696e0cb-7890-4e0a-be7c-89f9a97626a1",
   "metadata": {
    "tags": []
   },
   "outputs": [
    {
     "data": {
      "text/plain": [
       "0.8338983050847457"
      ]
     },
     "execution_count": 25,
     "metadata": {},
     "output_type": "execute_result"
    }
   ],
   "source": [
    "f1_score(y_test, lemm_gs_2.predict(X_test))"
   ]
  },
  {
   "cell_type": "markdown",
   "id": "0cf8be58-7144-4aee-9b67-cf9339a4c594",
   "metadata": {},
   "source": [
    "-----\n",
    "---"
   ]
  },
  {
   "cell_type": "markdown",
   "id": "d0da1d68-d588-4224-ada4-1fad03805754",
   "metadata": {
    "jp-MarkdownHeadingCollapsed": true,
    "tags": []
   },
   "source": [
    "### 3. Lemmatized text - Naive Bayes with Tfidf Vectorizer"
   ]
  },
  {
   "cell_type": "code",
   "execution_count": 26,
   "id": "ce9f1e2c-d7bb-4072-bba5-40a99bc674de",
   "metadata": {
    "tags": []
   },
   "outputs": [],
   "source": [
    "lemm_pipe_3 = make_pipeline(\n",
    "    TfidfVectorizer(),\n",
    "    StandardScaler(with_mean = False),\n",
    "    MultinomialNB()\n",
    ")"
   ]
  },
  {
   "cell_type": "code",
   "execution_count": 27,
   "id": "0e71a882-86cd-42ce-9fdd-3bd8e3b24530",
   "metadata": {
    "tags": []
   },
   "outputs": [],
   "source": [
    "lemm_gs_3 = GridSearchCV(\n",
    "    lemm_pipe_3, \n",
    "    param_grid = {'tfidfvectorizer__max_features': [450, 500, 600],\n",
    "                  'tfidfvectorizer__ngram_range': [(1, 2), (1, 1)],\n",
    "                  'multinomialnb__alpha': [0.1, 1, 10, 50, 100]\n",
    "                 }\n",
    ")"
   ]
  },
  {
   "cell_type": "code",
   "execution_count": 28,
   "id": "c1d9fa9d-c54a-4662-b7c0-0161fd716f71",
   "metadata": {
    "tags": []
   },
   "outputs": [
    {
     "data": {
      "text/html": [
       "<style>#sk-container-id-3 {color: black;background-color: white;}#sk-container-id-3 pre{padding: 0;}#sk-container-id-3 div.sk-toggleable {background-color: white;}#sk-container-id-3 label.sk-toggleable__label {cursor: pointer;display: block;width: 100%;margin-bottom: 0;padding: 0.3em;box-sizing: border-box;text-align: center;}#sk-container-id-3 label.sk-toggleable__label-arrow:before {content: \"▸\";float: left;margin-right: 0.25em;color: #696969;}#sk-container-id-3 label.sk-toggleable__label-arrow:hover:before {color: black;}#sk-container-id-3 div.sk-estimator:hover label.sk-toggleable__label-arrow:before {color: black;}#sk-container-id-3 div.sk-toggleable__content {max-height: 0;max-width: 0;overflow: hidden;text-align: left;background-color: #f0f8ff;}#sk-container-id-3 div.sk-toggleable__content pre {margin: 0.2em;color: black;border-radius: 0.25em;background-color: #f0f8ff;}#sk-container-id-3 input.sk-toggleable__control:checked~div.sk-toggleable__content {max-height: 200px;max-width: 100%;overflow: auto;}#sk-container-id-3 input.sk-toggleable__control:checked~label.sk-toggleable__label-arrow:before {content: \"▾\";}#sk-container-id-3 div.sk-estimator input.sk-toggleable__control:checked~label.sk-toggleable__label {background-color: #d4ebff;}#sk-container-id-3 div.sk-label input.sk-toggleable__control:checked~label.sk-toggleable__label {background-color: #d4ebff;}#sk-container-id-3 input.sk-hidden--visually {border: 0;clip: rect(1px 1px 1px 1px);clip: rect(1px, 1px, 1px, 1px);height: 1px;margin: -1px;overflow: hidden;padding: 0;position: absolute;width: 1px;}#sk-container-id-3 div.sk-estimator {font-family: monospace;background-color: #f0f8ff;border: 1px dotted black;border-radius: 0.25em;box-sizing: border-box;margin-bottom: 0.5em;}#sk-container-id-3 div.sk-estimator:hover {background-color: #d4ebff;}#sk-container-id-3 div.sk-parallel-item::after {content: \"\";width: 100%;border-bottom: 1px solid gray;flex-grow: 1;}#sk-container-id-3 div.sk-label:hover label.sk-toggleable__label {background-color: #d4ebff;}#sk-container-id-3 div.sk-serial::before {content: \"\";position: absolute;border-left: 1px solid gray;box-sizing: border-box;top: 0;bottom: 0;left: 50%;z-index: 0;}#sk-container-id-3 div.sk-serial {display: flex;flex-direction: column;align-items: center;background-color: white;padding-right: 0.2em;padding-left: 0.2em;position: relative;}#sk-container-id-3 div.sk-item {position: relative;z-index: 1;}#sk-container-id-3 div.sk-parallel {display: flex;align-items: stretch;justify-content: center;background-color: white;position: relative;}#sk-container-id-3 div.sk-item::before, #sk-container-id-3 div.sk-parallel-item::before {content: \"\";position: absolute;border-left: 1px solid gray;box-sizing: border-box;top: 0;bottom: 0;left: 50%;z-index: -1;}#sk-container-id-3 div.sk-parallel-item {display: flex;flex-direction: column;z-index: 1;position: relative;background-color: white;}#sk-container-id-3 div.sk-parallel-item:first-child::after {align-self: flex-end;width: 50%;}#sk-container-id-3 div.sk-parallel-item:last-child::after {align-self: flex-start;width: 50%;}#sk-container-id-3 div.sk-parallel-item:only-child::after {width: 0;}#sk-container-id-3 div.sk-dashed-wrapped {border: 1px dashed gray;margin: 0 0.4em 0.5em 0.4em;box-sizing: border-box;padding-bottom: 0.4em;background-color: white;}#sk-container-id-3 div.sk-label label {font-family: monospace;font-weight: bold;display: inline-block;line-height: 1.2em;}#sk-container-id-3 div.sk-label-container {text-align: center;}#sk-container-id-3 div.sk-container {/* jupyter's `normalize.less` sets `[hidden] { display: none; }` but bootstrap.min.css set `[hidden] { display: none !important; }` so we also need the `!important` here to be able to override the default hidden behavior on the sphinx rendered scikit-learn.org. See: https://github.com/scikit-learn/scikit-learn/issues/21755 */display: inline-block !important;position: relative;}#sk-container-id-3 div.sk-text-repr-fallback {display: none;}</style><div id=\"sk-container-id-3\" class=\"sk-top-container\"><div class=\"sk-text-repr-fallback\"><pre>GridSearchCV(estimator=Pipeline(steps=[(&#x27;tfidfvectorizer&#x27;, TfidfVectorizer()),\n",
       "                                       (&#x27;standardscaler&#x27;,\n",
       "                                        StandardScaler(with_mean=False)),\n",
       "                                       (&#x27;multinomialnb&#x27;, MultinomialNB())]),\n",
       "             param_grid={&#x27;multinomialnb__alpha&#x27;: [0.1, 1, 10, 50, 100],\n",
       "                         &#x27;tfidfvectorizer__max_features&#x27;: [450, 500, 600],\n",
       "                         &#x27;tfidfvectorizer__ngram_range&#x27;: [(1, 2), (1, 1)]})</pre><b>In a Jupyter environment, please rerun this cell to show the HTML representation or trust the notebook. <br />On GitHub, the HTML representation is unable to render, please try loading this page with nbviewer.org.</b></div><div class=\"sk-container\" hidden><div class=\"sk-item sk-dashed-wrapped\"><div class=\"sk-label-container\"><div class=\"sk-label sk-toggleable\"><input class=\"sk-toggleable__control sk-hidden--visually\" id=\"sk-estimator-id-11\" type=\"checkbox\" ><label for=\"sk-estimator-id-11\" class=\"sk-toggleable__label sk-toggleable__label-arrow\">GridSearchCV</label><div class=\"sk-toggleable__content\"><pre>GridSearchCV(estimator=Pipeline(steps=[(&#x27;tfidfvectorizer&#x27;, TfidfVectorizer()),\n",
       "                                       (&#x27;standardscaler&#x27;,\n",
       "                                        StandardScaler(with_mean=False)),\n",
       "                                       (&#x27;multinomialnb&#x27;, MultinomialNB())]),\n",
       "             param_grid={&#x27;multinomialnb__alpha&#x27;: [0.1, 1, 10, 50, 100],\n",
       "                         &#x27;tfidfvectorizer__max_features&#x27;: [450, 500, 600],\n",
       "                         &#x27;tfidfvectorizer__ngram_range&#x27;: [(1, 2), (1, 1)]})</pre></div></div></div><div class=\"sk-parallel\"><div class=\"sk-parallel-item\"><div class=\"sk-item\"><div class=\"sk-label-container\"><div class=\"sk-label sk-toggleable\"><input class=\"sk-toggleable__control sk-hidden--visually\" id=\"sk-estimator-id-12\" type=\"checkbox\" ><label for=\"sk-estimator-id-12\" class=\"sk-toggleable__label sk-toggleable__label-arrow\">estimator: Pipeline</label><div class=\"sk-toggleable__content\"><pre>Pipeline(steps=[(&#x27;tfidfvectorizer&#x27;, TfidfVectorizer()),\n",
       "                (&#x27;standardscaler&#x27;, StandardScaler(with_mean=False)),\n",
       "                (&#x27;multinomialnb&#x27;, MultinomialNB())])</pre></div></div></div><div class=\"sk-serial\"><div class=\"sk-item\"><div class=\"sk-serial\"><div class=\"sk-item\"><div class=\"sk-estimator sk-toggleable\"><input class=\"sk-toggleable__control sk-hidden--visually\" id=\"sk-estimator-id-13\" type=\"checkbox\" ><label for=\"sk-estimator-id-13\" class=\"sk-toggleable__label sk-toggleable__label-arrow\">TfidfVectorizer</label><div class=\"sk-toggleable__content\"><pre>TfidfVectorizer()</pre></div></div></div><div class=\"sk-item\"><div class=\"sk-estimator sk-toggleable\"><input class=\"sk-toggleable__control sk-hidden--visually\" id=\"sk-estimator-id-14\" type=\"checkbox\" ><label for=\"sk-estimator-id-14\" class=\"sk-toggleable__label sk-toggleable__label-arrow\">StandardScaler</label><div class=\"sk-toggleable__content\"><pre>StandardScaler(with_mean=False)</pre></div></div></div><div class=\"sk-item\"><div class=\"sk-estimator sk-toggleable\"><input class=\"sk-toggleable__control sk-hidden--visually\" id=\"sk-estimator-id-15\" type=\"checkbox\" ><label for=\"sk-estimator-id-15\" class=\"sk-toggleable__label sk-toggleable__label-arrow\">MultinomialNB</label><div class=\"sk-toggleable__content\"><pre>MultinomialNB()</pre></div></div></div></div></div></div></div></div></div></div></div></div>"
      ],
      "text/plain": [
       "GridSearchCV(estimator=Pipeline(steps=[('tfidfvectorizer', TfidfVectorizer()),\n",
       "                                       ('standardscaler',\n",
       "                                        StandardScaler(with_mean=False)),\n",
       "                                       ('multinomialnb', MultinomialNB())]),\n",
       "             param_grid={'multinomialnb__alpha': [0.1, 1, 10, 50, 100],\n",
       "                         'tfidfvectorizer__max_features': [450, 500, 600],\n",
       "                         'tfidfvectorizer__ngram_range': [(1, 2), (1, 1)]})"
      ]
     },
     "execution_count": 28,
     "metadata": {},
     "output_type": "execute_result"
    }
   ],
   "source": [
    "lemm_gs_3.fit(X_train, y_train)"
   ]
  },
  {
   "cell_type": "code",
   "execution_count": 29,
   "id": "1b9327c4-5693-49e8-9271-81b7ffeebfc0",
   "metadata": {
    "tags": []
   },
   "outputs": [
    {
     "data": {
      "text/plain": [
       "0.7700348432055749"
      ]
     },
     "execution_count": 29,
     "metadata": {},
     "output_type": "execute_result"
    }
   ],
   "source": [
    "lemm_gs_3.score(X_test, y_test)"
   ]
  },
  {
   "cell_type": "code",
   "execution_count": 30,
   "id": "248a5250-d471-4dff-8ccf-eccd9b17665b",
   "metadata": {
    "tags": []
   },
   "outputs": [
    {
     "data": {
      "text/plain": [
       "<sklearn.metrics._plot.roc_curve.RocCurveDisplay at 0x144664e10>"
      ]
     },
     "execution_count": 30,
     "metadata": {},
     "output_type": "execute_result"
    },
    {
     "data": {
      "image/png": "[encoded data removed]",
      "text/plain": [
       "<Figure size 640x480 with 1 Axes>"
      ]
     },
     "metadata": {},
     "output_type": "display_data"
    }
   ],
   "source": [
    "RocCurveDisplay.from_estimator(lemm_gs_3, X_test, y_test)"
   ]
  },
  {
   "cell_type": "code",
   "execution_count": 31,
   "id": "25e2e0d6-9a73-4133-b34c-2ca1d0405b72",
   "metadata": {
    "tags": []
   },
   "outputs": [
    {
     "data": {
      "text/plain": [
       "0.8137931034482758"
      ]
     },
     "execution_count": 31,
     "metadata": {},
     "output_type": "execute_result"
    }
   ],
   "source": [
    "recall_score(y_test, lemm_gs_3.predict(X_test))"
   ]
  },
  {
   "cell_type": "code",
   "execution_count": 32,
   "id": "6f0b3f00-ff2e-4902-bec8-e64b8c2c1544",
   "metadata": {
    "tags": []
   },
   "outputs": [
    {
     "data": {
      "text/plain": [
       "0.7515923566878981"
      ]
     },
     "execution_count": 32,
     "metadata": {},
     "output_type": "execute_result"
    }
   ],
   "source": [
    "precision_score(y_test, lemm_gs_3.predict(X_test))"
   ]
  },
  {
   "cell_type": "code",
   "execution_count": 33,
   "id": "e189dbc2-a1ee-476d-861f-8a2c3b56c7fc",
   "metadata": {
    "tags": []
   },
   "outputs": [
    {
     "data": {
      "text/plain": [
       "0.7695726080621661"
      ]
     },
     "execution_count": 33,
     "metadata": {},
     "output_type": "execute_result"
    }
   ],
   "source": [
    "balanced_accuracy_score(y_test, lemm_gs_3.predict(X_test))"
   ]
  },
  {
   "cell_type": "code",
   "execution_count": 34,
   "id": "c7fced11-af84-426e-83b2-4a02553864b6",
   "metadata": {
    "tags": []
   },
   "outputs": [
    {
     "data": {
      "text/plain": [
       "0.7814569536423841"
      ]
     },
     "execution_count": 34,
     "metadata": {},
     "output_type": "execute_result"
    }
   ],
   "source": [
    "f1_score(y_test, lemm_gs_3.predict(X_test))"
   ]
  },
  {
   "cell_type": "markdown",
   "id": "cc09e420-114a-47e8-9c68-c875f818f68c",
   "metadata": {
    "jp-MarkdownHeadingCollapsed": true,
    "tags": []
   },
   "source": [
    "## Section 1: Functions"
   ]
  },
  {
   "cell_type": "markdown",
   "id": "c99dc21f-4677-4515-aef5-647cff5d2f75",
   "metadata": {
    "tags": []
   },
   "source": [
    "#### First Function:\n",
    "- Accepts a classifier, X variable, and y variable as arguments \n",
    "- Uses a pipeline with CountVectorizer, StandardScaler, and the classifier passed to the function\n",
    "- Uses GridSearchCV to search over the best parameters for count vectorizer\n",
    "- Train / Test splits the data\n",
    "- Fits the model\n",
    "- Makes predictions\n",
    "- Evaluates the models performance\n",
    "- Retuns a DataFrame with the model's performance metrics\n",
    "\n",
    "#### Second Function: \n",
    "- Same thing as above, but use TfidfVectorizer instead of CountVectorizer"
   ]
  },
  {
   "cell_type": "code",
   "execution_count": 35,
   "id": "bded2b86-0b79-4dfd-9fca-306f176f0580",
   "metadata": {
    "tags": []
   },
   "outputs": [],
   "source": [
    "def model_eval_cvect(classifier, X, y):\n",
    "    pipe = make_pipeline(\n",
    "        CountVectorizer(),\n",
    "        StandardScaler(with_mean = False),\n",
    "        classifier\n",
    "        )\n",
    "         \n",
    "    gs = GridSearchCV(\n",
    "        pipe,\n",
    "        param_grid = {\n",
    "            'countvectorizer__max_features': [350, 450, 550, 650],\n",
    "            'countvectorizer__ngram_range': [(1, 2), (1, 1)]\n",
    "            })\n",
    "    \n",
    "    X_train, X_test, y_train, y_test = train_test_split(X, y, stratify = y, test_size = .2)\n",
    "    \n",
    "    gs.fit(X_train, y_train)\n",
    "    \n",
    "    preds = gs.predict(X_test)\n",
    "    \n",
    "    test_score = gs.score(X_test, y_test)\n",
    "    \n",
    "    train_score = gs.score(X_train, y_train)\n",
    "    \n",
    "    balanced_accuracy = balanced_accuracy_score(y_test, preds)\n",
    "\n",
    "    precision = precision_score(y_test, preds)\n",
    "    \n",
    "    recall = recall_score(y_test, preds)\n",
    "    \n",
    "    f1 = f1_score(y_test, preds)\n",
    "        \n",
    "    metrics = {\n",
    "        'Test Data Accuracy': test_score,\n",
    "        'Train Data Accuracy': train_score,\n",
    "        'Balanced Accuracy Score': balanced_accuracy,\n",
    "        'Precision': precision,\n",
    "        'Recall': recall,\n",
    "        'f1 score': f1,\n",
    "    }\n",
    "        \n",
    "    return pd.DataFrame(metrics.values(), index = metrics.keys(), columns = [f'{classifier} with CVect - Metrics'])\n",
    "    \n",
    "    "
   ]
  },
  {
   "cell_type": "code",
   "execution_count": 36,
   "id": "067826de-c65d-4705-a56d-12f93f279d0d",
   "metadata": {
    "tags": []
   },
   "outputs": [],
   "source": [
    "def model_eval_tfidf(classifier, X, y):\n",
    "    pipe = make_pipeline(\n",
    "        TfidfVectorizer(),\n",
    "        StandardScaler(with_mean = False),\n",
    "        classifier\n",
    "        )\n",
    "         \n",
    "    gs = GridSearchCV(\n",
    "        pipe,\n",
    "        param_grid = {\n",
    "            'tfidfvectorizer__max_features': [350, 450, 550, 650],\n",
    "            'tfidfvectorizer__ngram_range': [(1, 2), (1, 1)]\n",
    "            })\n",
    "    \n",
    "    X_train, X_test, y_train, y_test = train_test_split(X, y, stratify = y, test_size = .2)\n",
    "    \n",
    "    gs.fit(X_train, y_train)\n",
    "    \n",
    "    preds = gs.predict(X_test)\n",
    "    \n",
    "    test_score = gs.score(X_test, y_test)\n",
    "    \n",
    "    train_score = gs.score(X_train, y_train)\n",
    "    \n",
    "    balanced_accuracy = balanced_accuracy_score(y_test, preds)\n",
    "\n",
    "    precision = precision_score(y_test, preds)\n",
    "    \n",
    "    recall = recall_score(y_test, preds)\n",
    "    \n",
    "    f1 = f1_score(y_test, preds)\n",
    "        \n",
    "    metrics = {\n",
    "        'Test Data Accuracy': test_score,\n",
    "        'Train Data Accuracy': train_score,\n",
    "        'Balanced Accuracy Score': balanced_accuracy,\n",
    "        'Precision': precision,\n",
    "        'Recall': recall,\n",
    "        'f1 score': f1,\n",
    "    }\n",
    "        \n",
    "    return pd.DataFrame(metrics.values(), index = metrics.keys(), columns = [f'{classifier} with TfidfVect - Metrics'])"
   ]
  },
  {
   "cell_type": "markdown",
   "id": "bff9408f-4d97-4e07-8b5a-78d5f5e02d7c",
   "metadata": {},
   "source": [
    "-----"
   ]
  },
  {
   "cell_type": "markdown",
   "id": "219bb48b-e555-41da-b47a-46b9fdfaed97",
   "metadata": {},
   "source": [
    "------"
   ]
  },
  {
   "cell_type": "markdown",
   "id": "39324de3-dfef-4cbc-a86e-bde22868f800",
   "metadata": {
    "tags": []
   },
   "source": [
    "## Section 2: Model, Predict, & Evaluate"
   ]
  },
  {
   "cell_type": "markdown",
   "id": "0b6fbbec-1826-426a-9166-a8c5153f4539",
   "metadata": {},
   "source": [
    "#### Create and evaluate the following models on the following columns using **BOTH** functions above (with CountVectorizer and TfidfVectorizer):\n",
    "\n",
    "**Models**:\n",
    "- `LogistisicRegression`\n",
    "- `KNeighborsClassifier`\n",
    "- `DecisionTreeClassifier`\n",
    "- `MultinomialNB` \n",
    "\n",
    "\n",
    "**Columns**:\n",
    "- `lemm_title`\n",
    "- `lemm_text`\n",
    "- `stem_title`\n",
    "- `stem_text`\n",
    "\n",
    "\n",
    "#### Evaluate one model type at a time, but on each feature and function consecutively in order to find the best model."
   ]
  },
  {
   "cell_type": "markdown",
   "id": "971221fc-b1e6-41ab-8290-1306a8722ebd",
   "metadata": {
    "jp-MarkdownHeadingCollapsed": true,
    "tags": []
   },
   "source": [
    "### I. Logistic Regression"
   ]
  },
  {
   "cell_type": "markdown",
   "id": "7898f26a-748c-4c5a-996f-217cbcf9f45e",
   "metadata": {
    "tags": []
   },
   "source": [
    "#### with CountVectorizer"
   ]
  },
  {
   "cell_type": "code",
   "execution_count": 37,
   "id": "1ac837e7-0211-44b2-9b41-f3111465fdaf",
   "metadata": {
    "tags": []
   },
   "outputs": [
    {
     "data": {
      "text/html": [
       "<div>\n",
       "<style scoped>\n",
       "    .dataframe tbody tr th:only-of-type {\n",
       "        vertical-align: middle;\n",
       "    }\n",
       "\n",
       "    .dataframe tbody tr th {\n",
       "        vertical-align: top;\n",
       "    }\n",
       "\n",
       "    .dataframe thead th {\n",
       "        text-align: right;\n",
       "    }\n",
       "</style>\n",
       "<table border=\"1\" class=\"dataframe\">\n",
       "  <thead>\n",
       "    <tr style=\"text-align: right;\">\n",
       "      <th></th>\n",
       "      <th>LogisticRegression(C=0.2) with CVect - Metrics</th>\n",
       "    </tr>\n",
       "  </thead>\n",
       "  <tbody>\n",
       "    <tr>\n",
       "      <th>Test Data Accuracy</th>\n",
       "      <td>0.822300</td>\n",
       "    </tr>\n",
       "    <tr>\n",
       "      <th>Train Data Accuracy</th>\n",
       "      <td>0.958952</td>\n",
       "    </tr>\n",
       "    <tr>\n",
       "      <th>Balanced Accuracy Score</th>\n",
       "      <td>0.821442</td>\n",
       "    </tr>\n",
       "    <tr>\n",
       "      <th>Precision</th>\n",
       "      <td>0.779762</td>\n",
       "    </tr>\n",
       "    <tr>\n",
       "      <th>Recall</th>\n",
       "      <td>0.903448</td>\n",
       "    </tr>\n",
       "    <tr>\n",
       "      <th>f1 score</th>\n",
       "      <td>0.837061</td>\n",
       "    </tr>\n",
       "  </tbody>\n",
       "</table>\n",
       "</div>"
      ],
      "text/plain": [
       "                         LogisticRegression(C=0.2) with CVect - Metrics\n",
       "Test Data Accuracy                                             0.822300\n",
       "Train Data Accuracy                                            0.958952\n",
       "Balanced Accuracy Score                                        0.821442\n",
       "Precision                                                      0.779762\n",
       "Recall                                                         0.903448\n",
       "f1 score                                                       0.837061"
      ]
     },
     "execution_count": 37,
     "metadata": {},
     "output_type": "execute_result"
    }
   ],
   "source": [
    "#Logistic Regression - cvect - lemm_title\n",
    "\n",
    "logr_cvect_lemm_title = model_eval_cvect(LogisticRegression(C = .2), \n",
    "                                    X = df['lemm_title'], \n",
    "                                    y = df['target'])\n",
    "\n",
    "logr_cvect_lemm_title"
   ]
  },
  {
   "cell_type": "code",
   "execution_count": 38,
   "id": "21bc5d46-09ef-489c-8906-7d8c0182af9f",
   "metadata": {
    "tags": []
   },
   "outputs": [
    {
     "data": {
      "text/plain": [
       "0.8538274913205015"
      ]
     },
     "execution_count": 38,
     "metadata": {},
     "output_type": "execute_result"
    }
   ],
   "source": [
    "logr_cvect_lemm_title['LogisticRegression(C=0.2) with CVect - Metrics'].mean()"
   ]
  },
  {
   "cell_type": "code",
   "execution_count": 39,
   "id": "6f6216c3-7f63-4199-bdbb-d19ddc54d37e",
   "metadata": {
    "tags": []
   },
   "outputs": [
    {
     "data": {
      "text/html": [
       "<div>\n",
       "<style scoped>\n",
       "    .dataframe tbody tr th:only-of-type {\n",
       "        vertical-align: middle;\n",
       "    }\n",
       "\n",
       "    .dataframe tbody tr th {\n",
       "        vertical-align: top;\n",
       "    }\n",
       "\n",
       "    .dataframe thead th {\n",
       "        text-align: right;\n",
       "    }\n",
       "</style>\n",
       "<table border=\"1\" class=\"dataframe\">\n",
       "  <thead>\n",
       "    <tr style=\"text-align: right;\">\n",
       "      <th></th>\n",
       "      <th>LogisticRegression(C=0.5) with CVect - Metrics</th>\n",
       "    </tr>\n",
       "  </thead>\n",
       "  <tbody>\n",
       "    <tr>\n",
       "      <th>Test Data Accuracy</th>\n",
       "      <td>0.770035</td>\n",
       "    </tr>\n",
       "    <tr>\n",
       "      <th>Train Data Accuracy</th>\n",
       "      <td>0.947598</td>\n",
       "    </tr>\n",
       "    <tr>\n",
       "      <th>Balanced Accuracy Score</th>\n",
       "      <td>0.769791</td>\n",
       "    </tr>\n",
       "    <tr>\n",
       "      <th>Precision</th>\n",
       "      <td>0.761589</td>\n",
       "    </tr>\n",
       "    <tr>\n",
       "      <th>Recall</th>\n",
       "      <td>0.793103</td>\n",
       "    </tr>\n",
       "    <tr>\n",
       "      <th>f1 score</th>\n",
       "      <td>0.777027</td>\n",
       "    </tr>\n",
       "  </tbody>\n",
       "</table>\n",
       "</div>"
      ],
      "text/plain": [
       "                         LogisticRegression(C=0.5) with CVect - Metrics\n",
       "Test Data Accuracy                                             0.770035\n",
       "Train Data Accuracy                                            0.947598\n",
       "Balanced Accuracy Score                                        0.769791\n",
       "Precision                                                      0.761589\n",
       "Recall                                                         0.793103\n",
       "f1 score                                                       0.777027"
      ]
     },
     "execution_count": 39,
     "metadata": {},
     "output_type": "execute_result"
    }
   ],
   "source": [
    "#Logistic Regression - cvect - lemm_text\n",
    "\n",
    "logr_cvect_lemm_text = model_eval_cvect(LogisticRegression(C = .5), \n",
    "                                        X = df['lemm_text'], \n",
    "                                        y = df['target'])\n",
    "\n",
    "logr_cvect_lemm_text"
   ]
  },
  {
   "cell_type": "code",
   "execution_count": 40,
   "id": "bec17d48-6bd6-4b82-9f33-88e8a9447556",
   "metadata": {
    "tags": []
   },
   "outputs": [
    {
     "data": {
      "text/plain": [
       "0.8031906894191221"
      ]
     },
     "execution_count": 40,
     "metadata": {},
     "output_type": "execute_result"
    }
   ],
   "source": [
    "logr_cvect_lemm_text['LogisticRegression(C=0.5) with CVect - Metrics'].mean()"
   ]
  },
  {
   "cell_type": "code",
   "execution_count": 41,
   "id": "94b09626-60c7-492a-90e2-0d20d3a4ff4e",
   "metadata": {
    "tags": []
   },
   "outputs": [
    {
     "data": {
      "text/html": [
       "<div>\n",
       "<style scoped>\n",
       "    .dataframe tbody tr th:only-of-type {\n",
       "        vertical-align: middle;\n",
       "    }\n",
       "\n",
       "    .dataframe tbody tr th {\n",
       "        vertical-align: top;\n",
       "    }\n",
       "\n",
       "    .dataframe thead th {\n",
       "        text-align: right;\n",
       "    }\n",
       "</style>\n",
       "<table border=\"1\" class=\"dataframe\">\n",
       "  <thead>\n",
       "    <tr style=\"text-align: right;\">\n",
       "      <th></th>\n",
       "      <th>LogisticRegression() with CVect - Metrics</th>\n",
       "    </tr>\n",
       "  </thead>\n",
       "  <tbody>\n",
       "    <tr>\n",
       "      <th>Test Data Accuracy</th>\n",
       "      <td>0.797909</td>\n",
       "    </tr>\n",
       "    <tr>\n",
       "      <th>Train Data Accuracy</th>\n",
       "      <td>0.970306</td>\n",
       "    </tr>\n",
       "    <tr>\n",
       "      <th>Balanced Accuracy Score</th>\n",
       "      <td>0.796867</td>\n",
       "    </tr>\n",
       "    <tr>\n",
       "      <th>Precision</th>\n",
       "      <td>0.751445</td>\n",
       "    </tr>\n",
       "    <tr>\n",
       "      <th>Recall</th>\n",
       "      <td>0.896552</td>\n",
       "    </tr>\n",
       "    <tr>\n",
       "      <th>f1 score</th>\n",
       "      <td>0.817610</td>\n",
       "    </tr>\n",
       "  </tbody>\n",
       "</table>\n",
       "</div>"
      ],
      "text/plain": [
       "                         LogisticRegression() with CVect - Metrics\n",
       "Test Data Accuracy                                        0.797909\n",
       "Train Data Accuracy                                       0.970306\n",
       "Balanced Accuracy Score                                   0.796867\n",
       "Precision                                                 0.751445\n",
       "Recall                                                    0.896552\n",
       "f1 score                                                  0.817610"
      ]
     },
     "execution_count": 41,
     "metadata": {},
     "output_type": "execute_result"
    }
   ],
   "source": [
    "#Logistic Regression - cvect - stem_title\n",
    "\n",
    "logr_cvect_stem_title = model_eval_cvect(LogisticRegression(), \n",
    "                                        X = df['stem_title'], \n",
    "                                        y = df['target'])\n",
    "\n",
    "logr_cvect_stem_title"
   ]
  },
  {
   "cell_type": "code",
   "execution_count": 42,
   "id": "3ef8fff2-7850-4394-a316-d2d6d2a26150",
   "metadata": {
    "tags": []
   },
   "outputs": [
    {
     "data": {
      "text/plain": [
       "0.8384482282703926"
      ]
     },
     "execution_count": 42,
     "metadata": {},
     "output_type": "execute_result"
    }
   ],
   "source": [
    "logr_cvect_stem_title['LogisticRegression() with CVect - Metrics'].mean()"
   ]
  },
  {
   "cell_type": "code",
   "execution_count": 43,
   "id": "c6aede54-c42e-4f71-9aa6-36524a99bfb4",
   "metadata": {
    "tags": []
   },
   "outputs": [
    {
     "data": {
      "text/html": [
       "<div>\n",
       "<style scoped>\n",
       "    .dataframe tbody tr th:only-of-type {\n",
       "        vertical-align: middle;\n",
       "    }\n",
       "\n",
       "    .dataframe tbody tr th {\n",
       "        vertical-align: top;\n",
       "    }\n",
       "\n",
       "    .dataframe thead th {\n",
       "        text-align: right;\n",
       "    }\n",
       "</style>\n",
       "<table border=\"1\" class=\"dataframe\">\n",
       "  <thead>\n",
       "    <tr style=\"text-align: right;\">\n",
       "      <th></th>\n",
       "      <th>LogisticRegression(C=0.6) with CVect - Metrics</th>\n",
       "    </tr>\n",
       "  </thead>\n",
       "  <tbody>\n",
       "    <tr>\n",
       "      <th>Test Data Accuracy</th>\n",
       "      <td>0.804878</td>\n",
       "    </tr>\n",
       "    <tr>\n",
       "      <th>Train Data Accuracy</th>\n",
       "      <td>0.959825</td>\n",
       "    </tr>\n",
       "    <tr>\n",
       "      <th>Balanced Accuracy Score</th>\n",
       "      <td>0.804274</td>\n",
       "    </tr>\n",
       "    <tr>\n",
       "      <th>Precision</th>\n",
       "      <td>0.776398</td>\n",
       "    </tr>\n",
       "    <tr>\n",
       "      <th>Recall</th>\n",
       "      <td>0.862069</td>\n",
       "    </tr>\n",
       "    <tr>\n",
       "      <th>f1 score</th>\n",
       "      <td>0.816993</td>\n",
       "    </tr>\n",
       "  </tbody>\n",
       "</table>\n",
       "</div>"
      ],
      "text/plain": [
       "                         LogisticRegression(C=0.6) with CVect - Metrics\n",
       "Test Data Accuracy                                             0.804878\n",
       "Train Data Accuracy                                            0.959825\n",
       "Balanced Accuracy Score                                        0.804274\n",
       "Precision                                                      0.776398\n",
       "Recall                                                         0.862069\n",
       "f1 score                                                       0.816993"
      ]
     },
     "execution_count": 43,
     "metadata": {},
     "output_type": "execute_result"
    }
   ],
   "source": [
    "#Logistic Regression - cvect - stem_text\n",
    "\n",
    "logr_cvect_stem_text = model_eval_cvect(LogisticRegression(C = .6), \n",
    "                                        X = df['stem_text'], \n",
    "                                        y = df['target'])\n",
    "\n",
    "logr_cvect_stem_text"
   ]
  },
  {
   "cell_type": "code",
   "execution_count": 44,
   "id": "d6772387-50e7-4c97-a09b-2deab37ee830",
   "metadata": {
    "tags": []
   },
   "outputs": [
    {
     "data": {
      "text/plain": [
       "0.8374062067945371"
      ]
     },
     "execution_count": 44,
     "metadata": {},
     "output_type": "execute_result"
    }
   ],
   "source": [
    "logr_cvect_stem_text['LogisticRegression(C=0.6) with CVect - Metrics'].mean()"
   ]
  },
  {
   "cell_type": "markdown",
   "id": "a18d30f2-91b1-4385-9be5-06c5ec358787",
   "metadata": {
    "tags": []
   },
   "source": [
    "#### with TfidfVectorizer"
   ]
  },
  {
   "cell_type": "code",
   "execution_count": 45,
   "id": "5238684e-3e0a-4734-a72e-d1307f9aa0ca",
   "metadata": {
    "tags": []
   },
   "outputs": [
    {
     "data": {
      "text/html": [
       "<div>\n",
       "<style scoped>\n",
       "    .dataframe tbody tr th:only-of-type {\n",
       "        vertical-align: middle;\n",
       "    }\n",
       "\n",
       "    .dataframe tbody tr th {\n",
       "        vertical-align: top;\n",
       "    }\n",
       "\n",
       "    .dataframe thead th {\n",
       "        text-align: right;\n",
       "    }\n",
       "</style>\n",
       "<table border=\"1\" class=\"dataframe\">\n",
       "  <thead>\n",
       "    <tr style=\"text-align: right;\">\n",
       "      <th></th>\n",
       "      <th>LogisticRegression() with TfidfVect - Metrics</th>\n",
       "    </tr>\n",
       "  </thead>\n",
       "  <tbody>\n",
       "    <tr>\n",
       "      <th>Test Data Accuracy</th>\n",
       "      <td>0.808362</td>\n",
       "    </tr>\n",
       "    <tr>\n",
       "      <th>Train Data Accuracy</th>\n",
       "      <td>0.981659</td>\n",
       "    </tr>\n",
       "    <tr>\n",
       "      <th>Balanced Accuracy Score</th>\n",
       "      <td>0.807212</td>\n",
       "    </tr>\n",
       "    <tr>\n",
       "      <th>Precision</th>\n",
       "      <td>0.755682</td>\n",
       "    </tr>\n",
       "    <tr>\n",
       "      <th>Recall</th>\n",
       "      <td>0.917241</td>\n",
       "    </tr>\n",
       "    <tr>\n",
       "      <th>f1 score</th>\n",
       "      <td>0.828660</td>\n",
       "    </tr>\n",
       "  </tbody>\n",
       "</table>\n",
       "</div>"
      ],
      "text/plain": [
       "                         LogisticRegression() with TfidfVect - Metrics\n",
       "Test Data Accuracy                                            0.808362\n",
       "Train Data Accuracy                                           0.981659\n",
       "Balanced Accuracy Score                                       0.807212\n",
       "Precision                                                     0.755682\n",
       "Recall                                                        0.917241\n",
       "f1 score                                                      0.828660"
      ]
     },
     "execution_count": 45,
     "metadata": {},
     "output_type": "execute_result"
    }
   ],
   "source": [
    "#Logistic Regression - tfidf - lemm_title\n",
    "\n",
    "logr_tfidf_lemm_title = model_eval_tfidf(LogisticRegression(), \n",
    "                                        X = df['lemm_title'], \n",
    "                                        y = df['target'])\n",
    "\n",
    "logr_tfidf_lemm_title"
   ]
  },
  {
   "cell_type": "code",
   "execution_count": 46,
   "id": "899a38c2-9986-4d8e-b0be-30c5a62cb2a5",
   "metadata": {
    "tags": []
   },
   "outputs": [
    {
     "data": {
      "text/plain": [
       "0.8498029384274082"
      ]
     },
     "execution_count": 46,
     "metadata": {},
     "output_type": "execute_result"
    }
   ],
   "source": [
    "logr_tfidf_lemm_title['LogisticRegression() with TfidfVect - Metrics'].mean()"
   ]
  },
  {
   "cell_type": "code",
   "execution_count": 47,
   "id": "53d5cc36-ae26-443f-a45d-2a3867c45f15",
   "metadata": {
    "tags": []
   },
   "outputs": [
    {
     "data": {
      "text/html": [
       "<div>\n",
       "<style scoped>\n",
       "    .dataframe tbody tr th:only-of-type {\n",
       "        vertical-align: middle;\n",
       "    }\n",
       "\n",
       "    .dataframe tbody tr th {\n",
       "        vertical-align: top;\n",
       "    }\n",
       "\n",
       "    .dataframe thead th {\n",
       "        text-align: right;\n",
       "    }\n",
       "</style>\n",
       "<table border=\"1\" class=\"dataframe\">\n",
       "  <thead>\n",
       "    <tr style=\"text-align: right;\">\n",
       "      <th></th>\n",
       "      <th>LogisticRegression() with TfidfVect - Metrics</th>\n",
       "    </tr>\n",
       "  </thead>\n",
       "  <tbody>\n",
       "    <tr>\n",
       "      <th>Test Data Accuracy</th>\n",
       "      <td>0.801394</td>\n",
       "    </tr>\n",
       "    <tr>\n",
       "      <th>Train Data Accuracy</th>\n",
       "      <td>0.965939</td>\n",
       "    </tr>\n",
       "    <tr>\n",
       "      <th>Balanced Accuracy Score</th>\n",
       "      <td>0.800753</td>\n",
       "    </tr>\n",
       "    <tr>\n",
       "      <th>Precision</th>\n",
       "      <td>0.771605</td>\n",
       "    </tr>\n",
       "    <tr>\n",
       "      <th>Recall</th>\n",
       "      <td>0.862069</td>\n",
       "    </tr>\n",
       "    <tr>\n",
       "      <th>f1 score</th>\n",
       "      <td>0.814332</td>\n",
       "    </tr>\n",
       "  </tbody>\n",
       "</table>\n",
       "</div>"
      ],
      "text/plain": [
       "                         LogisticRegression() with TfidfVect - Metrics\n",
       "Test Data Accuracy                                            0.801394\n",
       "Train Data Accuracy                                           0.965939\n",
       "Balanced Accuracy Score                                       0.800753\n",
       "Precision                                                     0.771605\n",
       "Recall                                                        0.862069\n",
       "f1 score                                                      0.814332"
      ]
     },
     "execution_count": 47,
     "metadata": {},
     "output_type": "execute_result"
    }
   ],
   "source": [
    "#Logistic Regression - tfidf - lemm_text\n",
    "\n",
    "logr_tfidf_lemm_text = model_eval_tfidf(LogisticRegression(), \n",
    "                                        X = df['lemm_text'], \n",
    "                                        y = df['target'])\n",
    "\n",
    "logr_tfidf_lemm_text"
   ]
  },
  {
   "cell_type": "code",
   "execution_count": 48,
   "id": "e3ece147-ae62-4cdd-ada1-685fadaeb687",
   "metadata": {
    "tags": []
   },
   "outputs": [
    {
     "data": {
      "text/plain": [
       "0.8360152561359072"
      ]
     },
     "execution_count": 48,
     "metadata": {},
     "output_type": "execute_result"
    }
   ],
   "source": [
    "logr_tfidf_lemm_text['LogisticRegression() with TfidfVect - Metrics'].mean()"
   ]
  },
  {
   "cell_type": "code",
   "execution_count": 49,
   "id": "4c86bcf4-d1e5-4c41-9a57-8efa62a19065",
   "metadata": {
    "tags": []
   },
   "outputs": [
    {
     "data": {
      "text/html": [
       "<div>\n",
       "<style scoped>\n",
       "    .dataframe tbody tr th:only-of-type {\n",
       "        vertical-align: middle;\n",
       "    }\n",
       "\n",
       "    .dataframe tbody tr th {\n",
       "        vertical-align: top;\n",
       "    }\n",
       "\n",
       "    .dataframe thead th {\n",
       "        text-align: right;\n",
       "    }\n",
       "</style>\n",
       "<table border=\"1\" class=\"dataframe\">\n",
       "  <thead>\n",
       "    <tr style=\"text-align: right;\">\n",
       "      <th></th>\n",
       "      <th>LogisticRegression() with TfidfVect - Metrics</th>\n",
       "    </tr>\n",
       "  </thead>\n",
       "  <tbody>\n",
       "    <tr>\n",
       "      <th>Test Data Accuracy</th>\n",
       "      <td>0.773519</td>\n",
       "    </tr>\n",
       "    <tr>\n",
       "      <th>Train Data Accuracy</th>\n",
       "      <td>0.970306</td>\n",
       "    </tr>\n",
       "    <tr>\n",
       "      <th>Balanced Accuracy Score</th>\n",
       "      <td>0.772657</td>\n",
       "    </tr>\n",
       "    <tr>\n",
       "      <th>Precision</th>\n",
       "      <td>0.738095</td>\n",
       "    </tr>\n",
       "    <tr>\n",
       "      <th>Recall</th>\n",
       "      <td>0.855172</td>\n",
       "    </tr>\n",
       "    <tr>\n",
       "      <th>f1 score</th>\n",
       "      <td>0.792332</td>\n",
       "    </tr>\n",
       "  </tbody>\n",
       "</table>\n",
       "</div>"
      ],
      "text/plain": [
       "                         LogisticRegression() with TfidfVect - Metrics\n",
       "Test Data Accuracy                                            0.773519\n",
       "Train Data Accuracy                                           0.970306\n",
       "Balanced Accuracy Score                                       0.772657\n",
       "Precision                                                     0.738095\n",
       "Recall                                                        0.855172\n",
       "f1 score                                                      0.792332"
      ]
     },
     "execution_count": 49,
     "metadata": {},
     "output_type": "execute_result"
    }
   ],
   "source": [
    "#Logistic Regression - tfidf - stem_title\n",
    "\n",
    "logr_tfidf_stem_title = model_eval_tfidf(LogisticRegression(), \n",
    "                                        X = df['stem_title'], \n",
    "                                        y = df['target'])\n",
    "\n",
    "logr_tfidf_stem_title"
   ]
  },
  {
   "cell_type": "code",
   "execution_count": 50,
   "id": "024f85cb-1694-47d0-87d9-5bb5f5b80244",
   "metadata": {
    "tags": []
   },
   "outputs": [
    {
     "data": {
      "text/plain": [
       "0.8170135650516123"
      ]
     },
     "execution_count": 50,
     "metadata": {},
     "output_type": "execute_result"
    }
   ],
   "source": [
    "logr_tfidf_stem_title['LogisticRegression() with TfidfVect - Metrics'].mean()"
   ]
  },
  {
   "cell_type": "code",
   "execution_count": 53,
   "id": "963ef722-550c-4ea7-a4a5-38fcf35e8123",
   "metadata": {
    "tags": []
   },
   "outputs": [
    {
     "data": {
      "text/html": [
       "<div>\n",
       "<style scoped>\n",
       "    .dataframe tbody tr th:only-of-type {\n",
       "        vertical-align: middle;\n",
       "    }\n",
       "\n",
       "    .dataframe tbody tr th {\n",
       "        vertical-align: top;\n",
       "    }\n",
       "\n",
       "    .dataframe thead th {\n",
       "        text-align: right;\n",
       "    }\n",
       "</style>\n",
       "<table border=\"1\" class=\"dataframe\">\n",
       "  <thead>\n",
       "    <tr style=\"text-align: right;\">\n",
       "      <th></th>\n",
       "      <th>LogisticRegression(max_iter=1000000) with TfidfVect - Metrics</th>\n",
       "    </tr>\n",
       "  </thead>\n",
       "  <tbody>\n",
       "    <tr>\n",
       "      <th>Test Data Accuracy</th>\n",
       "      <td>0.829268</td>\n",
       "    </tr>\n",
       "    <tr>\n",
       "      <th>Train Data Accuracy</th>\n",
       "      <td>0.986026</td>\n",
       "    </tr>\n",
       "    <tr>\n",
       "      <th>Balanced Accuracy Score</th>\n",
       "      <td>0.828558</td>\n",
       "    </tr>\n",
       "    <tr>\n",
       "      <th>Precision</th>\n",
       "      <td>0.792683</td>\n",
       "    </tr>\n",
       "    <tr>\n",
       "      <th>Recall</th>\n",
       "      <td>0.896552</td>\n",
       "    </tr>\n",
       "    <tr>\n",
       "      <th>f1 score</th>\n",
       "      <td>0.841424</td>\n",
       "    </tr>\n",
       "  </tbody>\n",
       "</table>\n",
       "</div>"
      ],
      "text/plain": [
       "                         LogisticRegression(max_iter=1000000) with TfidfVect - Metrics\n",
       "Test Data Accuracy                                                0.829268            \n",
       "Train Data Accuracy                                               0.986026            \n",
       "Balanced Accuracy Score                                           0.828558            \n",
       "Precision                                                         0.792683            \n",
       "Recall                                                            0.896552            \n",
       "f1 score                                                          0.841424            "
      ]
     },
     "execution_count": 53,
     "metadata": {},
     "output_type": "execute_result"
    }
   ],
   "source": [
    "#Logistic Regression - tfidf - stem_text\n",
    "\n",
    "logr_tfidf_stem_text = model_eval_tfidf(LogisticRegression(max_iter = 1_000_000), \n",
    "                                        X = df['stem_text'], \n",
    "                                        y = df['target'])\n",
    "\n",
    "logr_tfidf_stem_text"
   ]
  },
  {
   "cell_type": "code",
   "execution_count": 55,
   "id": "df965cad-3c7c-459f-a15d-1278919c0d70",
   "metadata": {
    "tags": []
   },
   "outputs": [
    {
     "data": {
      "text/plain": [
       "0.8624184408255609"
      ]
     },
     "execution_count": 55,
     "metadata": {},
     "output_type": "execute_result"
    }
   ],
   "source": [
    "logr_tfidf_stem_text['LogisticRegression(max_iter=1000000) with TfidfVect - Metrics'].mean()"
   ]
  },
  {
   "cell_type": "markdown",
   "id": "de1a2b40-bdfc-44e1-8bc7-b7aaaedc35f6",
   "metadata": {
    "tags": []
   },
   "source": [
    "### II. KNN"
   ]
  },
  {
   "cell_type": "markdown",
   "id": "761aa46c-8fad-4d48-b0db-c83b4b71bec1",
   "metadata": {
    "jp-MarkdownHeadingCollapsed": true,
    "tags": []
   },
   "source": [
    "#### with CountVectorizer"
   ]
  },
  {
   "cell_type": "code",
   "execution_count": 56,
   "id": "bf551293-a764-41a9-b322-5894f77881f8",
   "metadata": {
    "tags": []
   },
   "outputs": [
    {
     "data": {
      "text/html": [
       "<div>\n",
       "<style scoped>\n",
       "    .dataframe tbody tr th:only-of-type {\n",
       "        vertical-align: middle;\n",
       "    }\n",
       "\n",
       "    .dataframe tbody tr th {\n",
       "        vertical-align: top;\n",
       "    }\n",
       "\n",
       "    .dataframe thead th {\n",
       "        text-align: right;\n",
       "    }\n",
       "</style>\n",
       "<table border=\"1\" class=\"dataframe\">\n",
       "  <thead>\n",
       "    <tr style=\"text-align: right;\">\n",
       "      <th></th>\n",
       "      <th>KNeighborsClassifier() with CVect - Metrics</th>\n",
       "    </tr>\n",
       "  </thead>\n",
       "  <tbody>\n",
       "    <tr>\n",
       "      <th>Test Data Accuracy</th>\n",
       "      <td>0.637631</td>\n",
       "    </tr>\n",
       "    <tr>\n",
       "      <th>Train Data Accuracy</th>\n",
       "      <td>0.735371</td>\n",
       "    </tr>\n",
       "    <tr>\n",
       "      <th>Balanced Accuracy Score</th>\n",
       "      <td>0.634531</td>\n",
       "    </tr>\n",
       "    <tr>\n",
       "      <th>Precision</th>\n",
       "      <td>0.589520</td>\n",
       "    </tr>\n",
       "    <tr>\n",
       "      <th>Recall</th>\n",
       "      <td>0.931034</td>\n",
       "    </tr>\n",
       "    <tr>\n",
       "      <th>f1 score</th>\n",
       "      <td>0.721925</td>\n",
       "    </tr>\n",
       "  </tbody>\n",
       "</table>\n",
       "</div>"
      ],
      "text/plain": [
       "                         KNeighborsClassifier() with CVect - Metrics\n",
       "Test Data Accuracy                                          0.637631\n",
       "Train Data Accuracy                                         0.735371\n",
       "Balanced Accuracy Score                                     0.634531\n",
       "Precision                                                   0.589520\n",
       "Recall                                                      0.931034\n",
       "f1 score                                                    0.721925"
      ]
     },
     "execution_count": 56,
     "metadata": {},
     "output_type": "execute_result"
    }
   ],
   "source": [
    "#KNN - cvect function - lemm_title\n",
    "\n",
    "knn_cvect_lemm_title = model_eval_cvect(KNeighborsClassifier(), \n",
    "                                   X = df['lemm_title'], \n",
    "                                   y = df['target'])\n",
    "\n",
    "knn_cvect_lemm_title"
   ]
  },
  {
   "cell_type": "code",
   "execution_count": 57,
   "id": "42256d3c-19c6-4d5f-bb34-78cee537056e",
   "metadata": {
    "tags": []
   },
   "outputs": [
    {
     "data": {
      "text/plain": [
       "0.708335405675007"
      ]
     },
     "execution_count": 57,
     "metadata": {},
     "output_type": "execute_result"
    }
   ],
   "source": [
    "knn_cvect_lemm_title['KNeighborsClassifier() with CVect - Metrics'].mean()"
   ]
  },
  {
   "cell_type": "code",
   "execution_count": 58,
   "id": "9de4ed75-2066-4400-9915-6662a2bafc65",
   "metadata": {
    "tags": []
   },
   "outputs": [
    {
     "data": {
      "text/html": [
       "<div>\n",
       "<style scoped>\n",
       "    .dataframe tbody tr th:only-of-type {\n",
       "        vertical-align: middle;\n",
       "    }\n",
       "\n",
       "    .dataframe tbody tr th {\n",
       "        vertical-align: top;\n",
       "    }\n",
       "\n",
       "    .dataframe thead th {\n",
       "        text-align: right;\n",
       "    }\n",
       "</style>\n",
       "<table border=\"1\" class=\"dataframe\">\n",
       "  <thead>\n",
       "    <tr style=\"text-align: right;\">\n",
       "      <th></th>\n",
       "      <th>KNeighborsClassifier() with CVect - Metrics</th>\n",
       "    </tr>\n",
       "  </thead>\n",
       "  <tbody>\n",
       "    <tr>\n",
       "      <th>Test Data Accuracy</th>\n",
       "      <td>0.665505</td>\n",
       "    </tr>\n",
       "    <tr>\n",
       "      <th>Train Data Accuracy</th>\n",
       "      <td>0.806114</td>\n",
       "    </tr>\n",
       "    <tr>\n",
       "      <th>Balanced Accuracy Score</th>\n",
       "      <td>0.666780</td>\n",
       "    </tr>\n",
       "    <tr>\n",
       "      <th>Precision</th>\n",
       "      <td>0.724771</td>\n",
       "    </tr>\n",
       "    <tr>\n",
       "      <th>Recall</th>\n",
       "      <td>0.544828</td>\n",
       "    </tr>\n",
       "    <tr>\n",
       "      <th>f1 score</th>\n",
       "      <td>0.622047</td>\n",
       "    </tr>\n",
       "  </tbody>\n",
       "</table>\n",
       "</div>"
      ],
      "text/plain": [
       "                         KNeighborsClassifier() with CVect - Metrics\n",
       "Test Data Accuracy                                          0.665505\n",
       "Train Data Accuracy                                         0.806114\n",
       "Balanced Accuracy Score                                     0.666780\n",
       "Precision                                                   0.724771\n",
       "Recall                                                      0.544828\n",
       "f1 score                                                    0.622047"
      ]
     },
     "execution_count": 58,
     "metadata": {},
     "output_type": "execute_result"
    }
   ],
   "source": [
    "#KNN - cvect - lemm_text\n",
    "\n",
    "knn_cvect_lemm_text = model_eval_cvect(KNeighborsClassifier(), \n",
    "                                       X = df['lemm_text'], \n",
    "                                       y = df['target'])\n",
    "\n",
    "knn_cvect_lemm_text"
   ]
  },
  {
   "cell_type": "code",
   "execution_count": 59,
   "id": "f1464353-3161-451b-bdbe-3ddc121ea4dc",
   "metadata": {
    "tags": []
   },
   "outputs": [
    {
     "data": {
      "text/plain": [
       "0.6716740377314178"
      ]
     },
     "execution_count": 59,
     "metadata": {},
     "output_type": "execute_result"
    }
   ],
   "source": [
    "knn_cvect_lemm_text['KNeighborsClassifier() with CVect - Metrics'].mean()"
   ]
  },
  {
   "cell_type": "code",
   "execution_count": 60,
   "id": "a0c63d11-e809-4241-97c5-33c7c81c95e9",
   "metadata": {
    "tags": []
   },
   "outputs": [
    {
     "data": {
      "text/html": [
       "<div>\n",
       "<style scoped>\n",
       "    .dataframe tbody tr th:only-of-type {\n",
       "        vertical-align: middle;\n",
       "    }\n",
       "\n",
       "    .dataframe tbody tr th {\n",
       "        vertical-align: top;\n",
       "    }\n",
       "\n",
       "    .dataframe thead th {\n",
       "        text-align: right;\n",
       "    }\n",
       "</style>\n",
       "<table border=\"1\" class=\"dataframe\">\n",
       "  <thead>\n",
       "    <tr style=\"text-align: right;\">\n",
       "      <th></th>\n",
       "      <th>KNeighborsClassifier() with CVect - Metrics</th>\n",
       "    </tr>\n",
       "  </thead>\n",
       "  <tbody>\n",
       "    <tr>\n",
       "      <th>Test Data Accuracy</th>\n",
       "      <td>0.700348</td>\n",
       "    </tr>\n",
       "    <tr>\n",
       "      <th>Train Data Accuracy</th>\n",
       "      <td>0.786900</td>\n",
       "    </tr>\n",
       "    <tr>\n",
       "      <th>Balanced Accuracy Score</th>\n",
       "      <td>0.698203</td>\n",
       "    </tr>\n",
       "    <tr>\n",
       "      <th>Precision</th>\n",
       "      <td>0.645320</td>\n",
       "    </tr>\n",
       "    <tr>\n",
       "      <th>Recall</th>\n",
       "      <td>0.903448</td>\n",
       "    </tr>\n",
       "    <tr>\n",
       "      <th>f1 score</th>\n",
       "      <td>0.752874</td>\n",
       "    </tr>\n",
       "  </tbody>\n",
       "</table>\n",
       "</div>"
      ],
      "text/plain": [
       "                         KNeighborsClassifier() with CVect - Metrics\n",
       "Test Data Accuracy                                          0.700348\n",
       "Train Data Accuracy                                         0.786900\n",
       "Balanced Accuracy Score                                     0.698203\n",
       "Precision                                                   0.645320\n",
       "Recall                                                      0.903448\n",
       "f1 score                                                    0.752874"
      ]
     },
     "execution_count": 60,
     "metadata": {},
     "output_type": "execute_result"
    }
   ],
   "source": [
    "#KNN - cvect - stem_title\n",
    "\n",
    "knn_cvect_stem_title = model_eval_cvect(KNeighborsClassifier(), \n",
    "                                   X = df['stem_title'], \n",
    "                                   y = df['target'])\n",
    "\n",
    "knn_cvect_stem_title"
   ]
  },
  {
   "cell_type": "code",
   "execution_count": 61,
   "id": "84e6eeef-0295-449e-83b8-14090adc31c8",
   "metadata": {
    "tags": []
   },
   "outputs": [
    {
     "data": {
      "text/plain": [
       "0.7478488404449655"
      ]
     },
     "execution_count": 61,
     "metadata": {},
     "output_type": "execute_result"
    }
   ],
   "source": [
    "knn_cvect_stem_title['KNeighborsClassifier() with CVect - Metrics'].mean()"
   ]
  },
  {
   "cell_type": "code",
   "execution_count": 62,
   "id": "de6b71eb-fb16-4cff-b0de-b5d91789b428",
   "metadata": {
    "tags": []
   },
   "outputs": [
    {
     "data": {
      "text/html": [
       "<div>\n",
       "<style scoped>\n",
       "    .dataframe tbody tr th:only-of-type {\n",
       "        vertical-align: middle;\n",
       "    }\n",
       "\n",
       "    .dataframe tbody tr th {\n",
       "        vertical-align: top;\n",
       "    }\n",
       "\n",
       "    .dataframe thead th {\n",
       "        text-align: right;\n",
       "    }\n",
       "</style>\n",
       "<table border=\"1\" class=\"dataframe\">\n",
       "  <thead>\n",
       "    <tr style=\"text-align: right;\">\n",
       "      <th></th>\n",
       "      <th>KNeighborsClassifier() with CVect - Metrics</th>\n",
       "    </tr>\n",
       "  </thead>\n",
       "  <tbody>\n",
       "    <tr>\n",
       "      <th>Test Data Accuracy</th>\n",
       "      <td>0.655052</td>\n",
       "    </tr>\n",
       "    <tr>\n",
       "      <th>Train Data Accuracy</th>\n",
       "      <td>0.803493</td>\n",
       "    </tr>\n",
       "    <tr>\n",
       "      <th>Balanced Accuracy Score</th>\n",
       "      <td>0.657018</td>\n",
       "    </tr>\n",
       "    <tr>\n",
       "      <th>Precision</th>\n",
       "      <td>0.755556</td>\n",
       "    </tr>\n",
       "    <tr>\n",
       "      <th>Recall</th>\n",
       "      <td>0.468966</td>\n",
       "    </tr>\n",
       "    <tr>\n",
       "      <th>f1 score</th>\n",
       "      <td>0.578723</td>\n",
       "    </tr>\n",
       "  </tbody>\n",
       "</table>\n",
       "</div>"
      ],
      "text/plain": [
       "                         KNeighborsClassifier() with CVect - Metrics\n",
       "Test Data Accuracy                                          0.655052\n",
       "Train Data Accuracy                                         0.803493\n",
       "Balanced Accuracy Score                                     0.657018\n",
       "Precision                                                   0.755556\n",
       "Recall                                                      0.468966\n",
       "f1 score                                                    0.578723"
      ]
     },
     "execution_count": 62,
     "metadata": {},
     "output_type": "execute_result"
    }
   ],
   "source": [
    "#KNN - cvect - stem_text\n",
    "\n",
    "knn_cvect_stem_text = model_eval_cvect(KNeighborsClassifier(), \n",
    "                                   X = df['stem_text'], \n",
    "                                   y = df['target'])\n",
    "\n",
    "knn_cvect_stem_text"
   ]
  },
  {
   "cell_type": "code",
   "execution_count": 63,
   "id": "417f0c4d-4173-4ec1-afbf-43d21b16b8e6",
   "metadata": {
    "tags": []
   },
   "outputs": [
    {
     "data": {
      "text/plain": [
       "0.6531346935884285"
      ]
     },
     "execution_count": 63,
     "metadata": {},
     "output_type": "execute_result"
    }
   ],
   "source": [
    "knn_cvect_stem_text['KNeighborsClassifier() with CVect - Metrics'].mean()"
   ]
  },
  {
   "cell_type": "markdown",
   "id": "8d3f84f2-ae7d-4818-a6d6-e651558895ac",
   "metadata": {
    "jp-MarkdownHeadingCollapsed": true,
    "tags": []
   },
   "source": [
    "#### with TfidfVectorizer"
   ]
  },
  {
   "cell_type": "code",
   "execution_count": 64,
   "id": "e0d0d14f-a494-498b-888c-cd7f16c6a139",
   "metadata": {
    "tags": []
   },
   "outputs": [
    {
     "data": {
      "text/html": [
       "<div>\n",
       "<style scoped>\n",
       "    .dataframe tbody tr th:only-of-type {\n",
       "        vertical-align: middle;\n",
       "    }\n",
       "\n",
       "    .dataframe tbody tr th {\n",
       "        vertical-align: top;\n",
       "    }\n",
       "\n",
       "    .dataframe thead th {\n",
       "        text-align: right;\n",
       "    }\n",
       "</style>\n",
       "<table border=\"1\" class=\"dataframe\">\n",
       "  <thead>\n",
       "    <tr style=\"text-align: right;\">\n",
       "      <th></th>\n",
       "      <th>KNeighborsClassifier() with TfidfVect - Metrics</th>\n",
       "    </tr>\n",
       "  </thead>\n",
       "  <tbody>\n",
       "    <tr>\n",
       "      <th>Test Data Accuracy</th>\n",
       "      <td>0.672474</td>\n",
       "    </tr>\n",
       "    <tr>\n",
       "      <th>Train Data Accuracy</th>\n",
       "      <td>0.748472</td>\n",
       "    </tr>\n",
       "    <tr>\n",
       "      <th>Balanced Accuracy Score</th>\n",
       "      <td>0.670471</td>\n",
       "    </tr>\n",
       "    <tr>\n",
       "      <th>Precision</th>\n",
       "      <td>0.628141</td>\n",
       "    </tr>\n",
       "    <tr>\n",
       "      <th>Recall</th>\n",
       "      <td>0.862069</td>\n",
       "    </tr>\n",
       "    <tr>\n",
       "      <th>f1 score</th>\n",
       "      <td>0.726744</td>\n",
       "    </tr>\n",
       "  </tbody>\n",
       "</table>\n",
       "</div>"
      ],
      "text/plain": [
       "                         KNeighborsClassifier() with TfidfVect - Metrics\n",
       "Test Data Accuracy                                              0.672474\n",
       "Train Data Accuracy                                             0.748472\n",
       "Balanced Accuracy Score                                         0.670471\n",
       "Precision                                                       0.628141\n",
       "Recall                                                          0.862069\n",
       "f1 score                                                        0.726744"
      ]
     },
     "execution_count": 64,
     "metadata": {},
     "output_type": "execute_result"
    }
   ],
   "source": [
    "### KNN - tfidf - lemm_title\n",
    "\n",
    "knn_tfidf_lemm_title = model_eval_tfidf(KNeighborsClassifier(), \n",
    "                                        X = df['lemm_title'], \n",
    "                                        y = df['target'])\n",
    "\n",
    "knn_tfidf_lemm_title"
   ]
  },
  {
   "cell_type": "code",
   "execution_count": 65,
   "id": "2ae9db8a-5393-4218-959d-d24826692d39",
   "metadata": {
    "tags": []
   },
   "outputs": [
    {
     "data": {
      "text/plain": [
       "0.7180617401457691"
      ]
     },
     "execution_count": 65,
     "metadata": {},
     "output_type": "execute_result"
    }
   ],
   "source": [
    "knn_tfidf_lemm_title['KNeighborsClassifier() with TfidfVect - Metrics'].mean()"
   ]
  },
  {
   "cell_type": "markdown",
   "id": "3759057f-4ba1-459f-b264-83a7026617b5",
   "metadata": {},
   "source": [
    "##### **KNN is providing consistently lower scores in all metrics than Logistic Regression is. Therefore we will stop creating any more KNN models at this point.**"
   ]
  },
  {
   "cell_type": "markdown",
   "id": "28cb5c55-c450-4c83-b9a2-6ca623430af3",
   "metadata": {
    "tags": []
   },
   "source": [
    "### III. Decision Tree"
   ]
  },
  {
   "cell_type": "markdown",
   "id": "7ca3e9d4-5b34-4d84-9e5c-359c543783d7",
   "metadata": {
    "jp-MarkdownHeadingCollapsed": true,
    "tags": []
   },
   "source": [
    "#### with CountVectorizer"
   ]
  },
  {
   "cell_type": "code",
   "execution_count": 66,
   "id": "84ddb150-2058-4cca-b70b-f20cbbd24de3",
   "metadata": {
    "tags": []
   },
   "outputs": [
    {
     "data": {
      "text/html": [
       "<div>\n",
       "<style scoped>\n",
       "    .dataframe tbody tr th:only-of-type {\n",
       "        vertical-align: middle;\n",
       "    }\n",
       "\n",
       "    .dataframe tbody tr th {\n",
       "        vertical-align: top;\n",
       "    }\n",
       "\n",
       "    .dataframe thead th {\n",
       "        text-align: right;\n",
       "    }\n",
       "</style>\n",
       "<table border=\"1\" class=\"dataframe\">\n",
       "  <thead>\n",
       "    <tr style=\"text-align: right;\">\n",
       "      <th></th>\n",
       "      <th>DecisionTreeClassifier(max_depth=50) with CVect - Metrics</th>\n",
       "    </tr>\n",
       "  </thead>\n",
       "  <tbody>\n",
       "    <tr>\n",
       "      <th>Test Data Accuracy</th>\n",
       "      <td>0.721254</td>\n",
       "    </tr>\n",
       "    <tr>\n",
       "      <th>Train Data Accuracy</th>\n",
       "      <td>0.840175</td>\n",
       "    </tr>\n",
       "    <tr>\n",
       "      <th>Balanced Accuracy Score</th>\n",
       "      <td>0.718820</td>\n",
       "    </tr>\n",
       "    <tr>\n",
       "      <th>Precision</th>\n",
       "      <td>0.654028</td>\n",
       "    </tr>\n",
       "    <tr>\n",
       "      <th>Recall</th>\n",
       "      <td>0.951724</td>\n",
       "    </tr>\n",
       "    <tr>\n",
       "      <th>f1 score</th>\n",
       "      <td>0.775281</td>\n",
       "    </tr>\n",
       "  </tbody>\n",
       "</table>\n",
       "</div>"
      ],
      "text/plain": [
       "                         DecisionTreeClassifier(max_depth=50) with CVect - Metrics\n",
       "Test Data Accuracy                                                0.721254        \n",
       "Train Data Accuracy                                               0.840175        \n",
       "Balanced Accuracy Score                                           0.718820        \n",
       "Precision                                                         0.654028        \n",
       "Recall                                                            0.951724        \n",
       "f1 score                                                          0.775281        "
      ]
     },
     "execution_count": 66,
     "metadata": {},
     "output_type": "execute_result"
    }
   ],
   "source": [
    "#Decision Tree - cvect - lemm_title\n",
    "\n",
    "tree_cvect_lemm_title = model_eval_cvect(DecisionTreeClassifier(max_depth = 50), \n",
    "                                    X = df['lemm_title'], \n",
    "                                    y = df['target'])\n",
    "\n",
    "tree_cvect_lemm_title"
   ]
  },
  {
   "cell_type": "code",
   "execution_count": 67,
   "id": "93ddde18-a958-47ed-b662-2fade56c6a7d",
   "metadata": {
    "tags": []
   },
   "outputs": [
    {
     "data": {
      "text/plain": [
       "0.7768803860267611"
      ]
     },
     "execution_count": 67,
     "metadata": {},
     "output_type": "execute_result"
    }
   ],
   "source": [
    "tree_cvect_lemm_title['DecisionTreeClassifier(max_depth=50) with CVect - Metrics'].mean()"
   ]
  },
  {
   "cell_type": "code",
   "execution_count": 68,
   "id": "9df4b50f-0724-451e-b76e-1c8d516a7673",
   "metadata": {
    "tags": []
   },
   "outputs": [
    {
     "data": {
      "text/html": [
       "<div>\n",
       "<style scoped>\n",
       "    .dataframe tbody tr th:only-of-type {\n",
       "        vertical-align: middle;\n",
       "    }\n",
       "\n",
       "    .dataframe tbody tr th {\n",
       "        vertical-align: top;\n",
       "    }\n",
       "\n",
       "    .dataframe thead th {\n",
       "        text-align: right;\n",
       "    }\n",
       "</style>\n",
       "<table border=\"1\" class=\"dataframe\">\n",
       "  <thead>\n",
       "    <tr style=\"text-align: right;\">\n",
       "      <th></th>\n",
       "      <th>DecisionTreeClassifier(max_depth=50) with CVect - Metrics</th>\n",
       "    </tr>\n",
       "  </thead>\n",
       "  <tbody>\n",
       "    <tr>\n",
       "      <th>Test Data Accuracy</th>\n",
       "      <td>0.777003</td>\n",
       "    </tr>\n",
       "    <tr>\n",
       "      <th>Train Data Accuracy</th>\n",
       "      <td>0.926638</td>\n",
       "    </tr>\n",
       "    <tr>\n",
       "      <th>Balanced Accuracy Score</th>\n",
       "      <td>0.777052</td>\n",
       "    </tr>\n",
       "    <tr>\n",
       "      <th>Precision</th>\n",
       "      <td>0.783217</td>\n",
       "    </tr>\n",
       "    <tr>\n",
       "      <th>Recall</th>\n",
       "      <td>0.772414</td>\n",
       "    </tr>\n",
       "    <tr>\n",
       "      <th>f1 score</th>\n",
       "      <td>0.777778</td>\n",
       "    </tr>\n",
       "  </tbody>\n",
       "</table>\n",
       "</div>"
      ],
      "text/plain": [
       "                         DecisionTreeClassifier(max_depth=50) with CVect - Metrics\n",
       "Test Data Accuracy                                                0.777003        \n",
       "Train Data Accuracy                                               0.926638        \n",
       "Balanced Accuracy Score                                           0.777052        \n",
       "Precision                                                         0.783217        \n",
       "Recall                                                            0.772414        \n",
       "f1 score                                                          0.777778        "
      ]
     },
     "execution_count": 68,
     "metadata": {},
     "output_type": "execute_result"
    }
   ],
   "source": [
    "#Decision Tree - cvect function - lemm_text \n",
    "\n",
    "tree_cvect_lemm_text = model_eval_cvect(DecisionTreeClassifier(max_depth = 50), \n",
    "                                        X = df['lemm_text'], \n",
    "                                        y = df['target'])\n",
    "\n",
    "tree_cvect_lemm_text"
   ]
  },
  {
   "cell_type": "code",
   "execution_count": 69,
   "id": "2ef768a7-340c-49f8-b42b-1f54127d3945",
   "metadata": {
    "tags": []
   },
   "outputs": [
    {
     "data": {
      "text/plain": [
       "0.8023502266629965"
      ]
     },
     "execution_count": 69,
     "metadata": {},
     "output_type": "execute_result"
    }
   ],
   "source": [
    "tree_cvect_lemm_text['DecisionTreeClassifier(max_depth=50) with CVect - Metrics'].mean()"
   ]
  },
  {
   "cell_type": "code",
   "execution_count": 70,
   "id": "67c236fd-53f8-48b3-b650-12020831b979",
   "metadata": {
    "tags": []
   },
   "outputs": [
    {
     "data": {
      "text/html": [
       "<div>\n",
       "<style scoped>\n",
       "    .dataframe tbody tr th:only-of-type {\n",
       "        vertical-align: middle;\n",
       "    }\n",
       "\n",
       "    .dataframe tbody tr th {\n",
       "        vertical-align: top;\n",
       "    }\n",
       "\n",
       "    .dataframe thead th {\n",
       "        text-align: right;\n",
       "    }\n",
       "</style>\n",
       "<table border=\"1\" class=\"dataframe\">\n",
       "  <thead>\n",
       "    <tr style=\"text-align: right;\">\n",
       "      <th></th>\n",
       "      <th>DecisionTreeClassifier(max_depth=50) with CVect - Metrics</th>\n",
       "    </tr>\n",
       "  </thead>\n",
       "  <tbody>\n",
       "    <tr>\n",
       "      <th>Test Data Accuracy</th>\n",
       "      <td>0.749129</td>\n",
       "    </tr>\n",
       "    <tr>\n",
       "      <th>Train Data Accuracy</th>\n",
       "      <td>0.841048</td>\n",
       "    </tr>\n",
       "    <tr>\n",
       "      <th>Balanced Accuracy Score</th>\n",
       "      <td>0.746916</td>\n",
       "    </tr>\n",
       "    <tr>\n",
       "      <th>Precision</th>\n",
       "      <td>0.678049</td>\n",
       "    </tr>\n",
       "    <tr>\n",
       "      <th>Recall</th>\n",
       "      <td>0.958621</td>\n",
       "    </tr>\n",
       "    <tr>\n",
       "      <th>f1 score</th>\n",
       "      <td>0.794286</td>\n",
       "    </tr>\n",
       "  </tbody>\n",
       "</table>\n",
       "</div>"
      ],
      "text/plain": [
       "                         DecisionTreeClassifier(max_depth=50) with CVect - Metrics\n",
       "Test Data Accuracy                                                0.749129        \n",
       "Train Data Accuracy                                               0.841048        \n",
       "Balanced Accuracy Score                                           0.746916        \n",
       "Precision                                                         0.678049        \n",
       "Recall                                                            0.958621        \n",
       "f1 score                                                          0.794286        "
      ]
     },
     "execution_count": 70,
     "metadata": {},
     "output_type": "execute_result"
    }
   ],
   "source": [
    "#Decision Tree - cvect function - stem_title \n",
    "\n",
    "tree_cvect_stem_title = model_eval_cvect(DecisionTreeClassifier(max_depth = 50), \n",
    "                                        X = df['stem_title'], \n",
    "                                        y = df['target'])\n",
    "\n",
    "tree_cvect_stem_title"
   ]
  },
  {
   "cell_type": "code",
   "execution_count": 71,
   "id": "3e198824-dc2e-4365-ab8d-d20d0f7e26aa",
   "metadata": {
    "tags": []
   },
   "outputs": [
    {
     "data": {
      "text/plain": [
       "0.7946746863090367"
      ]
     },
     "execution_count": 71,
     "metadata": {},
     "output_type": "execute_result"
    }
   ],
   "source": [
    "tree_cvect_stem_title['DecisionTreeClassifier(max_depth=50) with CVect - Metrics'].mean()"
   ]
  },
  {
   "cell_type": "code",
   "execution_count": 72,
   "id": "97bf5cb3-c87e-43c3-8579-05edc4321eee",
   "metadata": {
    "tags": []
   },
   "outputs": [
    {
     "data": {
      "text/html": [
       "<div>\n",
       "<style scoped>\n",
       "    .dataframe tbody tr th:only-of-type {\n",
       "        vertical-align: middle;\n",
       "    }\n",
       "\n",
       "    .dataframe tbody tr th {\n",
       "        vertical-align: top;\n",
       "    }\n",
       "\n",
       "    .dataframe thead th {\n",
       "        text-align: right;\n",
       "    }\n",
       "</style>\n",
       "<table border=\"1\" class=\"dataframe\">\n",
       "  <thead>\n",
       "    <tr style=\"text-align: right;\">\n",
       "      <th></th>\n",
       "      <th>DecisionTreeClassifier(max_depth=50) with CVect - Metrics</th>\n",
       "    </tr>\n",
       "  </thead>\n",
       "  <tbody>\n",
       "    <tr>\n",
       "      <th>Test Data Accuracy</th>\n",
       "      <td>0.790941</td>\n",
       "    </tr>\n",
       "    <tr>\n",
       "      <th>Train Data Accuracy</th>\n",
       "      <td>0.949345</td>\n",
       "    </tr>\n",
       "    <tr>\n",
       "      <th>Balanced Accuracy Score</th>\n",
       "      <td>0.790991</td>\n",
       "    </tr>\n",
       "    <tr>\n",
       "      <th>Precision</th>\n",
       "      <td>0.797203</td>\n",
       "    </tr>\n",
       "    <tr>\n",
       "      <th>Recall</th>\n",
       "      <td>0.786207</td>\n",
       "    </tr>\n",
       "    <tr>\n",
       "      <th>f1 score</th>\n",
       "      <td>0.791667</td>\n",
       "    </tr>\n",
       "  </tbody>\n",
       "</table>\n",
       "</div>"
      ],
      "text/plain": [
       "                         DecisionTreeClassifier(max_depth=50) with CVect - Metrics\n",
       "Test Data Accuracy                                                0.790941        \n",
       "Train Data Accuracy                                               0.949345        \n",
       "Balanced Accuracy Score                                           0.790991        \n",
       "Precision                                                         0.797203        \n",
       "Recall                                                            0.786207        \n",
       "f1 score                                                          0.791667        "
      ]
     },
     "execution_count": 72,
     "metadata": {},
     "output_type": "execute_result"
    }
   ],
   "source": [
    "#Decision Tree - cvect function - stem_text \n",
    "\n",
    "tree_cvect_stem_text = model_eval_cvect(DecisionTreeClassifier(max_depth = 50), \n",
    "                                        X = df['stem_text'], \n",
    "                                        y = df['target'])\n",
    "\n",
    "tree_cvect_stem_text"
   ]
  },
  {
   "cell_type": "code",
   "execution_count": 73,
   "id": "2dd5d68e-083f-4603-917e-49a3d6a35a96",
   "metadata": {
    "tags": []
   },
   "outputs": [
    {
     "data": {
      "text/plain": [
       "0.8177254795595289"
      ]
     },
     "execution_count": 73,
     "metadata": {},
     "output_type": "execute_result"
    }
   ],
   "source": [
    "tree_cvect_stem_text['DecisionTreeClassifier(max_depth=50) with CVect - Metrics'].mean()"
   ]
  },
  {
   "cell_type": "markdown",
   "id": "5fcf5854-9d2a-432f-ba1c-df6e5bf9e837",
   "metadata": {
    "jp-MarkdownHeadingCollapsed": true,
    "tags": []
   },
   "source": [
    "#### with TfidfVectorizer"
   ]
  },
  {
   "cell_type": "code",
   "execution_count": 74,
   "id": "f0c199f7-e0a0-4d40-9491-ca4d97091cdd",
   "metadata": {
    "tags": []
   },
   "outputs": [
    {
     "data": {
      "text/html": [
       "<div>\n",
       "<style scoped>\n",
       "    .dataframe tbody tr th:only-of-type {\n",
       "        vertical-align: middle;\n",
       "    }\n",
       "\n",
       "    .dataframe tbody tr th {\n",
       "        vertical-align: top;\n",
       "    }\n",
       "\n",
       "    .dataframe thead th {\n",
       "        text-align: right;\n",
       "    }\n",
       "</style>\n",
       "<table border=\"1\" class=\"dataframe\">\n",
       "  <thead>\n",
       "    <tr style=\"text-align: right;\">\n",
       "      <th></th>\n",
       "      <th>DecisionTreeClassifier(max_depth=50) with TfidfVect - Metrics</th>\n",
       "    </tr>\n",
       "  </thead>\n",
       "  <tbody>\n",
       "    <tr>\n",
       "      <th>Test Data Accuracy</th>\n",
       "      <td>0.707317</td>\n",
       "    </tr>\n",
       "    <tr>\n",
       "      <th>Train Data Accuracy</th>\n",
       "      <td>0.859389</td>\n",
       "    </tr>\n",
       "    <tr>\n",
       "      <th>Balanced Accuracy Score</th>\n",
       "      <td>0.704735</td>\n",
       "    </tr>\n",
       "    <tr>\n",
       "      <th>Precision</th>\n",
       "      <td>0.641860</td>\n",
       "    </tr>\n",
       "    <tr>\n",
       "      <th>Recall</th>\n",
       "      <td>0.951724</td>\n",
       "    </tr>\n",
       "    <tr>\n",
       "      <th>f1 score</th>\n",
       "      <td>0.766667</td>\n",
       "    </tr>\n",
       "  </tbody>\n",
       "</table>\n",
       "</div>"
      ],
      "text/plain": [
       "                         DecisionTreeClassifier(max_depth=50) with TfidfVect - Metrics\n",
       "Test Data Accuracy                                                0.707317            \n",
       "Train Data Accuracy                                               0.859389            \n",
       "Balanced Accuracy Score                                           0.704735            \n",
       "Precision                                                         0.641860            \n",
       "Recall                                                            0.951724            \n",
       "f1 score                                                          0.766667            "
      ]
     },
     "execution_count": 74,
     "metadata": {},
     "output_type": "execute_result"
    }
   ],
   "source": [
    "#Decision Tree - tfidf function - lemm_title\n",
    "\n",
    "tree_tfidf_lemm_title = model_eval_tfidf(DecisionTreeClassifier(max_depth = 50), \n",
    "                                        X = df['lemm_title'], \n",
    "                                        y = df['target'])\n",
    "\n",
    "tree_tfidf_lemm_title"
   ]
  },
  {
   "cell_type": "code",
   "execution_count": 75,
   "id": "e48a541c-2207-49ad-8cae-dfa1eaf91de6",
   "metadata": {
    "tags": []
   },
   "outputs": [
    {
     "data": {
      "text/plain": [
       "0.7719487162625098"
      ]
     },
     "execution_count": 75,
     "metadata": {},
     "output_type": "execute_result"
    }
   ],
   "source": [
    "tree_tfidf_lemm_title['DecisionTreeClassifier(max_depth=50) with TfidfVect - Metrics'].mean()"
   ]
  },
  {
   "cell_type": "code",
   "execution_count": 76,
   "id": "8db87d56-b8fc-4e89-829a-81bf72107071",
   "metadata": {
    "tags": []
   },
   "outputs": [
    {
     "data": {
      "text/html": [
       "<div>\n",
       "<style scoped>\n",
       "    .dataframe tbody tr th:only-of-type {\n",
       "        vertical-align: middle;\n",
       "    }\n",
       "\n",
       "    .dataframe tbody tr th {\n",
       "        vertical-align: top;\n",
       "    }\n",
       "\n",
       "    .dataframe thead th {\n",
       "        text-align: right;\n",
       "    }\n",
       "</style>\n",
       "<table border=\"1\" class=\"dataframe\">\n",
       "  <thead>\n",
       "    <tr style=\"text-align: right;\">\n",
       "      <th></th>\n",
       "      <th>DecisionTreeClassifier(max_depth=50) with TfidfVect - Metrics</th>\n",
       "    </tr>\n",
       "  </thead>\n",
       "  <tbody>\n",
       "    <tr>\n",
       "      <th>Test Data Accuracy</th>\n",
       "      <td>0.745645</td>\n",
       "    </tr>\n",
       "    <tr>\n",
       "      <th>Train Data Accuracy</th>\n",
       "      <td>0.932751</td>\n",
       "    </tr>\n",
       "    <tr>\n",
       "      <th>Balanced Accuracy Score</th>\n",
       "      <td>0.745653</td>\n",
       "    </tr>\n",
       "    <tr>\n",
       "      <th>Precision</th>\n",
       "      <td>0.750000</td>\n",
       "    </tr>\n",
       "    <tr>\n",
       "      <th>Recall</th>\n",
       "      <td>0.744828</td>\n",
       "    </tr>\n",
       "    <tr>\n",
       "      <th>f1 score</th>\n",
       "      <td>0.747405</td>\n",
       "    </tr>\n",
       "  </tbody>\n",
       "</table>\n",
       "</div>"
      ],
      "text/plain": [
       "                         DecisionTreeClassifier(max_depth=50) with TfidfVect - Metrics\n",
       "Test Data Accuracy                                                0.745645            \n",
       "Train Data Accuracy                                               0.932751            \n",
       "Balanced Accuracy Score                                           0.745653            \n",
       "Precision                                                         0.750000            \n",
       "Recall                                                            0.744828            \n",
       "f1 score                                                          0.747405            "
      ]
     },
     "execution_count": 76,
     "metadata": {},
     "output_type": "execute_result"
    }
   ],
   "source": [
    "#Decision Tree - tfidf function - lemm_text\n",
    "\n",
    "tree_tfidf_lemm_text = model_eval_tfidf(DecisionTreeClassifier(max_depth = 50), \n",
    "                                        X = df['lemm_text'], \n",
    "                                        y = df['target'])\n",
    "\n",
    "tree_tfidf_lemm_text"
   ]
  },
  {
   "cell_type": "code",
   "execution_count": 77,
   "id": "1b4e4fa2-8f29-4f7a-a20d-1d897d96e591",
   "metadata": {
    "tags": []
   },
   "outputs": [
    {
     "data": {
      "text/plain": [
       "0.777713558537819"
      ]
     },
     "execution_count": 77,
     "metadata": {},
     "output_type": "execute_result"
    }
   ],
   "source": [
    "tree_tfidf_lemm_text['DecisionTreeClassifier(max_depth=50) with TfidfVect - Metrics'].mean()"
   ]
  },
  {
   "cell_type": "code",
   "execution_count": 78,
   "id": "1a809ff4-417c-4d82-a29f-6f923a63d3a6",
   "metadata": {
    "tags": []
   },
   "outputs": [
    {
     "data": {
      "text/html": [
       "<div>\n",
       "<style scoped>\n",
       "    .dataframe tbody tr th:only-of-type {\n",
       "        vertical-align: middle;\n",
       "    }\n",
       "\n",
       "    .dataframe tbody tr th {\n",
       "        vertical-align: top;\n",
       "    }\n",
       "\n",
       "    .dataframe thead th {\n",
       "        text-align: right;\n",
       "    }\n",
       "</style>\n",
       "<table border=\"1\" class=\"dataframe\">\n",
       "  <thead>\n",
       "    <tr style=\"text-align: right;\">\n",
       "      <th></th>\n",
       "      <th>DecisionTreeClassifier(max_depth=50) with TfidfVect - Metrics</th>\n",
       "    </tr>\n",
       "  </thead>\n",
       "  <tbody>\n",
       "    <tr>\n",
       "      <th>Test Data Accuracy</th>\n",
       "      <td>0.770035</td>\n",
       "    </tr>\n",
       "    <tr>\n",
       "      <th>Train Data Accuracy</th>\n",
       "      <td>0.862882</td>\n",
       "    </tr>\n",
       "    <tr>\n",
       "      <th>Balanced Accuracy Score</th>\n",
       "      <td>0.768116</td>\n",
       "    </tr>\n",
       "    <tr>\n",
       "      <th>Precision</th>\n",
       "      <td>0.700508</td>\n",
       "    </tr>\n",
       "    <tr>\n",
       "      <th>Recall</th>\n",
       "      <td>0.951724</td>\n",
       "    </tr>\n",
       "    <tr>\n",
       "      <th>f1 score</th>\n",
       "      <td>0.807018</td>\n",
       "    </tr>\n",
       "  </tbody>\n",
       "</table>\n",
       "</div>"
      ],
      "text/plain": [
       "                         DecisionTreeClassifier(max_depth=50) with TfidfVect - Metrics\n",
       "Test Data Accuracy                                                0.770035            \n",
       "Train Data Accuracy                                               0.862882            \n",
       "Balanced Accuracy Score                                           0.768116            \n",
       "Precision                                                         0.700508            \n",
       "Recall                                                            0.951724            \n",
       "f1 score                                                          0.807018            "
      ]
     },
     "execution_count": 78,
     "metadata": {},
     "output_type": "execute_result"
    }
   ],
   "source": [
    "#Decision Tree - tfidf function - stem_title\n",
    "\n",
    "tree_tfidf_stem_title = model_eval_tfidf(DecisionTreeClassifier(max_depth = 50), \n",
    "                                        X = df['stem_title'], \n",
    "                                        y = df['target'])\n",
    "\n",
    "tree_tfidf_stem_title"
   ]
  },
  {
   "cell_type": "code",
   "execution_count": 79,
   "id": "4ca8092b-5371-4966-b75e-db24c8d0abe7",
   "metadata": {
    "tags": []
   },
   "outputs": [
    {
     "data": {
      "text/plain": [
       "0.8100469708952672"
      ]
     },
     "execution_count": 79,
     "metadata": {},
     "output_type": "execute_result"
    }
   ],
   "source": [
    "tree_tfidf_stem_title['DecisionTreeClassifier(max_depth=50) with TfidfVect - Metrics'].mean()"
   ]
  },
  {
   "cell_type": "code",
   "execution_count": 80,
   "id": "1408cf0d-274e-4c24-94f0-28aef39d48dd",
   "metadata": {
    "tags": []
   },
   "outputs": [
    {
     "data": {
      "text/html": [
       "<div>\n",
       "<style scoped>\n",
       "    .dataframe tbody tr th:only-of-type {\n",
       "        vertical-align: middle;\n",
       "    }\n",
       "\n",
       "    .dataframe tbody tr th {\n",
       "        vertical-align: top;\n",
       "    }\n",
       "\n",
       "    .dataframe thead th {\n",
       "        text-align: right;\n",
       "    }\n",
       "</style>\n",
       "<table border=\"1\" class=\"dataframe\">\n",
       "  <thead>\n",
       "    <tr style=\"text-align: right;\">\n",
       "      <th></th>\n",
       "      <th>DecisionTreeClassifier(max_depth=50) with TfidfVect - Metrics</th>\n",
       "    </tr>\n",
       "  </thead>\n",
       "  <tbody>\n",
       "    <tr>\n",
       "      <th>Test Data Accuracy</th>\n",
       "      <td>0.749129</td>\n",
       "    </tr>\n",
       "    <tr>\n",
       "      <th>Train Data Accuracy</th>\n",
       "      <td>0.951092</td>\n",
       "    </tr>\n",
       "    <tr>\n",
       "      <th>Balanced Accuracy Score</th>\n",
       "      <td>0.748956</td>\n",
       "    </tr>\n",
       "    <tr>\n",
       "      <th>Precision</th>\n",
       "      <td>0.744966</td>\n",
       "    </tr>\n",
       "    <tr>\n",
       "      <th>Recall</th>\n",
       "      <td>0.765517</td>\n",
       "    </tr>\n",
       "    <tr>\n",
       "      <th>f1 score</th>\n",
       "      <td>0.755102</td>\n",
       "    </tr>\n",
       "  </tbody>\n",
       "</table>\n",
       "</div>"
      ],
      "text/plain": [
       "                         DecisionTreeClassifier(max_depth=50) with TfidfVect - Metrics\n",
       "Test Data Accuracy                                                0.749129            \n",
       "Train Data Accuracy                                               0.951092            \n",
       "Balanced Accuracy Score                                           0.748956            \n",
       "Precision                                                         0.744966            \n",
       "Recall                                                            0.765517            \n",
       "f1 score                                                          0.755102            "
      ]
     },
     "execution_count": 80,
     "metadata": {},
     "output_type": "execute_result"
    }
   ],
   "source": [
    "#Decision Tree - tfidf function - stem_text\n",
    "\n",
    "tree_tfidf_stem_text = model_eval_tfidf(DecisionTreeClassifier(max_depth = 50), \n",
    "                                        X = df['stem_text'], \n",
    "                                        y = df['target'])\n",
    "\n",
    "tree_tfidf_stem_text"
   ]
  },
  {
   "cell_type": "code",
   "execution_count": 81,
   "id": "9a9b9d24-d4ae-4328-a976-75c9093798d7",
   "metadata": {
    "tags": []
   },
   "outputs": [
    {
     "data": {
      "text/plain": [
       "0.7857936919757166"
      ]
     },
     "execution_count": 81,
     "metadata": {},
     "output_type": "execute_result"
    }
   ],
   "source": [
    "tree_tfidf_stem_text['DecisionTreeClassifier(max_depth=50) with TfidfVect - Metrics'].mean()"
   ]
  },
  {
   "cell_type": "markdown",
   "id": "e707aa14-74c0-49b4-aa38-827cfee22ab8",
   "metadata": {
    "tags": []
   },
   "source": [
    "### IV. Naive Bayes"
   ]
  },
  {
   "cell_type": "markdown",
   "id": "05b09db7-0355-4f85-8acb-d6a987ecc239",
   "metadata": {
    "jp-MarkdownHeadingCollapsed": true,
    "tags": []
   },
   "source": [
    "#### with CountVectorizer"
   ]
  },
  {
   "cell_type": "code",
   "execution_count": 82,
   "id": "fabaaed4-1fcb-44df-8d69-9105565f81d3",
   "metadata": {
    "tags": []
   },
   "outputs": [
    {
     "data": {
      "text/html": [
       "<div>\n",
       "<style scoped>\n",
       "    .dataframe tbody tr th:only-of-type {\n",
       "        vertical-align: middle;\n",
       "    }\n",
       "\n",
       "    .dataframe tbody tr th {\n",
       "        vertical-align: top;\n",
       "    }\n",
       "\n",
       "    .dataframe thead th {\n",
       "        text-align: right;\n",
       "    }\n",
       "</style>\n",
       "<table border=\"1\" class=\"dataframe\">\n",
       "  <thead>\n",
       "    <tr style=\"text-align: right;\">\n",
       "      <th></th>\n",
       "      <th>MultinomialNB(alpha=170) with CVect - Metrics</th>\n",
       "    </tr>\n",
       "  </thead>\n",
       "  <tbody>\n",
       "    <tr>\n",
       "      <th>Test Data Accuracy</th>\n",
       "      <td>0.766551</td>\n",
       "    </tr>\n",
       "    <tr>\n",
       "      <th>Train Data Accuracy</th>\n",
       "      <td>0.869869</td>\n",
       "    </tr>\n",
       "    <tr>\n",
       "      <th>Balanced Accuracy Score</th>\n",
       "      <td>0.766197</td>\n",
       "    </tr>\n",
       "    <tr>\n",
       "      <th>Precision</th>\n",
       "      <td>0.753247</td>\n",
       "    </tr>\n",
       "    <tr>\n",
       "      <th>Recall</th>\n",
       "      <td>0.800000</td>\n",
       "    </tr>\n",
       "    <tr>\n",
       "      <th>f1 score</th>\n",
       "      <td>0.775920</td>\n",
       "    </tr>\n",
       "  </tbody>\n",
       "</table>\n",
       "</div>"
      ],
      "text/plain": [
       "                         MultinomialNB(alpha=170) with CVect - Metrics\n",
       "Test Data Accuracy                                            0.766551\n",
       "Train Data Accuracy                                           0.869869\n",
       "Balanced Accuracy Score                                       0.766197\n",
       "Precision                                                     0.753247\n",
       "Recall                                                        0.800000\n",
       "f1 score                                                      0.775920"
      ]
     },
     "execution_count": 82,
     "metadata": {},
     "output_type": "execute_result"
    }
   ],
   "source": [
    "#Naive Bayes - cvect function - lemm_title\n",
    "\n",
    "nb_cvect_lemm_title = model_eval_cvect(MultinomialNB(alpha = 170), \n",
    "                                  X = df['lemm_title'], \n",
    "                                  y = df['target'])\n",
    "\n",
    "nb_cvect_lemm_title"
   ]
  },
  {
   "cell_type": "code",
   "execution_count": 83,
   "id": "6ca1d792-aa52-42f8-b019-e7b92ebc3267",
   "metadata": {
    "tags": []
   },
   "outputs": [
    {
     "data": {
      "text/plain": [
       "0.7886305311780147"
      ]
     },
     "execution_count": 83,
     "metadata": {},
     "output_type": "execute_result"
    }
   ],
   "source": [
    "nb_cvect_lemm_title['MultinomialNB(alpha=170) with CVect - Metrics'].mean()"
   ]
  },
  {
   "cell_type": "code",
   "execution_count": 84,
   "id": "c6dc21b2-1bb6-4ee0-b02a-d2bcc1a9b1be",
   "metadata": {
    "tags": []
   },
   "outputs": [
    {
     "data": {
      "text/html": [
       "<div>\n",
       "<style scoped>\n",
       "    .dataframe tbody tr th:only-of-type {\n",
       "        vertical-align: middle;\n",
       "    }\n",
       "\n",
       "    .dataframe tbody tr th {\n",
       "        vertical-align: top;\n",
       "    }\n",
       "\n",
       "    .dataframe thead th {\n",
       "        text-align: right;\n",
       "    }\n",
       "</style>\n",
       "<table border=\"1\" class=\"dataframe\">\n",
       "  <thead>\n",
       "    <tr style=\"text-align: right;\">\n",
       "      <th></th>\n",
       "      <th>MultinomialNB(alpha=350) with CVect - Metrics</th>\n",
       "    </tr>\n",
       "  </thead>\n",
       "  <tbody>\n",
       "    <tr>\n",
       "      <th>Test Data Accuracy</th>\n",
       "      <td>0.724739</td>\n",
       "    </tr>\n",
       "    <tr>\n",
       "      <th>Train Data Accuracy</th>\n",
       "      <td>0.804367</td>\n",
       "    </tr>\n",
       "    <tr>\n",
       "      <th>Balanced Accuracy Score</th>\n",
       "      <td>0.723798</td>\n",
       "    </tr>\n",
       "    <tr>\n",
       "      <th>Precision</th>\n",
       "      <td>0.694118</td>\n",
       "    </tr>\n",
       "    <tr>\n",
       "      <th>Recall</th>\n",
       "      <td>0.813793</td>\n",
       "    </tr>\n",
       "    <tr>\n",
       "      <th>f1 score</th>\n",
       "      <td>0.749206</td>\n",
       "    </tr>\n",
       "  </tbody>\n",
       "</table>\n",
       "</div>"
      ],
      "text/plain": [
       "                         MultinomialNB(alpha=350) with CVect - Metrics\n",
       "Test Data Accuracy                                            0.724739\n",
       "Train Data Accuracy                                           0.804367\n",
       "Balanced Accuracy Score                                       0.723798\n",
       "Precision                                                     0.694118\n",
       "Recall                                                        0.813793\n",
       "f1 score                                                      0.749206"
      ]
     },
     "execution_count": 84,
     "metadata": {},
     "output_type": "execute_result"
    }
   ],
   "source": [
    "#Naive Bayes - cvect function - lemm_text\n",
    "\n",
    "nb_cvect_lemm_text = model_eval_cvect(MultinomialNB(alpha = 350), \n",
    "                                      X = df['lemm_text'], \n",
    "                                      y = df['target'])\n",
    "\n",
    "nb_cvect_lemm_text"
   ]
  },
  {
   "cell_type": "code",
   "execution_count": 85,
   "id": "c67622b3-7765-4dec-b67d-1445f7a0c016",
   "metadata": {
    "tags": []
   },
   "outputs": [
    {
     "data": {
      "text/plain": [
       "0.7516700913455923"
      ]
     },
     "execution_count": 85,
     "metadata": {},
     "output_type": "execute_result"
    }
   ],
   "source": [
    "nb_cvect_lemm_text['MultinomialNB(alpha=350) with CVect - Metrics'].mean()"
   ]
  },
  {
   "cell_type": "code",
   "execution_count": 86,
   "id": "4d7aba44-d467-45fa-baca-4f233a316b82",
   "metadata": {
    "tags": []
   },
   "outputs": [
    {
     "data": {
      "text/html": [
       "<div>\n",
       "<style scoped>\n",
       "    .dataframe tbody tr th:only-of-type {\n",
       "        vertical-align: middle;\n",
       "    }\n",
       "\n",
       "    .dataframe tbody tr th {\n",
       "        vertical-align: top;\n",
       "    }\n",
       "\n",
       "    .dataframe thead th {\n",
       "        text-align: right;\n",
       "    }\n",
       "</style>\n",
       "<table border=\"1\" class=\"dataframe\">\n",
       "  <thead>\n",
       "    <tr style=\"text-align: right;\">\n",
       "      <th></th>\n",
       "      <th>MultinomialNB(alpha=350) with CVect - Metrics</th>\n",
       "    </tr>\n",
       "  </thead>\n",
       "  <tbody>\n",
       "    <tr>\n",
       "      <th>Test Data Accuracy</th>\n",
       "      <td>0.770035</td>\n",
       "    </tr>\n",
       "    <tr>\n",
       "      <th>Train Data Accuracy</th>\n",
       "      <td>0.896943</td>\n",
       "    </tr>\n",
       "    <tr>\n",
       "      <th>Balanced Accuracy Score</th>\n",
       "      <td>0.769937</td>\n",
       "    </tr>\n",
       "    <tr>\n",
       "      <th>Precision</th>\n",
       "      <td>0.768707</td>\n",
       "    </tr>\n",
       "    <tr>\n",
       "      <th>Recall</th>\n",
       "      <td>0.779310</td>\n",
       "    </tr>\n",
       "    <tr>\n",
       "      <th>f1 score</th>\n",
       "      <td>0.773973</td>\n",
       "    </tr>\n",
       "  </tbody>\n",
       "</table>\n",
       "</div>"
      ],
      "text/plain": [
       "                         MultinomialNB(alpha=350) with CVect - Metrics\n",
       "Test Data Accuracy                                            0.770035\n",
       "Train Data Accuracy                                           0.896943\n",
       "Balanced Accuracy Score                                       0.769937\n",
       "Precision                                                     0.768707\n",
       "Recall                                                        0.779310\n",
       "f1 score                                                      0.773973"
      ]
     },
     "execution_count": 86,
     "metadata": {},
     "output_type": "execute_result"
    }
   ],
   "source": [
    "#Naive Bayes - cvect function - stem_title\n",
    "\n",
    "nb_cvect_stem_title = model_eval_cvect(MultinomialNB(alpha = 350), \n",
    "                                      X = df['stem_title'], \n",
    "                                      y = df['target'])\n",
    "\n",
    "nb_cvect_stem_title"
   ]
  },
  {
   "cell_type": "code",
   "execution_count": 87,
   "id": "edb64090-053e-4dd8-ba11-4d7a1c09cb23",
   "metadata": {
    "tags": []
   },
   "outputs": [
    {
     "data": {
      "text/plain": [
       "0.7931508946269618"
      ]
     },
     "execution_count": 87,
     "metadata": {},
     "output_type": "execute_result"
    }
   ],
   "source": [
    "nb_cvect_stem_title['MultinomialNB(alpha=350) with CVect - Metrics'].mean()"
   ]
  },
  {
   "cell_type": "code",
   "execution_count": 88,
   "id": "984371a6-4af9-4262-bf9d-b5ba3a178084",
   "metadata": {
    "tags": []
   },
   "outputs": [
    {
     "data": {
      "text/html": [
       "<div>\n",
       "<style scoped>\n",
       "    .dataframe tbody tr th:only-of-type {\n",
       "        vertical-align: middle;\n",
       "    }\n",
       "\n",
       "    .dataframe tbody tr th {\n",
       "        vertical-align: top;\n",
       "    }\n",
       "\n",
       "    .dataframe thead th {\n",
       "        text-align: right;\n",
       "    }\n",
       "</style>\n",
       "<table border=\"1\" class=\"dataframe\">\n",
       "  <thead>\n",
       "    <tr style=\"text-align: right;\">\n",
       "      <th></th>\n",
       "      <th>MultinomialNB(alpha=350) with CVect - Metrics</th>\n",
       "    </tr>\n",
       "  </thead>\n",
       "  <tbody>\n",
       "    <tr>\n",
       "      <th>Test Data Accuracy</th>\n",
       "      <td>0.770035</td>\n",
       "    </tr>\n",
       "    <tr>\n",
       "      <th>Train Data Accuracy</th>\n",
       "      <td>0.806114</td>\n",
       "    </tr>\n",
       "    <tr>\n",
       "      <th>Balanced Accuracy Score</th>\n",
       "      <td>0.769427</td>\n",
       "    </tr>\n",
       "    <tr>\n",
       "      <th>Precision</th>\n",
       "      <td>0.745342</td>\n",
       "    </tr>\n",
       "    <tr>\n",
       "      <th>Recall</th>\n",
       "      <td>0.827586</td>\n",
       "    </tr>\n",
       "    <tr>\n",
       "      <th>f1 score</th>\n",
       "      <td>0.784314</td>\n",
       "    </tr>\n",
       "  </tbody>\n",
       "</table>\n",
       "</div>"
      ],
      "text/plain": [
       "                         MultinomialNB(alpha=350) with CVect - Metrics\n",
       "Test Data Accuracy                                            0.770035\n",
       "Train Data Accuracy                                           0.806114\n",
       "Balanced Accuracy Score                                       0.769427\n",
       "Precision                                                     0.745342\n",
       "Recall                                                        0.827586\n",
       "f1 score                                                      0.784314"
      ]
     },
     "execution_count": 88,
     "metadata": {},
     "output_type": "execute_result"
    }
   ],
   "source": [
    "#Naive Bayes - cvect function - stem_text\n",
    "\n",
    "nb_cvect_stem_text = model_eval_cvect(MultinomialNB(alpha = 350), \n",
    "                                      X = df['stem_text'], \n",
    "                                      y = df['target'])\n",
    "\n",
    "nb_cvect_stem_text"
   ]
  },
  {
   "cell_type": "code",
   "execution_count": 89,
   "id": "21a195b0-2bd3-42f8-9148-eb857c2c74c4",
   "metadata": {
    "tags": []
   },
   "outputs": [
    {
     "data": {
      "text/plain": [
       "0.7838028056470394"
      ]
     },
     "execution_count": 89,
     "metadata": {},
     "output_type": "execute_result"
    }
   ],
   "source": [
    "nb_cvect_stem_text['MultinomialNB(alpha=350) with CVect - Metrics'].mean()"
   ]
  },
  {
   "cell_type": "markdown",
   "id": "986eb362-2e49-4a74-9990-a84d763fa0b0",
   "metadata": {
    "jp-MarkdownHeadingCollapsed": true,
    "tags": []
   },
   "source": [
    "#### with TfidfVectorizer"
   ]
  },
  {
   "cell_type": "code",
   "execution_count": 90,
   "id": "928ae030-7890-4253-8916-f878024356c6",
   "metadata": {
    "tags": []
   },
   "outputs": [
    {
     "data": {
      "text/html": [
       "<div>\n",
       "<style scoped>\n",
       "    .dataframe tbody tr th:only-of-type {\n",
       "        vertical-align: middle;\n",
       "    }\n",
       "\n",
       "    .dataframe tbody tr th {\n",
       "        vertical-align: top;\n",
       "    }\n",
       "\n",
       "    .dataframe thead th {\n",
       "        text-align: right;\n",
       "    }\n",
       "</style>\n",
       "<table border=\"1\" class=\"dataframe\">\n",
       "  <thead>\n",
       "    <tr style=\"text-align: right;\">\n",
       "      <th></th>\n",
       "      <th>MultinomialNB(alpha=250) with TfidfVect - Metrics</th>\n",
       "    </tr>\n",
       "  </thead>\n",
       "  <tbody>\n",
       "    <tr>\n",
       "      <th>Test Data Accuracy</th>\n",
       "      <td>0.745645</td>\n",
       "    </tr>\n",
       "    <tr>\n",
       "      <th>Train Data Accuracy</th>\n",
       "      <td>0.894323</td>\n",
       "    </tr>\n",
       "    <tr>\n",
       "      <th>Balanced Accuracy Score</th>\n",
       "      <td>0.745070</td>\n",
       "    </tr>\n",
       "    <tr>\n",
       "      <th>Precision</th>\n",
       "      <td>0.725000</td>\n",
       "    </tr>\n",
       "    <tr>\n",
       "      <th>Recall</th>\n",
       "      <td>0.800000</td>\n",
       "    </tr>\n",
       "    <tr>\n",
       "      <th>f1 score</th>\n",
       "      <td>0.760656</td>\n",
       "    </tr>\n",
       "  </tbody>\n",
       "</table>\n",
       "</div>"
      ],
      "text/plain": [
       "                         MultinomialNB(alpha=250) with TfidfVect - Metrics\n",
       "Test Data Accuracy                                                0.745645\n",
       "Train Data Accuracy                                               0.894323\n",
       "Balanced Accuracy Score                                           0.745070\n",
       "Precision                                                         0.725000\n",
       "Recall                                                            0.800000\n",
       "f1 score                                                          0.760656"
      ]
     },
     "execution_count": 90,
     "metadata": {},
     "output_type": "execute_result"
    }
   ],
   "source": [
    "#Naive Bayes - tfidf function - lemm_title\n",
    "\n",
    "nb_tfidf_lemm_title = model_eval_tfidf(MultinomialNB(alpha= 250), \n",
    "                                        X = df['lemm_title'], \n",
    "                                        y = df['target'])\n",
    "\n",
    "nb_tfidf_lemm_title"
   ]
  },
  {
   "cell_type": "code",
   "execution_count": 91,
   "id": "38e33756-8e05-406f-aed1-c3ca9408032f",
   "metadata": {
    "tags": []
   },
   "outputs": [
    {
     "data": {
      "text/plain": [
       "0.7784489839413449"
      ]
     },
     "execution_count": 91,
     "metadata": {},
     "output_type": "execute_result"
    }
   ],
   "source": [
    "nb_tfidf_lemm_title['MultinomialNB(alpha=250) with TfidfVect - Metrics'].mean()"
   ]
  },
  {
   "cell_type": "code",
   "execution_count": 92,
   "id": "034571fc-c753-4c90-b6b2-514b79414982",
   "metadata": {
    "tags": []
   },
   "outputs": [
    {
     "data": {
      "text/html": [
       "<div>\n",
       "<style scoped>\n",
       "    .dataframe tbody tr th:only-of-type {\n",
       "        vertical-align: middle;\n",
       "    }\n",
       "\n",
       "    .dataframe tbody tr th {\n",
       "        vertical-align: top;\n",
       "    }\n",
       "\n",
       "    .dataframe thead th {\n",
       "        text-align: right;\n",
       "    }\n",
       "</style>\n",
       "<table border=\"1\" class=\"dataframe\">\n",
       "  <thead>\n",
       "    <tr style=\"text-align: right;\">\n",
       "      <th></th>\n",
       "      <th>MultinomialNB(alpha=250) with TfidfVect - Metrics</th>\n",
       "    </tr>\n",
       "  </thead>\n",
       "  <tbody>\n",
       "    <tr>\n",
       "      <th>Test Data Accuracy</th>\n",
       "      <td>0.756098</td>\n",
       "    </tr>\n",
       "    <tr>\n",
       "      <th>Train Data Accuracy</th>\n",
       "      <td>0.845415</td>\n",
       "    </tr>\n",
       "    <tr>\n",
       "      <th>Balanced Accuracy Score</th>\n",
       "      <td>0.755634</td>\n",
       "    </tr>\n",
       "    <tr>\n",
       "      <th>Precision</th>\n",
       "      <td>0.738854</td>\n",
       "    </tr>\n",
       "    <tr>\n",
       "      <th>Recall</th>\n",
       "      <td>0.800000</td>\n",
       "    </tr>\n",
       "    <tr>\n",
       "      <th>f1 score</th>\n",
       "      <td>0.768212</td>\n",
       "    </tr>\n",
       "  </tbody>\n",
       "</table>\n",
       "</div>"
      ],
      "text/plain": [
       "                         MultinomialNB(alpha=250) with TfidfVect - Metrics\n",
       "Test Data Accuracy                                                0.756098\n",
       "Train Data Accuracy                                               0.845415\n",
       "Balanced Accuracy Score                                           0.755634\n",
       "Precision                                                         0.738854\n",
       "Recall                                                            0.800000\n",
       "f1 score                                                          0.768212"
      ]
     },
     "execution_count": 92,
     "metadata": {},
     "output_type": "execute_result"
    }
   ],
   "source": [
    "#Naive Bayes - tfidf function - lemm_text\n",
    "\n",
    "nb_tfidf_lemm_text = model_eval_tfidf(MultinomialNB(alpha= 250), \n",
    "                                        X = df['lemm_text'], \n",
    "                                        y = df['target'])\n",
    "\n",
    "nb_tfidf_lemm_text"
   ]
  },
  {
   "cell_type": "code",
   "execution_count": 93,
   "id": "cf236006-103e-4d9d-ae23-a362f59fcea6",
   "metadata": {
    "tags": []
   },
   "outputs": [
    {
     "data": {
      "text/plain": [
       "0.7773686057780997"
      ]
     },
     "execution_count": 93,
     "metadata": {},
     "output_type": "execute_result"
    }
   ],
   "source": [
    "nb_tfidf_lemm_text['MultinomialNB(alpha=250) with TfidfVect - Metrics'].mean()"
   ]
  },
  {
   "cell_type": "code",
   "execution_count": 94,
   "id": "7cbe6b3c-6b69-4ad6-b5c6-a91294f1cfa1",
   "metadata": {
    "tags": []
   },
   "outputs": [
    {
     "data": {
      "text/html": [
       "<div>\n",
       "<style scoped>\n",
       "    .dataframe tbody tr th:only-of-type {\n",
       "        vertical-align: middle;\n",
       "    }\n",
       "\n",
       "    .dataframe tbody tr th {\n",
       "        vertical-align: top;\n",
       "    }\n",
       "\n",
       "    .dataframe thead th {\n",
       "        text-align: right;\n",
       "    }\n",
       "</style>\n",
       "<table border=\"1\" class=\"dataframe\">\n",
       "  <thead>\n",
       "    <tr style=\"text-align: right;\">\n",
       "      <th></th>\n",
       "      <th>MultinomialNB(alpha=250) with TfidfVect - Metrics</th>\n",
       "    </tr>\n",
       "  </thead>\n",
       "  <tbody>\n",
       "    <tr>\n",
       "      <th>Test Data Accuracy</th>\n",
       "      <td>0.766551</td>\n",
       "    </tr>\n",
       "    <tr>\n",
       "      <th>Train Data Accuracy</th>\n",
       "      <td>0.900437</td>\n",
       "    </tr>\n",
       "    <tr>\n",
       "      <th>Balanced Accuracy Score</th>\n",
       "      <td>0.766197</td>\n",
       "    </tr>\n",
       "    <tr>\n",
       "      <th>Precision</th>\n",
       "      <td>0.753247</td>\n",
       "    </tr>\n",
       "    <tr>\n",
       "      <th>Recall</th>\n",
       "      <td>0.800000</td>\n",
       "    </tr>\n",
       "    <tr>\n",
       "      <th>f1 score</th>\n",
       "      <td>0.775920</td>\n",
       "    </tr>\n",
       "  </tbody>\n",
       "</table>\n",
       "</div>"
      ],
      "text/plain": [
       "                         MultinomialNB(alpha=250) with TfidfVect - Metrics\n",
       "Test Data Accuracy                                                0.766551\n",
       "Train Data Accuracy                                               0.900437\n",
       "Balanced Accuracy Score                                           0.766197\n",
       "Precision                                                         0.753247\n",
       "Recall                                                            0.800000\n",
       "f1 score                                                          0.775920"
      ]
     },
     "execution_count": 94,
     "metadata": {},
     "output_type": "execute_result"
    }
   ],
   "source": [
    "#Naive Bayes - tfidf function - stem_title\n",
    "\n",
    "nb_tfidf_stem_title = model_eval_tfidf(MultinomialNB(alpha= 250), \n",
    "                                        X = df['stem_title'], \n",
    "                                        y = df['target'])\n",
    "\n",
    "nb_tfidf_stem_title"
   ]
  },
  {
   "cell_type": "code",
   "execution_count": 95,
   "id": "41981042-0406-4cdc-bb39-9d8addea0d63",
   "metadata": {
    "tags": []
   },
   "outputs": [
    {
     "data": {
      "text/plain": [
       "0.7937251454429347"
      ]
     },
     "execution_count": 95,
     "metadata": {},
     "output_type": "execute_result"
    }
   ],
   "source": [
    "nb_tfidf_stem_title['MultinomialNB(alpha=250) with TfidfVect - Metrics'].mean()"
   ]
  },
  {
   "cell_type": "code",
   "execution_count": 96,
   "id": "95a4689f-ddf3-4645-bc71-5b3b7d7af19e",
   "metadata": {
    "tags": []
   },
   "outputs": [
    {
     "data": {
      "text/html": [
       "<div>\n",
       "<style scoped>\n",
       "    .dataframe tbody tr th:only-of-type {\n",
       "        vertical-align: middle;\n",
       "    }\n",
       "\n",
       "    .dataframe tbody tr th {\n",
       "        vertical-align: top;\n",
       "    }\n",
       "\n",
       "    .dataframe thead th {\n",
       "        text-align: right;\n",
       "    }\n",
       "</style>\n",
       "<table border=\"1\" class=\"dataframe\">\n",
       "  <thead>\n",
       "    <tr style=\"text-align: right;\">\n",
       "      <th></th>\n",
       "      <th>MultinomialNB(alpha=250) with TfidfVect - Metrics</th>\n",
       "    </tr>\n",
       "  </thead>\n",
       "  <tbody>\n",
       "    <tr>\n",
       "      <th>Test Data Accuracy</th>\n",
       "      <td>0.756098</td>\n",
       "    </tr>\n",
       "    <tr>\n",
       "      <th>Train Data Accuracy</th>\n",
       "      <td>0.885590</td>\n",
       "    </tr>\n",
       "    <tr>\n",
       "      <th>Balanced Accuracy Score</th>\n",
       "      <td>0.754905</td>\n",
       "    </tr>\n",
       "    <tr>\n",
       "      <th>Precision</th>\n",
       "      <td>0.711864</td>\n",
       "    </tr>\n",
       "    <tr>\n",
       "      <th>Recall</th>\n",
       "      <td>0.868966</td>\n",
       "    </tr>\n",
       "    <tr>\n",
       "      <th>f1 score</th>\n",
       "      <td>0.782609</td>\n",
       "    </tr>\n",
       "  </tbody>\n",
       "</table>\n",
       "</div>"
      ],
      "text/plain": [
       "                         MultinomialNB(alpha=250) with TfidfVect - Metrics\n",
       "Test Data Accuracy                                                0.756098\n",
       "Train Data Accuracy                                               0.885590\n",
       "Balanced Accuracy Score                                           0.754905\n",
       "Precision                                                         0.711864\n",
       "Recall                                                            0.868966\n",
       "f1 score                                                          0.782609"
      ]
     },
     "execution_count": 96,
     "metadata": {},
     "output_type": "execute_result"
    }
   ],
   "source": [
    "#Naive Bayes - tfidf function - stem_text\n",
    "\n",
    "nb_tfidf_stem_text = model_eval_tfidf(MultinomialNB(alpha= 250), \n",
    "                                        X = df['stem_text'], \n",
    "                                        y = df['target'])\n",
    "\n",
    "nb_tfidf_stem_text"
   ]
  },
  {
   "cell_type": "code",
   "execution_count": 97,
   "id": "4c840110-99c4-4707-b617-b70406fb4f05",
   "metadata": {
    "tags": []
   },
   "outputs": [
    {
     "data": {
      "text/plain": [
       "0.793338499021906"
      ]
     },
     "execution_count": 97,
     "metadata": {},
     "output_type": "execute_result"
    }
   ],
   "source": [
    "nb_tfidf_stem_text['MultinomialNB(alpha=250) with TfidfVect - Metrics'].mean()"
   ]
  },
  {
   "cell_type": "markdown",
   "id": "46ed6aee-fc80-44fa-a513-6131409d6fac",
   "metadata": {
    "jp-MarkdownHeadingCollapsed": true,
    "tags": []
   },
   "source": [
    "## Section 3: Comparing Models "
   ]
  },
  {
   "cell_type": "code",
   "execution_count": 108,
   "id": "9a6080da-1b1d-4226-b98c-b3e682adfecb",
   "metadata": {
    "tags": []
   },
   "outputs": [
    {
     "data": {
      "text/html": [
       "<div>\n",
       "<style scoped>\n",
       "    .dataframe tbody tr th:only-of-type {\n",
       "        vertical-align: middle;\n",
       "    }\n",
       "\n",
       "    .dataframe tbody tr th {\n",
       "        vertical-align: top;\n",
       "    }\n",
       "\n",
       "    .dataframe thead th {\n",
       "        text-align: right;\n",
       "    }\n",
       "</style>\n",
       "<table border=\"1\" class=\"dataframe\">\n",
       "  <thead>\n",
       "    <tr style=\"text-align: right;\">\n",
       "      <th></th>\n",
       "      <th>LogisticRegression(C=0.2) with CVect - Metrics</th>\n",
       "    </tr>\n",
       "  </thead>\n",
       "  <tbody>\n",
       "    <tr>\n",
       "      <th>Test Data Accuracy</th>\n",
       "      <td>0.822300</td>\n",
       "    </tr>\n",
       "    <tr>\n",
       "      <th>Train Data Accuracy</th>\n",
       "      <td>0.958952</td>\n",
       "    </tr>\n",
       "    <tr>\n",
       "      <th>Balanced Accuracy Score</th>\n",
       "      <td>0.821442</td>\n",
       "    </tr>\n",
       "    <tr>\n",
       "      <th>Precision</th>\n",
       "      <td>0.779762</td>\n",
       "    </tr>\n",
       "    <tr>\n",
       "      <th>Recall</th>\n",
       "      <td>0.903448</td>\n",
       "    </tr>\n",
       "    <tr>\n",
       "      <th>f1 score</th>\n",
       "      <td>0.837061</td>\n",
       "    </tr>\n",
       "  </tbody>\n",
       "</table>\n",
       "</div>"
      ],
      "text/plain": [
       "                         LogisticRegression(C=0.2) with CVect - Metrics\n",
       "Test Data Accuracy                                             0.822300\n",
       "Train Data Accuracy                                            0.958952\n",
       "Balanced Accuracy Score                                        0.821442\n",
       "Precision                                                      0.779762\n",
       "Recall                                                         0.903448\n",
       "f1 score                                                       0.837061"
      ]
     },
     "execution_count": 108,
     "metadata": {},
     "output_type": "execute_result"
    }
   ],
   "source": [
    "logr_cvect_lemm_title"
   ]
  },
  {
   "cell_type": "code",
   "execution_count": 109,
   "id": "23fdaad4-dceb-4b33-84b8-2d9851b3a77d",
   "metadata": {},
   "outputs": [
    {
     "data": {
      "text/plain": [
       "0.8328025965715014"
      ]
     },
     "execution_count": 109,
     "metadata": {},
     "output_type": "execute_result"
    }
   ],
   "source": [
    "logr_cvect_lemm_title['LogisticRegression(C=0.2) with CVect - Metrics'].drop('Train Data Accuracy').mean()"
   ]
  },
  {
   "cell_type": "code",
   "execution_count": 110,
   "id": "520290d3-d07e-446f-9d51-a658bb4d61e8",
   "metadata": {},
   "outputs": [
    {
     "data": {
      "text/plain": [
       "0.7743091766479246"
      ]
     },
     "execution_count": 110,
     "metadata": {},
     "output_type": "execute_result"
    }
   ],
   "source": [
    "logr_cvect_lemm_text['LogisticRegression(C=0.5) with CVect - Metrics'].drop('Train Data Accuracy').mean()"
   ]
  },
  {
   "cell_type": "code",
   "execution_count": 111,
   "id": "758e36e8-d101-470f-8ba7-9b9ce50a3742",
   "metadata": {
    "tags": []
   },
   "outputs": [
    {
     "data": {
      "text/plain": [
       "0.812076738553292"
      ]
     },
     "execution_count": 111,
     "metadata": {},
     "output_type": "execute_result"
    }
   ],
   "source": [
    "logr_cvect_stem_title['LogisticRegression() with CVect - Metrics'].drop('Train Data Accuracy').mean()"
   ]
  },
  {
   "cell_type": "code",
   "execution_count": 112,
   "id": "41f7ebf8-7eb3-4700-a33c-30ce7617df4d",
   "metadata": {},
   "outputs": [
    {
     "data": {
      "text/plain": [
       "0.812922382651261"
      ]
     },
     "execution_count": 112,
     "metadata": {},
     "output_type": "execute_result"
    }
   ],
   "source": [
    "logr_cvect_stem_text['LogisticRegression(C=0.6) with CVect - Metrics'].drop('Train Data Accuracy').mean()"
   ]
  },
  {
   "cell_type": "markdown",
   "id": "97a445e4-39b3-4293-9d15-07d4955d5083",
   "metadata": {},
   "source": [
    "**Best performing model characteristics:**\n",
    "- Logistic Regression \n",
    "- CountVectorizer \n",
    "- `lemm_title` feature"
   ]
  },
  {
   "cell_type": "markdown",
   "id": "fdc91f7a-b20d-4cca-aafa-72c4888d3359",
   "metadata": {
    "tags": []
   },
   "source": [
    "## Section 4: Final Model & Interpretation\n"
   ]
  },
  {
   "cell_type": "code",
   "execution_count": 118,
   "id": "267addee-3acc-4c79-a7dc-61690d7b5d69",
   "metadata": {
    "tags": []
   },
   "outputs": [],
   "source": [
    "final_pipe = make_pipeline(\n",
    "    CountVectorizer(),\n",
    "    StandardScaler(with_mean = False),\n",
    "    LogisticRegression(C = .2)\n",
    ")\n",
    "\n",
    "final_gs = GridSearchCV(\n",
    "    final_pipe,\n",
    "    param_grid = {\n",
    "        'countvectorizer__max_features': [350, 500, 650],\n",
    "        'countvectorizer__ngram_range': [(1, 1), (1, 2), (2, 2), (2, 3)]\n",
    "    })"
   ]
  },
  {
   "cell_type": "code",
   "execution_count": 211,
   "id": "a422c2d1-1e4c-4dbc-ba28-c6251c0899c4",
   "metadata": {
    "tags": []
   },
   "outputs": [],
   "source": [
    "X = df['lemm_title']\n",
    "y = df['target']"
   ]
  },
  {
   "cell_type": "code",
   "execution_count": 212,
   "id": "f9a33585-3595-45ec-a6bd-236f190a5f95",
   "metadata": {
    "tags": []
   },
   "outputs": [],
   "source": [
    "X_train, X_test, y_train, y_test = train_test_split(X, y, stratify = y, test_size = .2)"
   ]
  },
  {
   "cell_type": "code",
   "execution_count": 213,
   "id": "0c7e3ec9-cb95-4848-a28d-0964e6cdb67d",
   "metadata": {
    "tags": []
   },
   "outputs": [
    {
     "data": {
      "text/html": [
       "<style>#sk-container-id-9 {color: black;background-color: white;}#sk-container-id-9 pre{padding: 0;}#sk-container-id-9 div.sk-toggleable {background-color: white;}#sk-container-id-9 label.sk-toggleable__label {cursor: pointer;display: block;width: 100%;margin-bottom: 0;padding: 0.3em;box-sizing: border-box;text-align: center;}#sk-container-id-9 label.sk-toggleable__label-arrow:before {content: \"▸\";float: left;margin-right: 0.25em;color: #696969;}#sk-container-id-9 label.sk-toggleable__label-arrow:hover:before {color: black;}#sk-container-id-9 div.sk-estimator:hover label.sk-toggleable__label-arrow:before {color: black;}#sk-container-id-9 div.sk-toggleable__content {max-height: 0;max-width: 0;overflow: hidden;text-align: left;background-color: #f0f8ff;}#sk-container-id-9 div.sk-toggleable__content pre {margin: 0.2em;color: black;border-radius: 0.25em;background-color: #f0f8ff;}#sk-container-id-9 input.sk-toggleable__control:checked~div.sk-toggleable__content {max-height: 200px;max-width: 100%;overflow: auto;}#sk-container-id-9 input.sk-toggleable__control:checked~label.sk-toggleable__label-arrow:before {content: \"▾\";}#sk-container-id-9 div.sk-estimator input.sk-toggleable__control:checked~label.sk-toggleable__label {background-color: #d4ebff;}#sk-container-id-9 div.sk-label input.sk-toggleable__control:checked~label.sk-toggleable__label {background-color: #d4ebff;}#sk-container-id-9 input.sk-hidden--visually {border: 0;clip: rect(1px 1px 1px 1px);clip: rect(1px, 1px, 1px, 1px);height: 1px;margin: -1px;overflow: hidden;padding: 0;position: absolute;width: 1px;}#sk-container-id-9 div.sk-estimator {font-family: monospace;background-color: #f0f8ff;border: 1px dotted black;border-radius: 0.25em;box-sizing: border-box;margin-bottom: 0.5em;}#sk-container-id-9 div.sk-estimator:hover {background-color: #d4ebff;}#sk-container-id-9 div.sk-parallel-item::after {content: \"\";width: 100%;border-bottom: 1px solid gray;flex-grow: 1;}#sk-container-id-9 div.sk-label:hover label.sk-toggleable__label {background-color: #d4ebff;}#sk-container-id-9 div.sk-serial::before {content: \"\";position: absolute;border-left: 1px solid gray;box-sizing: border-box;top: 0;bottom: 0;left: 50%;z-index: 0;}#sk-container-id-9 div.sk-serial {display: flex;flex-direction: column;align-items: center;background-color: white;padding-right: 0.2em;padding-left: 0.2em;position: relative;}#sk-container-id-9 div.sk-item {position: relative;z-index: 1;}#sk-container-id-9 div.sk-parallel {display: flex;align-items: stretch;justify-content: center;background-color: white;position: relative;}#sk-container-id-9 div.sk-item::before, #sk-container-id-9 div.sk-parallel-item::before {content: \"\";position: absolute;border-left: 1px solid gray;box-sizing: border-box;top: 0;bottom: 0;left: 50%;z-index: -1;}#sk-container-id-9 div.sk-parallel-item {display: flex;flex-direction: column;z-index: 1;position: relative;background-color: white;}#sk-container-id-9 div.sk-parallel-item:first-child::after {align-self: flex-end;width: 50%;}#sk-container-id-9 div.sk-parallel-item:last-child::after {align-self: flex-start;width: 50%;}#sk-container-id-9 div.sk-parallel-item:only-child::after {width: 0;}#sk-container-id-9 div.sk-dashed-wrapped {border: 1px dashed gray;margin: 0 0.4em 0.5em 0.4em;box-sizing: border-box;padding-bottom: 0.4em;background-color: white;}#sk-container-id-9 div.sk-label label {font-family: monospace;font-weight: bold;display: inline-block;line-height: 1.2em;}#sk-container-id-9 div.sk-label-container {text-align: center;}#sk-container-id-9 div.sk-container {/* jupyter's `normalize.less` sets `[hidden] { display: none; }` but bootstrap.min.css set `[hidden] { display: none !important; }` so we also need the `!important` here to be able to override the default hidden behavior on the sphinx rendered scikit-learn.org. See: https://github.com/scikit-learn/scikit-learn/issues/21755 */display: inline-block !important;position: relative;}#sk-container-id-9 div.sk-text-repr-fallback {display: none;}</style><div id=\"sk-container-id-9\" class=\"sk-top-container\"><div class=\"sk-text-repr-fallback\"><pre>GridSearchCV(estimator=Pipeline(steps=[(&#x27;countvectorizer&#x27;, CountVectorizer()),\n",
       "                                       (&#x27;standardscaler&#x27;,\n",
       "                                        StandardScaler(with_mean=False)),\n",
       "                                       (&#x27;logisticregression&#x27;,\n",
       "                                        LogisticRegression(C=0.2))]),\n",
       "             param_grid={&#x27;countvectorizer__max_features&#x27;: [350, 500, 650],\n",
       "                         &#x27;countvectorizer__ngram_range&#x27;: [(1, 1), (1, 2),\n",
       "                                                          (2, 2), (2, 3)]})</pre><b>In a Jupyter environment, please rerun this cell to show the HTML representation or trust the notebook. <br />On GitHub, the HTML representation is unable to render, please try loading this page with nbviewer.org.</b></div><div class=\"sk-container\" hidden><div class=\"sk-item sk-dashed-wrapped\"><div class=\"sk-label-container\"><div class=\"sk-label sk-toggleable\"><input class=\"sk-toggleable__control sk-hidden--visually\" id=\"sk-estimator-id-41\" type=\"checkbox\" ><label for=\"sk-estimator-id-41\" class=\"sk-toggleable__label sk-toggleable__label-arrow\">GridSearchCV</label><div class=\"sk-toggleable__content\"><pre>GridSearchCV(estimator=Pipeline(steps=[(&#x27;countvectorizer&#x27;, CountVectorizer()),\n",
       "                                       (&#x27;standardscaler&#x27;,\n",
       "                                        StandardScaler(with_mean=False)),\n",
       "                                       (&#x27;logisticregression&#x27;,\n",
       "                                        LogisticRegression(C=0.2))]),\n",
       "             param_grid={&#x27;countvectorizer__max_features&#x27;: [350, 500, 650],\n",
       "                         &#x27;countvectorizer__ngram_range&#x27;: [(1, 1), (1, 2),\n",
       "                                                          (2, 2), (2, 3)]})</pre></div></div></div><div class=\"sk-parallel\"><div class=\"sk-parallel-item\"><div class=\"sk-item\"><div class=\"sk-label-container\"><div class=\"sk-label sk-toggleable\"><input class=\"sk-toggleable__control sk-hidden--visually\" id=\"sk-estimator-id-42\" type=\"checkbox\" ><label for=\"sk-estimator-id-42\" class=\"sk-toggleable__label sk-toggleable__label-arrow\">estimator: Pipeline</label><div class=\"sk-toggleable__content\"><pre>Pipeline(steps=[(&#x27;countvectorizer&#x27;, CountVectorizer()),\n",
       "                (&#x27;standardscaler&#x27;, StandardScaler(with_mean=False)),\n",
       "                (&#x27;logisticregression&#x27;, LogisticRegression(C=0.2))])</pre></div></div></div><div class=\"sk-serial\"><div class=\"sk-item\"><div class=\"sk-serial\"><div class=\"sk-item\"><div class=\"sk-estimator sk-toggleable\"><input class=\"sk-toggleable__control sk-hidden--visually\" id=\"sk-estimator-id-43\" type=\"checkbox\" ><label for=\"sk-estimator-id-43\" class=\"sk-toggleable__label sk-toggleable__label-arrow\">CountVectorizer</label><div class=\"sk-toggleable__content\"><pre>CountVectorizer()</pre></div></div></div><div class=\"sk-item\"><div class=\"sk-estimator sk-toggleable\"><input class=\"sk-toggleable__control sk-hidden--visually\" id=\"sk-estimator-id-44\" type=\"checkbox\" ><label for=\"sk-estimator-id-44\" class=\"sk-toggleable__label sk-toggleable__label-arrow\">StandardScaler</label><div class=\"sk-toggleable__content\"><pre>StandardScaler(with_mean=False)</pre></div></div></div><div class=\"sk-item\"><div class=\"sk-estimator sk-toggleable\"><input class=\"sk-toggleable__control sk-hidden--visually\" id=\"sk-estimator-id-45\" type=\"checkbox\" ><label for=\"sk-estimator-id-45\" class=\"sk-toggleable__label sk-toggleable__label-arrow\">LogisticRegression</label><div class=\"sk-toggleable__content\"><pre>LogisticRegression(C=0.2)</pre></div></div></div></div></div></div></div></div></div></div></div></div>"
      ],
      "text/plain": [
       "GridSearchCV(estimator=Pipeline(steps=[('countvectorizer', CountVectorizer()),\n",
       "                                       ('standardscaler',\n",
       "                                        StandardScaler(with_mean=False)),\n",
       "                                       ('logisticregression',\n",
       "                                        LogisticRegression(C=0.2))]),\n",
       "             param_grid={'countvectorizer__max_features': [350, 500, 650],\n",
       "                         'countvectorizer__ngram_range': [(1, 1), (1, 2),\n",
       "                                                          (2, 2), (2, 3)]})"
      ]
     },
     "execution_count": 213,
     "metadata": {},
     "output_type": "execute_result"
    }
   ],
   "source": [
    "final_gs.fit(X_train, y_train)"
   ]
  },
  {
   "cell_type": "code",
   "execution_count": 267,
   "id": "eba6195f-3900-4a47-b533-3ce353f51f04",
   "metadata": {
    "tags": []
   },
   "outputs": [
    {
     "data": {
      "text/plain": [
       "{'countvectorizer__max_features': 650, 'countvectorizer__ngram_range': (1, 1)}"
      ]
     },
     "execution_count": 267,
     "metadata": {},
     "output_type": "execute_result"
    }
   ],
   "source": [
    "final_gs.best_params_"
   ]
  },
  {
   "cell_type": "code",
   "execution_count": 268,
   "id": "493b20ea-d7d3-471f-9df4-eed99e34146d",
   "metadata": {
    "tags": []
   },
   "outputs": [
    {
     "data": {
      "text/html": [
       "<div>\n",
       "<style scoped>\n",
       "    .dataframe tbody tr th:only-of-type {\n",
       "        vertical-align: middle;\n",
       "    }\n",
       "\n",
       "    .dataframe tbody tr th {\n",
       "        vertical-align: top;\n",
       "    }\n",
       "\n",
       "    .dataframe thead th {\n",
       "        text-align: right;\n",
       "    }\n",
       "</style>\n",
       "<table border=\"1\" class=\"dataframe\">\n",
       "  <thead>\n",
       "    <tr style=\"text-align: right;\">\n",
       "      <th></th>\n",
       "      <th>mean_fit_time</th>\n",
       "      <th>std_fit_time</th>\n",
       "      <th>mean_score_time</th>\n",
       "      <th>std_score_time</th>\n",
       "      <th>param_countvectorizer__max_features</th>\n",
       "      <th>param_countvectorizer__ngram_range</th>\n",
       "      <th>params</th>\n",
       "      <th>split0_test_score</th>\n",
       "      <th>split1_test_score</th>\n",
       "      <th>split2_test_score</th>\n",
       "      <th>split3_test_score</th>\n",
       "      <th>split4_test_score</th>\n",
       "      <th>mean_test_score</th>\n",
       "      <th>std_test_score</th>\n",
       "      <th>rank_test_score</th>\n",
       "    </tr>\n",
       "  </thead>\n",
       "  <tbody>\n",
       "    <tr>\n",
       "      <th>0</th>\n",
       "      <td>0.012589</td>\n",
       "      <td>0.003691</td>\n",
       "      <td>0.001424</td>\n",
       "      <td>0.000221</td>\n",
       "      <td>350</td>\n",
       "      <td>(1, 1)</td>\n",
       "      <td>{'countvectorizer__max_features': 350, 'countv...</td>\n",
       "      <td>0.772926</td>\n",
       "      <td>0.737991</td>\n",
       "      <td>0.729258</td>\n",
       "      <td>0.799127</td>\n",
       "      <td>0.641921</td>\n",
       "      <td>0.736245</td>\n",
       "      <td>0.053382</td>\n",
       "      <td>5</td>\n",
       "    </tr>\n",
       "    <tr>\n",
       "      <th>1</th>\n",
       "      <td>0.011121</td>\n",
       "      <td>0.001098</td>\n",
       "      <td>0.001397</td>\n",
       "      <td>0.000065</td>\n",
       "      <td>350</td>\n",
       "      <td>(1, 2)</td>\n",
       "      <td>{'countvectorizer__max_features': 350, 'countv...</td>\n",
       "      <td>0.746725</td>\n",
       "      <td>0.707424</td>\n",
       "      <td>0.694323</td>\n",
       "      <td>0.772926</td>\n",
       "      <td>0.685590</td>\n",
       "      <td>0.721397</td>\n",
       "      <td>0.033188</td>\n",
       "      <td>6</td>\n",
       "    </tr>\n",
       "    <tr>\n",
       "      <th>2</th>\n",
       "      <td>0.007432</td>\n",
       "      <td>0.000076</td>\n",
       "      <td>0.001046</td>\n",
       "      <td>0.000023</td>\n",
       "      <td>350</td>\n",
       "      <td>(2, 2)</td>\n",
       "      <td>{'countvectorizer__max_features': 350, 'countv...</td>\n",
       "      <td>0.585153</td>\n",
       "      <td>0.580786</td>\n",
       "      <td>0.589520</td>\n",
       "      <td>0.580786</td>\n",
       "      <td>0.572052</td>\n",
       "      <td>0.581659</td>\n",
       "      <td>0.005793</td>\n",
       "      <td>9</td>\n",
       "    </tr>\n",
       "    <tr>\n",
       "      <th>3</th>\n",
       "      <td>0.010050</td>\n",
       "      <td>0.000119</td>\n",
       "      <td>0.001385</td>\n",
       "      <td>0.000038</td>\n",
       "      <td>350</td>\n",
       "      <td>(2, 3)</td>\n",
       "      <td>{'countvectorizer__max_features': 350, 'countv...</td>\n",
       "      <td>0.563319</td>\n",
       "      <td>0.576419</td>\n",
       "      <td>0.593886</td>\n",
       "      <td>0.558952</td>\n",
       "      <td>0.563319</td>\n",
       "      <td>0.571179</td>\n",
       "      <td>0.012776</td>\n",
       "      <td>12</td>\n",
       "    </tr>\n",
       "    <tr>\n",
       "      <th>4</th>\n",
       "      <td>0.006931</td>\n",
       "      <td>0.000152</td>\n",
       "      <td>0.000864</td>\n",
       "      <td>0.000014</td>\n",
       "      <td>500</td>\n",
       "      <td>(1, 1)</td>\n",
       "      <td>{'countvectorizer__max_features': 500, 'countv...</td>\n",
       "      <td>0.820961</td>\n",
       "      <td>0.724891</td>\n",
       "      <td>0.759825</td>\n",
       "      <td>0.834061</td>\n",
       "      <td>0.716157</td>\n",
       "      <td>0.771179</td>\n",
       "      <td>0.048438</td>\n",
       "      <td>3</td>\n",
       "    </tr>\n",
       "    <tr>\n",
       "      <th>5</th>\n",
       "      <td>0.010753</td>\n",
       "      <td>0.000110</td>\n",
       "      <td>0.001345</td>\n",
       "      <td>0.000032</td>\n",
       "      <td>500</td>\n",
       "      <td>(1, 2)</td>\n",
       "      <td>{'countvectorizer__max_features': 500, 'countv...</td>\n",
       "      <td>0.781659</td>\n",
       "      <td>0.764192</td>\n",
       "      <td>0.742358</td>\n",
       "      <td>0.799127</td>\n",
       "      <td>0.698690</td>\n",
       "      <td>0.757205</td>\n",
       "      <td>0.034781</td>\n",
       "      <td>4</td>\n",
       "    </tr>\n",
       "    <tr>\n",
       "      <th>6</th>\n",
       "      <td>0.007582</td>\n",
       "      <td>0.000078</td>\n",
       "      <td>0.001028</td>\n",
       "      <td>0.000022</td>\n",
       "      <td>500</td>\n",
       "      <td>(2, 2)</td>\n",
       "      <td>{'countvectorizer__max_features': 500, 'countv...</td>\n",
       "      <td>0.589520</td>\n",
       "      <td>0.580786</td>\n",
       "      <td>0.589520</td>\n",
       "      <td>0.589520</td>\n",
       "      <td>0.598253</td>\n",
       "      <td>0.589520</td>\n",
       "      <td>0.005524</td>\n",
       "      <td>8</td>\n",
       "    </tr>\n",
       "    <tr>\n",
       "      <th>7</th>\n",
       "      <td>0.010255</td>\n",
       "      <td>0.000083</td>\n",
       "      <td>0.001381</td>\n",
       "      <td>0.000039</td>\n",
       "      <td>500</td>\n",
       "      <td>(2, 3)</td>\n",
       "      <td>{'countvectorizer__max_features': 500, 'countv...</td>\n",
       "      <td>0.563319</td>\n",
       "      <td>0.580786</td>\n",
       "      <td>0.593886</td>\n",
       "      <td>0.567686</td>\n",
       "      <td>0.576419</td>\n",
       "      <td>0.576419</td>\n",
       "      <td>0.010696</td>\n",
       "      <td>10</td>\n",
       "    </tr>\n",
       "    <tr>\n",
       "      <th>8</th>\n",
       "      <td>0.007279</td>\n",
       "      <td>0.000109</td>\n",
       "      <td>0.000860</td>\n",
       "      <td>0.000013</td>\n",
       "      <td>650</td>\n",
       "      <td>(1, 1)</td>\n",
       "      <td>{'countvectorizer__max_features': 650, 'countv...</td>\n",
       "      <td>0.799127</td>\n",
       "      <td>0.751092</td>\n",
       "      <td>0.781659</td>\n",
       "      <td>0.847162</td>\n",
       "      <td>0.711790</td>\n",
       "      <td>0.778166</td>\n",
       "      <td>0.045499</td>\n",
       "      <td>1</td>\n",
       "    </tr>\n",
       "    <tr>\n",
       "      <th>9</th>\n",
       "      <td>0.010998</td>\n",
       "      <td>0.000257</td>\n",
       "      <td>0.001331</td>\n",
       "      <td>0.000032</td>\n",
       "      <td>650</td>\n",
       "      <td>(1, 2)</td>\n",
       "      <td>{'countvectorizer__max_features': 650, 'countv...</td>\n",
       "      <td>0.803493</td>\n",
       "      <td>0.755459</td>\n",
       "      <td>0.794760</td>\n",
       "      <td>0.816594</td>\n",
       "      <td>0.720524</td>\n",
       "      <td>0.778166</td>\n",
       "      <td>0.035304</td>\n",
       "      <td>1</td>\n",
       "    </tr>\n",
       "    <tr>\n",
       "      <th>10</th>\n",
       "      <td>0.007928</td>\n",
       "      <td>0.000090</td>\n",
       "      <td>0.001020</td>\n",
       "      <td>0.000022</td>\n",
       "      <td>650</td>\n",
       "      <td>(2, 2)</td>\n",
       "      <td>{'countvectorizer__max_features': 650, 'countv...</td>\n",
       "      <td>0.606987</td>\n",
       "      <td>0.589520</td>\n",
       "      <td>0.593886</td>\n",
       "      <td>0.593886</td>\n",
       "      <td>0.606987</td>\n",
       "      <td>0.598253</td>\n",
       "      <td>0.007307</td>\n",
       "      <td>7</td>\n",
       "    </tr>\n",
       "    <tr>\n",
       "      <th>11</th>\n",
       "      <td>0.010916</td>\n",
       "      <td>0.000105</td>\n",
       "      <td>0.001390</td>\n",
       "      <td>0.000058</td>\n",
       "      <td>650</td>\n",
       "      <td>(2, 3)</td>\n",
       "      <td>{'countvectorizer__max_features': 650, 'countv...</td>\n",
       "      <td>0.554585</td>\n",
       "      <td>0.585153</td>\n",
       "      <td>0.593886</td>\n",
       "      <td>0.563319</td>\n",
       "      <td>0.576419</td>\n",
       "      <td>0.574672</td>\n",
       "      <td>0.014244</td>\n",
       "      <td>11</td>\n",
       "    </tr>\n",
       "  </tbody>\n",
       "</table>\n",
       "</div>"
      ],
      "text/plain": [
       "    mean_fit_time  std_fit_time  mean_score_time  std_score_time  \\\n",
       "0        0.012589      0.003691         0.001424        0.000221   \n",
       "1        0.011121      0.001098         0.001397        0.000065   \n",
       "2        0.007432      0.000076         0.001046        0.000023   \n",
       "3        0.010050      0.000119         0.001385        0.000038   \n",
       "4        0.006931      0.000152         0.000864        0.000014   \n",
       "5        0.010753      0.000110         0.001345        0.000032   \n",
       "6        0.007582      0.000078         0.001028        0.000022   \n",
       "7        0.010255      0.000083         0.001381        0.000039   \n",
       "8        0.007279      0.000109         0.000860        0.000013   \n",
       "9        0.010998      0.000257         0.001331        0.000032   \n",
       "10       0.007928      0.000090         0.001020        0.000022   \n",
       "11       0.010916      0.000105         0.001390        0.000058   \n",
       "\n",
       "   param_countvectorizer__max_features param_countvectorizer__ngram_range  \\\n",
       "0                                  350                             (1, 1)   \n",
       "1                                  350                             (1, 2)   \n",
       "2                                  350                             (2, 2)   \n",
       "3                                  350                             (2, 3)   \n",
       "4                                  500                             (1, 1)   \n",
       "5                                  500                             (1, 2)   \n",
       "6                                  500                             (2, 2)   \n",
       "7                                  500                             (2, 3)   \n",
       "8                                  650                             (1, 1)   \n",
       "9                                  650                             (1, 2)   \n",
       "10                                 650                             (2, 2)   \n",
       "11                                 650                             (2, 3)   \n",
       "\n",
       "                                               params  split0_test_score  \\\n",
       "0   {'countvectorizer__max_features': 350, 'countv...           0.772926   \n",
       "1   {'countvectorizer__max_features': 350, 'countv...           0.746725   \n",
       "2   {'countvectorizer__max_features': 350, 'countv...           0.585153   \n",
       "3   {'countvectorizer__max_features': 350, 'countv...           0.563319   \n",
       "4   {'countvectorizer__max_features': 500, 'countv...           0.820961   \n",
       "5   {'countvectorizer__max_features': 500, 'countv...           0.781659   \n",
       "6   {'countvectorizer__max_features': 500, 'countv...           0.589520   \n",
       "7   {'countvectorizer__max_features': 500, 'countv...           0.563319   \n",
       "8   {'countvectorizer__max_features': 650, 'countv...           0.799127   \n",
       "9   {'countvectorizer__max_features': 650, 'countv...           0.803493   \n",
       "10  {'countvectorizer__max_features': 650, 'countv...           0.606987   \n",
       "11  {'countvectorizer__max_features': 650, 'countv...           0.554585   \n",
       "\n",
       "    split1_test_score  split2_test_score  split3_test_score  \\\n",
       "0            0.737991           0.729258           0.799127   \n",
       "1            0.707424           0.694323           0.772926   \n",
       "2            0.580786           0.589520           0.580786   \n",
       "3            0.576419           0.593886           0.558952   \n",
       "4            0.724891           0.759825           0.834061   \n",
       "5            0.764192           0.742358           0.799127   \n",
       "6            0.580786           0.589520           0.589520   \n",
       "7            0.580786           0.593886           0.567686   \n",
       "8            0.751092           0.781659           0.847162   \n",
       "9            0.755459           0.794760           0.816594   \n",
       "10           0.589520           0.593886           0.593886   \n",
       "11           0.585153           0.593886           0.563319   \n",
       "\n",
       "    split4_test_score  mean_test_score  std_test_score  rank_test_score  \n",
       "0            0.641921         0.736245        0.053382                5  \n",
       "1            0.685590         0.721397        0.033188                6  \n",
       "2            0.572052         0.581659        0.005793                9  \n",
       "3            0.563319         0.571179        0.012776               12  \n",
       "4            0.716157         0.771179        0.048438                3  \n",
       "5            0.698690         0.757205        0.034781                4  \n",
       "6            0.598253         0.589520        0.005524                8  \n",
       "7            0.576419         0.576419        0.010696               10  \n",
       "8            0.711790         0.778166        0.045499                1  \n",
       "9            0.720524         0.778166        0.035304                1  \n",
       "10           0.606987         0.598253        0.007307                7  \n",
       "11           0.576419         0.574672        0.014244               11  "
      ]
     },
     "execution_count": 268,
     "metadata": {},
     "output_type": "execute_result"
    }
   ],
   "source": [
    "pd.DataFrame(final_gs.cv_results_)"
   ]
  },
  {
   "cell_type": "markdown",
   "id": "818d5cd5-f029-4343-b450-28aaedec6b96",
   "metadata": {},
   "source": [
    "#### Baseline / null model score"
   ]
  },
  {
   "cell_type": "code",
   "execution_count": 214,
   "id": "13d69d3b-68bc-435b-a502-91dacae96b16",
   "metadata": {
    "tags": []
   },
   "outputs": [
    {
     "data": {
      "text/plain": [
       "1    0.50419\n",
       "0    0.49581\n",
       "Name: target, dtype: float64"
      ]
     },
     "execution_count": 214,
     "metadata": {},
     "output_type": "execute_result"
    }
   ],
   "source": [
    "df['target'].value_counts(normalize = True)"
   ]
  },
  {
   "cell_type": "markdown",
   "id": "b4060d56-ff76-439b-8b7e-501929879ff5",
   "metadata": {},
   "source": [
    "##### - Baseline is 50.4%. We would be correct 50.4% of the time if we just guess 1 (Python) on every guess"
   ]
  },
  {
   "cell_type": "code",
   "execution_count": 215,
   "id": "0994c79a-eadf-4ac2-b4b5-76564adf21f9",
   "metadata": {
    "tags": []
   },
   "outputs": [
    {
     "data": {
      "text/plain": [
       "0.8327526132404182"
      ]
     },
     "execution_count": 215,
     "metadata": {},
     "output_type": "execute_result"
    }
   ],
   "source": [
    "#Accuracy\n",
    "final_gs.score(X_test, y_test)"
   ]
  },
  {
   "cell_type": "code",
   "execution_count": 216,
   "id": "086847b9-06a0-49c9-a950-88f6136bbbc4",
   "metadata": {
    "tags": []
   },
   "outputs": [
    {
     "data": {
      "text/plain": [
       "0.9781659388646288"
      ]
     },
     "execution_count": 216,
     "metadata": {},
     "output_type": "execute_result"
    }
   ],
   "source": [
    "#Accuracy\n",
    "final_gs.score(X_train, y_train)"
   ]
  },
  {
   "cell_type": "markdown",
   "id": "8526242e-25d8-41bc-bd0c-94604af042af",
   "metadata": {},
   "source": [
    "##### - The model performed a lot better on training data than it did test data. It is a little overfit."
   ]
  },
  {
   "cell_type": "code",
   "execution_count": 229,
   "id": "95521569-e7e2-45f8-9e66-58f2e4ba895e",
   "metadata": {
    "tags": []
   },
   "outputs": [],
   "source": [
    "final_preds = final_gs.predict(X_test)"
   ]
  },
  {
   "cell_type": "code",
   "execution_count": 230,
   "id": "b2484c8b-91d5-487a-8a8f-cc8edd4b83a7",
   "metadata": {
    "tags": []
   },
   "outputs": [
    {
     "data": {
      "text/plain": [
       "0.8322972316658572"
      ]
     },
     "execution_count": 230,
     "metadata": {},
     "output_type": "execute_result"
    }
   ],
   "source": [
    "balanced_accuracy_score(y_test, final_preds)"
   ]
  },
  {
   "cell_type": "code",
   "execution_count": 218,
   "id": "ca94c1c3-f7f3-4b7d-aed0-fde9203ba8b4",
   "metadata": {
    "tags": []
   },
   "outputs": [
    {
     "data": {
      "image/png": "[encoded data removed]",
      "text/plain": [
       "<Figure size 640x480 with 1 Axes>"
      ]
     },
     "metadata": {},
     "output_type": "display_data"
    }
   ],
   "source": [
    "RocCurveDisplay.from_estimator(final_gs, X_test, y_test);"
   ]
  },
  {
   "cell_type": "code",
   "execution_count": 231,
   "id": "f4e41932-0755-46e0-a987-a845c1faf05c",
   "metadata": {
    "tags": []
   },
   "outputs": [
    {
     "data": {
      "text/plain": [
       "0.8089171974522293"
      ]
     },
     "execution_count": 231,
     "metadata": {},
     "output_type": "execute_result"
    }
   ],
   "source": [
    "precision_score(y_test, final_preds)"
   ]
  },
  {
   "cell_type": "code",
   "execution_count": 232,
   "id": "744d2e49-cd9c-4d10-93cf-c46f512b1bdc",
   "metadata": {
    "tags": []
   },
   "outputs": [
    {
     "data": {
      "text/plain": [
       "0.8758620689655172"
      ]
     },
     "execution_count": 232,
     "metadata": {},
     "output_type": "execute_result"
    }
   ],
   "source": [
    "recall_score(y_test, final_preds)"
   ]
  },
  {
   "cell_type": "code",
   "execution_count": 233,
   "id": "4f950114-56b6-4634-904f-d3fcfcc130f3",
   "metadata": {
    "tags": []
   },
   "outputs": [
    {
     "data": {
      "text/plain": [
       "0.8410596026490067"
      ]
     },
     "execution_count": 233,
     "metadata": {},
     "output_type": "execute_result"
    }
   ],
   "source": [
    "f1_score(y_test, final_preds)"
   ]
  },
  {
   "cell_type": "code",
   "execution_count": 256,
   "id": "2d780634-77d6-409c-a382-ad9e0f56b265",
   "metadata": {
    "tags": []
   },
   "outputs": [
    {
     "data": {
      "text/plain": [
       "Text(0.5, 1.0, 'Confusion Matrix (1 = Py, 0 = Js)')"
      ]
     },
     "execution_count": 256,
     "metadata": {},
     "output_type": "execute_result"
    },
    {
     "data": {
      "image/png": "[encoded data removed]",
      "text/plain": [
       "<Figure size 640x480 with 2 Axes>"
      ]
     },
     "metadata": {},
     "output_type": "display_data"
    }
   ],
   "source": [
    "ConfusionMatrixDisplay.from_estimator(final_gs, X_test, y_test, cmap = 'Blues')\n",
    "plt.title('Confusion Matrix (1 = Py, 0 = Js)')"
   ]
  },
  {
   "cell_type": "markdown",
   "id": "79e4d55b-7fe6-4d22-a99d-65d436f0fa8d",
   "metadata": {},
   "source": [
    "### Let's now take a look at which feature (words) performed best with Logistic Regression and CountVectorizer"
   ]
  },
  {
   "cell_type": "code",
   "execution_count": 223,
   "id": "e1b6e621-6ea1-40e4-ac02-b08e60135b5b",
   "metadata": {
    "tags": []
   },
   "outputs": [],
   "source": [
    "df_coef = pd.DataFrame(zip(\n",
    "    final_gs.best_estimator_.named_steps.countvectorizer.get_feature_names_out(),  \n",
    "    final_gs.best_estimator_.named_steps.logisticregression.coef_[0]\n",
    "), columns = ['Text', 'Coefficient']).sort_values(by = 'Coefficient', ascending = False)"
   ]
  },
  {
   "cell_type": "markdown",
   "id": "6d6cf013-0a86-4dac-9604-7a1c4c453c71",
   "metadata": {},
   "source": [
    "#### 50 words with highest positive coefficients"
   ]
  },
  {
   "cell_type": "code",
   "execution_count": 257,
   "id": "52610d52-8d05-40b1-ae93-5ab10d6de1f4",
   "metadata": {
    "tags": []
   },
   "outputs": [
    {
     "data": {
      "text/html": [
       "<div>\n",
       "<style scoped>\n",
       "    .dataframe tbody tr th:only-of-type {\n",
       "        vertical-align: middle;\n",
       "    }\n",
       "\n",
       "    .dataframe tbody tr th {\n",
       "        vertical-align: top;\n",
       "    }\n",
       "\n",
       "    .dataframe thead th {\n",
       "        text-align: right;\n",
       "    }\n",
       "</style>\n",
       "<table border=\"1\" class=\"dataframe\">\n",
       "  <thead>\n",
       "    <tr style=\"text-align: right;\">\n",
       "      <th></th>\n",
       "      <th>Text</th>\n",
       "      <th>Coefficient</th>\n",
       "    </tr>\n",
       "  </thead>\n",
       "  <tbody>\n",
       "    <tr>\n",
       "      <th>323</th>\n",
       "      <td>like</td>\n",
       "      <td>0.441935</td>\n",
       "    </tr>\n",
       "    <tr>\n",
       "      <th>641</th>\n",
       "      <td>write</td>\n",
       "      <td>0.438906</td>\n",
       "    </tr>\n",
       "    <tr>\n",
       "      <th>498</th>\n",
       "      <td>scraping</td>\n",
       "      <td>0.433677</td>\n",
       "    </tr>\n",
       "    <tr>\n",
       "      <th>87</th>\n",
       "      <td>chatbot</td>\n",
       "      <td>0.410597</td>\n",
       "    </tr>\n",
       "    <tr>\n",
       "      <th>160</th>\n",
       "      <td>django</td>\n",
       "      <td>0.404966</td>\n",
       "    </tr>\n",
       "    <tr>\n",
       "      <th>216</th>\n",
       "      <td>flask</td>\n",
       "      <td>0.394487</td>\n",
       "    </tr>\n",
       "    <tr>\n",
       "      <th>49</th>\n",
       "      <td>authentication</td>\n",
       "      <td>0.391147</td>\n",
       "    </tr>\n",
       "    <tr>\n",
       "      <th>522</th>\n",
       "      <td>simple</td>\n",
       "      <td>0.384914</td>\n",
       "    </tr>\n",
       "    <tr>\n",
       "      <th>205</th>\n",
       "      <td>fastapi</td>\n",
       "      <td>0.379330</td>\n",
       "    </tr>\n",
       "    <tr>\n",
       "      <th>126</th>\n",
       "      <td>course</td>\n",
       "      <td>0.378935</td>\n",
       "    </tr>\n",
       "    <tr>\n",
       "      <th>367</th>\n",
       "      <td>module</td>\n",
       "      <td>0.376225</td>\n",
       "    </tr>\n",
       "    <tr>\n",
       "      <th>343</th>\n",
       "      <td>made</td>\n",
       "      <td>0.375934</td>\n",
       "    </tr>\n",
       "    <tr>\n",
       "      <th>272</th>\n",
       "      <td>inspired</td>\n",
       "      <td>0.347232</td>\n",
       "    </tr>\n",
       "    <tr>\n",
       "      <th>591</th>\n",
       "      <td>tutorial</td>\n",
       "      <td>0.340496</td>\n",
       "    </tr>\n",
       "    <tr>\n",
       "      <th>331</th>\n",
       "      <td>llm</td>\n",
       "      <td>0.334289</td>\n",
       "    </tr>\n",
       "    <tr>\n",
       "      <th>198</th>\n",
       "      <td>expose</td>\n",
       "      <td>0.333012</td>\n",
       "    </tr>\n",
       "    <tr>\n",
       "      <th>386</th>\n",
       "      <td>news</td>\n",
       "      <td>0.331519</td>\n",
       "    </tr>\n",
       "    <tr>\n",
       "      <th>138</th>\n",
       "      <td>data</td>\n",
       "      <td>0.328878</td>\n",
       "    </tr>\n",
       "    <tr>\n",
       "      <th>495</th>\n",
       "      <td>schema</td>\n",
       "      <td>0.327800</td>\n",
       "    </tr>\n",
       "    <tr>\n",
       "      <th>497</th>\n",
       "      <td>scraper</td>\n",
       "      <td>0.327622</td>\n",
       "    </tr>\n",
       "    <tr>\n",
       "      <th>81</th>\n",
       "      <td>certain</td>\n",
       "      <td>0.320744</td>\n",
       "    </tr>\n",
       "    <tr>\n",
       "      <th>151</th>\n",
       "      <td>detection</td>\n",
       "      <td>0.313102</td>\n",
       "    </tr>\n",
       "    <tr>\n",
       "      <th>361</th>\n",
       "      <td>minute</td>\n",
       "      <td>0.308802</td>\n",
       "    </tr>\n",
       "    <tr>\n",
       "      <th>375</th>\n",
       "      <td>mypy</td>\n",
       "      <td>0.307890</td>\n",
       "    </tr>\n",
       "    <tr>\n",
       "      <th>342</th>\n",
       "      <td>machine</td>\n",
       "      <td>0.304447</td>\n",
       "    </tr>\n",
       "    <tr>\n",
       "      <th>57</th>\n",
       "      <td>beginner</td>\n",
       "      <td>0.300471</td>\n",
       "    </tr>\n",
       "    <tr>\n",
       "      <th>59</th>\n",
       "      <td>best</td>\n",
       "      <td>0.298701</td>\n",
       "    </tr>\n",
       "    <tr>\n",
       "      <th>112</th>\n",
       "      <td>competition</td>\n",
       "      <td>0.295699</td>\n",
       "    </tr>\n",
       "    <tr>\n",
       "      <th>510</th>\n",
       "      <td>series</td>\n",
       "      <td>0.288504</td>\n",
       "    </tr>\n",
       "    <tr>\n",
       "      <th>477</th>\n",
       "      <td>request</td>\n",
       "      <td>0.283840</td>\n",
       "    </tr>\n",
       "    <tr>\n",
       "      <th>457</th>\n",
       "      <td>query</td>\n",
       "      <td>0.278421</td>\n",
       "    </tr>\n",
       "    <tr>\n",
       "      <th>413</th>\n",
       "      <td>panda</td>\n",
       "      <td>0.275662</td>\n",
       "    </tr>\n",
       "    <tr>\n",
       "      <th>552</th>\n",
       "      <td>story</td>\n",
       "      <td>0.273870</td>\n",
       "    </tr>\n",
       "    <tr>\n",
       "      <th>94</th>\n",
       "      <td>clean</td>\n",
       "      <td>0.271052</td>\n",
       "    </tr>\n",
       "    <tr>\n",
       "      <th>643</th>\n",
       "      <td>written</td>\n",
       "      <td>0.268241</td>\n",
       "    </tr>\n",
       "    <tr>\n",
       "      <th>420</th>\n",
       "      <td>pep</td>\n",
       "      <td>0.267842</td>\n",
       "    </tr>\n",
       "    <tr>\n",
       "      <th>423</th>\n",
       "      <td>pilot</td>\n",
       "      <td>0.261614</td>\n",
       "    </tr>\n",
       "    <tr>\n",
       "      <th>101</th>\n",
       "      <td>cmd2</td>\n",
       "      <td>0.259293</td>\n",
       "    </tr>\n",
       "    <tr>\n",
       "      <th>313</th>\n",
       "      <td>learning</td>\n",
       "      <td>0.257849</td>\n",
       "    </tr>\n",
       "    <tr>\n",
       "      <th>51</th>\n",
       "      <td>aws</td>\n",
       "      <td>0.256782</td>\n",
       "    </tr>\n",
       "    <tr>\n",
       "      <th>519</th>\n",
       "      <td>show</td>\n",
       "      <td>0.247436</td>\n",
       "    </tr>\n",
       "    <tr>\n",
       "      <th>615</th>\n",
       "      <td>video</td>\n",
       "      <td>0.245711</td>\n",
       "    </tr>\n",
       "    <tr>\n",
       "      <th>493</th>\n",
       "      <td>sanic</td>\n",
       "      <td>0.244225</td>\n",
       "    </tr>\n",
       "    <tr>\n",
       "      <th>463</th>\n",
       "      <td>real</td>\n",
       "      <td>0.243937</td>\n",
       "    </tr>\n",
       "    <tr>\n",
       "      <th>454</th>\n",
       "      <td>pytest</td>\n",
       "      <td>0.243518</td>\n",
       "    </tr>\n",
       "    <tr>\n",
       "      <th>175</th>\n",
       "      <td>efficient</td>\n",
       "      <td>0.243230</td>\n",
       "    </tr>\n",
       "    <tr>\n",
       "      <th>402</th>\n",
       "      <td>optimization</td>\n",
       "      <td>0.238050</td>\n",
       "    </tr>\n",
       "    <tr>\n",
       "      <th>587</th>\n",
       "      <td>tool</td>\n",
       "      <td>0.234660</td>\n",
       "    </tr>\n",
       "    <tr>\n",
       "      <th>315</th>\n",
       "      <td>left</td>\n",
       "      <td>0.233245</td>\n",
       "    </tr>\n",
       "    <tr>\n",
       "      <th>24</th>\n",
       "      <td>algorithm</td>\n",
       "      <td>0.232520</td>\n",
       "    </tr>\n",
       "  </tbody>\n",
       "</table>\n",
       "</div>"
      ],
      "text/plain": [
       "               Text  Coefficient\n",
       "323            like     0.441935\n",
       "641           write     0.438906\n",
       "498        scraping     0.433677\n",
       "87          chatbot     0.410597\n",
       "160          django     0.404966\n",
       "216           flask     0.394487\n",
       "49   authentication     0.391147\n",
       "522          simple     0.384914\n",
       "205         fastapi     0.379330\n",
       "126          course     0.378935\n",
       "367          module     0.376225\n",
       "343            made     0.375934\n",
       "272        inspired     0.347232\n",
       "591        tutorial     0.340496\n",
       "331             llm     0.334289\n",
       "198          expose     0.333012\n",
       "386            news     0.331519\n",
       "138            data     0.328878\n",
       "495          schema     0.327800\n",
       "497         scraper     0.327622\n",
       "81          certain     0.320744\n",
       "151       detection     0.313102\n",
       "361          minute     0.308802\n",
       "375            mypy     0.307890\n",
       "342         machine     0.304447\n",
       "57         beginner     0.300471\n",
       "59             best     0.298701\n",
       "112     competition     0.295699\n",
       "510          series     0.288504\n",
       "477         request     0.283840\n",
       "457           query     0.278421\n",
       "413           panda     0.275662\n",
       "552           story     0.273870\n",
       "94            clean     0.271052\n",
       "643         written     0.268241\n",
       "420             pep     0.267842\n",
       "423           pilot     0.261614\n",
       "101            cmd2     0.259293\n",
       "313        learning     0.257849\n",
       "51              aws     0.256782\n",
       "519            show     0.247436\n",
       "615           video     0.245711\n",
       "493           sanic     0.244225\n",
       "463            real     0.243937\n",
       "454          pytest     0.243518\n",
       "175       efficient     0.243230\n",
       "402    optimization     0.238050\n",
       "587            tool     0.234660\n",
       "315            left     0.233245\n",
       "24        algorithm     0.232520"
      ]
     },
     "execution_count": 257,
     "metadata": {},
     "output_type": "execute_result"
    }
   ],
   "source": [
    "df_coef.head(50)"
   ]
  },
  {
   "cell_type": "markdown",
   "id": "6e4ca72c-41ab-4662-b34a-01116955ea84",
   "metadata": {},
   "source": [
    "#### 50 words with strongest negative coefficients"
   ]
  },
  {
   "cell_type": "code",
   "execution_count": 153,
   "id": "da621564-6d65-4f50-8201-82c876ce3b4f",
   "metadata": {
    "tags": []
   },
   "outputs": [
    {
     "data": {
      "text/html": [
       "<div>\n",
       "<style scoped>\n",
       "    .dataframe tbody tr th:only-of-type {\n",
       "        vertical-align: middle;\n",
       "    }\n",
       "\n",
       "    .dataframe tbody tr th {\n",
       "        vertical-align: top;\n",
       "    }\n",
       "\n",
       "    .dataframe thead th {\n",
       "        text-align: right;\n",
       "    }\n",
       "</style>\n",
       "<table border=\"1\" class=\"dataframe\">\n",
       "  <thead>\n",
       "    <tr style=\"text-align: right;\">\n",
       "      <th></th>\n",
       "      <th>Text</th>\n",
       "      <th>Coefficient</th>\n",
       "    </tr>\n",
       "  </thead>\n",
       "  <tbody>\n",
       "    <tr>\n",
       "      <th>81</th>\n",
       "      <td>building</td>\n",
       "      <td>-0.284874</td>\n",
       "    </tr>\n",
       "    <tr>\n",
       "      <th>333</th>\n",
       "      <td>local</td>\n",
       "      <td>-0.286346</td>\n",
       "    </tr>\n",
       "    <tr>\n",
       "      <th>109</th>\n",
       "      <td>comment</td>\n",
       "      <td>-0.289191</td>\n",
       "    </tr>\n",
       "    <tr>\n",
       "      <th>69</th>\n",
       "      <td>best</td>\n",
       "      <td>-0.289743</td>\n",
       "    </tr>\n",
       "    <tr>\n",
       "      <th>26</th>\n",
       "      <td>ai</td>\n",
       "      <td>-0.289834</td>\n",
       "    </tr>\n",
       "    <tr>\n",
       "      <th>93</th>\n",
       "      <td>chatgpt</td>\n",
       "      <td>-0.291844</td>\n",
       "    </tr>\n",
       "    <tr>\n",
       "      <th>226</th>\n",
       "      <td>framework</td>\n",
       "      <td>-0.291885</td>\n",
       "    </tr>\n",
       "    <tr>\n",
       "      <th>630</th>\n",
       "      <td>without</td>\n",
       "      <td>-0.292179</td>\n",
       "    </tr>\n",
       "    <tr>\n",
       "      <th>303</th>\n",
       "      <td>json</td>\n",
       "      <td>-0.303090</td>\n",
       "    </tr>\n",
       "    <tr>\n",
       "      <th>190</th>\n",
       "      <td>every</td>\n",
       "      <td>-0.303261</td>\n",
       "    </tr>\n",
       "    <tr>\n",
       "      <th>150</th>\n",
       "      <td>design</td>\n",
       "      <td>-0.306323</td>\n",
       "    </tr>\n",
       "    <tr>\n",
       "      <th>506</th>\n",
       "      <td>server</td>\n",
       "      <td>-0.307292</td>\n",
       "    </tr>\n",
       "    <tr>\n",
       "      <th>461</th>\n",
       "      <td>react</td>\n",
       "      <td>-0.307405</td>\n",
       "    </tr>\n",
       "    <tr>\n",
       "      <th>147</th>\n",
       "      <td>default</td>\n",
       "      <td>-0.308860</td>\n",
       "    </tr>\n",
       "    <tr>\n",
       "      <th>124</th>\n",
       "      <td>cool</td>\n",
       "      <td>-0.311810</td>\n",
       "    </tr>\n",
       "    <tr>\n",
       "      <th>529</th>\n",
       "      <td>space</td>\n",
       "      <td>-0.312562</td>\n",
       "    </tr>\n",
       "    <tr>\n",
       "      <th>70</th>\n",
       "      <td>better</td>\n",
       "      <td>-0.313054</td>\n",
       "    </tr>\n",
       "    <tr>\n",
       "      <th>567</th>\n",
       "      <td>thank</td>\n",
       "      <td>-0.313526</td>\n",
       "    </tr>\n",
       "    <tr>\n",
       "      <th>613</th>\n",
       "      <td>virtual</td>\n",
       "      <td>-0.315453</td>\n",
       "    </tr>\n",
       "    <tr>\n",
       "      <th>354</th>\n",
       "      <td>maven</td>\n",
       "      <td>-0.316633</td>\n",
       "    </tr>\n",
       "    <tr>\n",
       "      <th>379</th>\n",
       "      <td>native</td>\n",
       "      <td>-0.321607</td>\n",
       "    </tr>\n",
       "    <tr>\n",
       "      <th>229</th>\n",
       "      <td>full</td>\n",
       "      <td>-0.325239</td>\n",
       "    </tr>\n",
       "    <tr>\n",
       "      <th>248</th>\n",
       "      <td>giving</td>\n",
       "      <td>-0.331427</td>\n",
       "    </tr>\n",
       "    <tr>\n",
       "      <th>309</th>\n",
       "      <td>kind</td>\n",
       "      <td>-0.335787</td>\n",
       "    </tr>\n",
       "    <tr>\n",
       "      <th>596</th>\n",
       "      <td>update</td>\n",
       "      <td>-0.348666</td>\n",
       "    </tr>\n",
       "    <tr>\n",
       "      <th>359</th>\n",
       "      <td>memory</td>\n",
       "      <td>-0.348933</td>\n",
       "    </tr>\n",
       "    <tr>\n",
       "      <th>493</th>\n",
       "      <td>said</td>\n",
       "      <td>-0.349233</td>\n",
       "    </tr>\n",
       "    <tr>\n",
       "      <th>541</th>\n",
       "      <td>static</td>\n",
       "      <td>-0.354583</td>\n",
       "    </tr>\n",
       "    <tr>\n",
       "      <th>569</th>\n",
       "      <td>that</td>\n",
       "      <td>-0.355211</td>\n",
       "    </tr>\n",
       "    <tr>\n",
       "      <th>265</th>\n",
       "      <td>here</td>\n",
       "      <td>-0.355276</td>\n",
       "    </tr>\n",
       "    <tr>\n",
       "      <th>305</th>\n",
       "      <td>jvm</td>\n",
       "      <td>-0.355780</td>\n",
       "    </tr>\n",
       "    <tr>\n",
       "      <th>299</th>\n",
       "      <td>jdk</td>\n",
       "      <td>-0.362960</td>\n",
       "    </tr>\n",
       "    <tr>\n",
       "      <th>472</th>\n",
       "      <td>reddit</td>\n",
       "      <td>-0.364674</td>\n",
       "    </tr>\n",
       "    <tr>\n",
       "      <th>380</th>\n",
       "      <td>need</td>\n",
       "      <td>-0.370067</td>\n",
       "    </tr>\n",
       "    <tr>\n",
       "      <th>10</th>\n",
       "      <td>21</td>\n",
       "      <td>-0.379598</td>\n",
       "    </tr>\n",
       "    <tr>\n",
       "      <th>409</th>\n",
       "      <td>page</td>\n",
       "      <td>-0.380241</td>\n",
       "    </tr>\n",
       "    <tr>\n",
       "      <th>397</th>\n",
       "      <td>open</td>\n",
       "      <td>-0.416364</td>\n",
       "    </tr>\n",
       "    <tr>\n",
       "      <th>324</th>\n",
       "      <td>library</td>\n",
       "      <td>-0.451403</td>\n",
       "    </tr>\n",
       "    <tr>\n",
       "      <th>76</th>\n",
       "      <td>boot</td>\n",
       "      <td>-0.458376</td>\n",
       "    </tr>\n",
       "    <tr>\n",
       "      <th>385</th>\n",
       "      <td>next</td>\n",
       "      <td>-0.459161</td>\n",
       "    </tr>\n",
       "    <tr>\n",
       "      <th>417</th>\n",
       "      <td>performance</td>\n",
       "      <td>-0.466426</td>\n",
       "    </tr>\n",
       "    <tr>\n",
       "      <th>176</th>\n",
       "      <td>edit</td>\n",
       "      <td>-0.470382</td>\n",
       "    </tr>\n",
       "    <tr>\n",
       "      <th>115</th>\n",
       "      <td>component</td>\n",
       "      <td>-0.472843</td>\n",
       "    </tr>\n",
       "    <tr>\n",
       "      <th>646</th>\n",
       "      <td>yet</td>\n",
       "      <td>-0.476622</td>\n",
       "    </tr>\n",
       "    <tr>\n",
       "      <th>281</th>\n",
       "      <td>improvement</td>\n",
       "      <td>-0.477747</td>\n",
       "    </tr>\n",
       "    <tr>\n",
       "      <th>386</th>\n",
       "      <td>node</td>\n",
       "      <td>-0.496043</td>\n",
       "    </tr>\n",
       "    <tr>\n",
       "      <th>592</th>\n",
       "      <td>ui</td>\n",
       "      <td>-0.496490</td>\n",
       "    </tr>\n",
       "    <tr>\n",
       "      <th>402</th>\n",
       "      <td>oracle</td>\n",
       "      <td>-0.525896</td>\n",
       "    </tr>\n",
       "    <tr>\n",
       "      <th>533</th>\n",
       "      <td>spring</td>\n",
       "      <td>-0.551096</td>\n",
       "    </tr>\n",
       "    <tr>\n",
       "      <th>590</th>\n",
       "      <td>typescript</td>\n",
       "      <td>-0.657869</td>\n",
       "    </tr>\n",
       "  </tbody>\n",
       "</table>\n",
       "</div>"
      ],
      "text/plain": [
       "            Text  Coefficient\n",
       "81      building    -0.284874\n",
       "333        local    -0.286346\n",
       "109      comment    -0.289191\n",
       "69          best    -0.289743\n",
       "26            ai    -0.289834\n",
       "93       chatgpt    -0.291844\n",
       "226    framework    -0.291885\n",
       "630      without    -0.292179\n",
       "303         json    -0.303090\n",
       "190        every    -0.303261\n",
       "150       design    -0.306323\n",
       "506       server    -0.307292\n",
       "461        react    -0.307405\n",
       "147      default    -0.308860\n",
       "124         cool    -0.311810\n",
       "529        space    -0.312562\n",
       "70        better    -0.313054\n",
       "567        thank    -0.313526\n",
       "613      virtual    -0.315453\n",
       "354        maven    -0.316633\n",
       "379       native    -0.321607\n",
       "229         full    -0.325239\n",
       "248       giving    -0.331427\n",
       "309         kind    -0.335787\n",
       "596       update    -0.348666\n",
       "359       memory    -0.348933\n",
       "493         said    -0.349233\n",
       "541       static    -0.354583\n",
       "569         that    -0.355211\n",
       "265         here    -0.355276\n",
       "305          jvm    -0.355780\n",
       "299          jdk    -0.362960\n",
       "472       reddit    -0.364674\n",
       "380         need    -0.370067\n",
       "10            21    -0.379598\n",
       "409         page    -0.380241\n",
       "397         open    -0.416364\n",
       "324      library    -0.451403\n",
       "76          boot    -0.458376\n",
       "385         next    -0.459161\n",
       "417  performance    -0.466426\n",
       "176         edit    -0.470382\n",
       "115    component    -0.472843\n",
       "646          yet    -0.476622\n",
       "281  improvement    -0.477747\n",
       "386         node    -0.496043\n",
       "592           ui    -0.496490\n",
       "402       oracle    -0.525896\n",
       "533       spring    -0.551096\n",
       "590   typescript    -0.657869"
      ]
     },
     "execution_count": 153,
     "metadata": {},
     "output_type": "execute_result"
    }
   ],
   "source": [
    "df_coef.tail(50)"
   ]
  },
  {
   "cell_type": "code",
   "execution_count": 266,
   "id": "911acc65-13d7-4b54-bb4f-db2c732b4bd6",
   "metadata": {
    "tags": []
   },
   "outputs": [
    {
     "data": {
      "text/html": [
       "<div>\n",
       "<style scoped>\n",
       "    .dataframe tbody tr th:only-of-type {\n",
       "        vertical-align: middle;\n",
       "    }\n",
       "\n",
       "    .dataframe tbody tr th {\n",
       "        vertical-align: top;\n",
       "    }\n",
       "\n",
       "    .dataframe thead th {\n",
       "        text-align: right;\n",
       "    }\n",
       "</style>\n",
       "<table border=\"1\" class=\"dataframe\">\n",
       "  <thead>\n",
       "    <tr style=\"text-align: right;\">\n",
       "      <th></th>\n",
       "      <th>Text</th>\n",
       "      <th>Coefficient</th>\n",
       "    </tr>\n",
       "  </thead>\n",
       "  <tbody>\n",
       "    <tr>\n",
       "      <th>0</th>\n",
       "      <td>like</td>\n",
       "      <td>0.441935</td>\n",
       "    </tr>\n",
       "    <tr>\n",
       "      <th>1</th>\n",
       "      <td>write</td>\n",
       "      <td>0.438906</td>\n",
       "    </tr>\n",
       "    <tr>\n",
       "      <th>2</th>\n",
       "      <td>scraping</td>\n",
       "      <td>0.433677</td>\n",
       "    </tr>\n",
       "    <tr>\n",
       "      <th>3</th>\n",
       "      <td>chatbot</td>\n",
       "      <td>0.410597</td>\n",
       "    </tr>\n",
       "    <tr>\n",
       "      <th>4</th>\n",
       "      <td>django</td>\n",
       "      <td>0.404966</td>\n",
       "    </tr>\n",
       "    <tr>\n",
       "      <th>5</th>\n",
       "      <td>typescript</td>\n",
       "      <td>-0.454764</td>\n",
       "    </tr>\n",
       "    <tr>\n",
       "      <th>6</th>\n",
       "      <td>browser</td>\n",
       "      <td>-0.561219</td>\n",
       "    </tr>\n",
       "    <tr>\n",
       "      <th>7</th>\n",
       "      <td>react</td>\n",
       "      <td>-0.582486</td>\n",
       "    </tr>\n",
       "    <tr>\n",
       "      <th>8</th>\n",
       "      <td>spring</td>\n",
       "      <td>-0.738259</td>\n",
       "    </tr>\n",
       "    <tr>\n",
       "      <th>9</th>\n",
       "      <td>askjs</td>\n",
       "      <td>-0.747814</td>\n",
       "    </tr>\n",
       "  </tbody>\n",
       "</table>\n",
       "</div>"
      ],
      "text/plain": [
       "         Text  Coefficient\n",
       "0        like     0.441935\n",
       "1       write     0.438906\n",
       "2    scraping     0.433677\n",
       "3     chatbot     0.410597\n",
       "4      django     0.404966\n",
       "5  typescript    -0.454764\n",
       "6     browser    -0.561219\n",
       "7       react    -0.582486\n",
       "8      spring    -0.738259\n",
       "9       askjs    -0.747814"
      ]
     },
     "execution_count": 266,
     "metadata": {},
     "output_type": "execute_result"
    }
   ],
   "source": [
    "pd.concat([df_coef.head(5), df_coef.tail(5)]).reset_index(drop = True).sort_values(by = 'Coefficient', ascending = False)"
   ]
  },
  {
   "cell_type": "markdown",
   "id": "b5eeec33-344b-4874-af9e-118cc3f3e5ff",
   "metadata": {},
   "source": [
    "### Interpretation of the Coefficients"
   ]
  },
  {
   "cell_type": "markdown",
   "id": "571c575d-37ad-4552-b2d6-2bfea38b9f5d",
   "metadata": {},
   "source": [
    "##### **The presence of the `askjs` feature (word) decreases the probability that a post will be in the `Python` class (subreddit) by 74%**"
   ]
  },
  {
   "cell_type": "markdown",
   "id": "c9b9bd23-70d2-491d-ae8d-89de7c3a52f6",
   "metadata": {},
   "source": [
    "##### **The presence of the `scraping` feature (word) increases the probability that a post will be in the `Python` class (subreddit) by 44%**"
   ]
  }
 ],
 "metadata": {
  "kernelspec": {
   "display_name": "Python 3 (ipykernel)",
   "language": "python",
   "name": "python3"
  },
  "language_info": {
   "codemirror_mode": {
    "name": "ipython",
    "version": 3
   },
   "file_extension": ".py",
   "mimetype": "text/x-python",
   "name": "python",
   "nbconvert_exporter": "python",
   "pygments_lexer": "ipython3",
   "version": "3.11.4"
  }
 },
 "nbformat": 4,
 "nbformat_minor": 5
}
